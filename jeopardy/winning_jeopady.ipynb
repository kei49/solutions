{
 "cells": [
  {
   "cell_type": "markdown",
   "metadata": {},
   "source": [
    "# Winning Jeoopady\n",
    "\n",
    "In this project, we want to win on Jeopady, a popular TV show in the U.S.\n",
    "\n",
    "To study the historical questions on Jeopady, we will analyze a dataset from [reddit](https://www.reddit.com/r/datasets/comments/1uyd0t/200000_jeopardy_questions_in_a_json_file/)."
   ]
  },
  {
   "cell_type": "code",
   "execution_count": 1,
   "metadata": {
    "scrolled": true
   },
   "outputs": [
    {
     "name": "stdout",
     "output_type": "stream",
     "text": [
      "(216930, 7)\n"
     ]
    },
    {
     "data": {
      "text/html": [
       "<div>\n",
       "<style scoped>\n",
       "    .dataframe tbody tr th:only-of-type {\n",
       "        vertical-align: middle;\n",
       "    }\n",
       "\n",
       "    .dataframe tbody tr th {\n",
       "        vertical-align: top;\n",
       "    }\n",
       "\n",
       "    .dataframe thead th {\n",
       "        text-align: right;\n",
       "    }\n",
       "</style>\n",
       "<table border=\"1\" class=\"dataframe\">\n",
       "  <thead>\n",
       "    <tr style=\"text-align: right;\">\n",
       "      <th></th>\n",
       "      <th>Show Number</th>\n",
       "      <th>Air Date</th>\n",
       "      <th>Round</th>\n",
       "      <th>Category</th>\n",
       "      <th>Value</th>\n",
       "      <th>Question</th>\n",
       "      <th>Answer</th>\n",
       "    </tr>\n",
       "  </thead>\n",
       "  <tbody>\n",
       "    <tr>\n",
       "      <th>0</th>\n",
       "      <td>4680</td>\n",
       "      <td>2004-12-31</td>\n",
       "      <td>Jeopardy!</td>\n",
       "      <td>HISTORY</td>\n",
       "      <td>$200</td>\n",
       "      <td>For the last 8 years of his life, Galileo was ...</td>\n",
       "      <td>Copernicus</td>\n",
       "    </tr>\n",
       "    <tr>\n",
       "      <th>1</th>\n",
       "      <td>4680</td>\n",
       "      <td>2004-12-31</td>\n",
       "      <td>Jeopardy!</td>\n",
       "      <td>ESPN's TOP 10 ALL-TIME ATHLETES</td>\n",
       "      <td>$200</td>\n",
       "      <td>No. 2: 1912 Olympian; football star at Carlisl...</td>\n",
       "      <td>Jim Thorpe</td>\n",
       "    </tr>\n",
       "    <tr>\n",
       "      <th>2</th>\n",
       "      <td>4680</td>\n",
       "      <td>2004-12-31</td>\n",
       "      <td>Jeopardy!</td>\n",
       "      <td>EVERYBODY TALKS ABOUT IT...</td>\n",
       "      <td>$200</td>\n",
       "      <td>The city of Yuma in this state has a record av...</td>\n",
       "      <td>Arizona</td>\n",
       "    </tr>\n",
       "    <tr>\n",
       "      <th>3</th>\n",
       "      <td>4680</td>\n",
       "      <td>2004-12-31</td>\n",
       "      <td>Jeopardy!</td>\n",
       "      <td>THE COMPANY LINE</td>\n",
       "      <td>$200</td>\n",
       "      <td>In 1963, live on \"The Art Linkletter Show\", th...</td>\n",
       "      <td>McDonald's</td>\n",
       "    </tr>\n",
       "    <tr>\n",
       "      <th>4</th>\n",
       "      <td>4680</td>\n",
       "      <td>2004-12-31</td>\n",
       "      <td>Jeopardy!</td>\n",
       "      <td>EPITAPHS &amp; TRIBUTES</td>\n",
       "      <td>$200</td>\n",
       "      <td>Signer of the Dec. of Indep., framer of the Co...</td>\n",
       "      <td>John Adams</td>\n",
       "    </tr>\n",
       "  </tbody>\n",
       "</table>\n",
       "</div>"
      ],
      "text/plain": [
       "   Show Number    Air Date      Round                         Category  Value  \\\n",
       "0         4680  2004-12-31  Jeopardy!                          HISTORY   $200   \n",
       "1         4680  2004-12-31  Jeopardy!  ESPN's TOP 10 ALL-TIME ATHLETES   $200   \n",
       "2         4680  2004-12-31  Jeopardy!      EVERYBODY TALKS ABOUT IT...   $200   \n",
       "3         4680  2004-12-31  Jeopardy!                 THE COMPANY LINE   $200   \n",
       "4         4680  2004-12-31  Jeopardy!              EPITAPHS & TRIBUTES   $200   \n",
       "\n",
       "                                            Question      Answer  \n",
       "0  For the last 8 years of his life, Galileo was ...  Copernicus  \n",
       "1  No. 2: 1912 Olympian; football star at Carlisl...  Jim Thorpe  \n",
       "2  The city of Yuma in this state has a record av...     Arizona  \n",
       "3  In 1963, live on \"The Art Linkletter Show\", th...  McDonald's  \n",
       "4  Signer of the Dec. of Indep., framer of the Co...  John Adams  "
      ]
     },
     "execution_count": 1,
     "metadata": {},
     "output_type": "execute_result"
    }
   ],
   "source": [
    "import pandas as pd\n",
    "import matplotlib.pyplot as plt\n",
    "import numpy as np\n",
    "from scipy.stats import chisquare\n",
    "%matplotlib inline\n",
    "\n",
    "jeopady = pd.read_csv('JEOPARDY_CSV.csv')\n",
    "print(jeopady.shape)\n",
    "jeopady.head()"
   ]
  },
  {
   "cell_type": "code",
   "execution_count": 2,
   "metadata": {
    "scrolled": false
   },
   "outputs": [
    {
     "data": {
      "text/plain": [
       "Index(['ShowNumber', 'AirDate', 'Round', 'Category', 'Value', 'Question',\n",
       "       'Answer'],\n",
       "      dtype='object')"
      ]
     },
     "execution_count": 2,
     "metadata": {},
     "output_type": "execute_result"
    }
   ],
   "source": [
    "new_col = []\n",
    "for col in jeopady.columns:\n",
    "    col = col.replace(' ', '')\n",
    "    new_col.append(col)\n",
    "jeopady.columns = new_col\n",
    "jeopady.columns"
   ]
  },
  {
   "cell_type": "code",
   "execution_count": 3,
   "metadata": {},
   "outputs": [
    {
     "data": {
      "text/html": [
       "<div>\n",
       "<style scoped>\n",
       "    .dataframe tbody tr th:only-of-type {\n",
       "        vertical-align: middle;\n",
       "    }\n",
       "\n",
       "    .dataframe tbody tr th {\n",
       "        vertical-align: top;\n",
       "    }\n",
       "\n",
       "    .dataframe thead th {\n",
       "        text-align: right;\n",
       "    }\n",
       "</style>\n",
       "<table border=\"1\" class=\"dataframe\">\n",
       "  <thead>\n",
       "    <tr style=\"text-align: right;\">\n",
       "      <th></th>\n",
       "      <th>ShowNumber</th>\n",
       "      <th>AirDate</th>\n",
       "      <th>Round</th>\n",
       "      <th>Category</th>\n",
       "      <th>Value</th>\n",
       "      <th>Question</th>\n",
       "      <th>Answer</th>\n",
       "    </tr>\n",
       "  </thead>\n",
       "  <tbody>\n",
       "    <tr>\n",
       "      <th>94817</th>\n",
       "      <td>4346</td>\n",
       "      <td>2003-06-23</td>\n",
       "      <td>Jeopardy!</td>\n",
       "      <td>GOING \"N\"SANE</td>\n",
       "      <td>$200</td>\n",
       "      <td>It often precedes \"and void\"</td>\n",
       "      <td>NaN</td>\n",
       "    </tr>\n",
       "    <tr>\n",
       "      <th>143297</th>\n",
       "      <td>6177</td>\n",
       "      <td>2011-06-21</td>\n",
       "      <td>Double Jeopardy!</td>\n",
       "      <td>NOTHING</td>\n",
       "      <td>$400</td>\n",
       "      <td>This word for \"nothing\" precedes \"and void\" to...</td>\n",
       "      <td>NaN</td>\n",
       "    </tr>\n",
       "  </tbody>\n",
       "</table>\n",
       "</div>"
      ],
      "text/plain": [
       "        ShowNumber     AirDate             Round       Category Value  \\\n",
       "94817         4346  2003-06-23         Jeopardy!  GOING \"N\"SANE  $200   \n",
       "143297        6177  2011-06-21  Double Jeopardy!        NOTHING  $400   \n",
       "\n",
       "                                                 Question Answer  \n",
       "94817                        It often precedes \"and void\"    NaN  \n",
       "143297  This word for \"nothing\" precedes \"and void\" to...    NaN  "
      ]
     },
     "execution_count": 3,
     "metadata": {},
     "output_type": "execute_result"
    }
   ],
   "source": [
    "jeopady[jeopady['Answer'].isnull()]"
   ]
  },
  {
   "cell_type": "code",
   "execution_count": 4,
   "metadata": {},
   "outputs": [],
   "source": [
    "jeopady = jeopady[jeopady['Answer'].notnull()]"
   ]
  },
  {
   "cell_type": "code",
   "execution_count": 5,
   "metadata": {},
   "outputs": [],
   "source": [
    "href = jeopady[jeopady['Question'].str.contains('http')].copy()"
   ]
  },
  {
   "cell_type": "code",
   "execution_count": 6,
   "metadata": {
    "scrolled": false
   },
   "outputs": [
    {
     "data": {
      "text/html": [
       "<div>\n",
       "<style scoped>\n",
       "    .dataframe tbody tr th:only-of-type {\n",
       "        vertical-align: middle;\n",
       "    }\n",
       "\n",
       "    .dataframe tbody tr th {\n",
       "        vertical-align: top;\n",
       "    }\n",
       "\n",
       "    .dataframe thead th {\n",
       "        text-align: right;\n",
       "    }\n",
       "</style>\n",
       "<table border=\"1\" class=\"dataframe\">\n",
       "  <thead>\n",
       "    <tr style=\"text-align: right;\">\n",
       "      <th></th>\n",
       "      <th>Question</th>\n",
       "      <th>clean_question</th>\n",
       "    </tr>\n",
       "  </thead>\n",
       "  <tbody>\n",
       "    <tr>\n",
       "      <th>29</th>\n",
       "      <td>&lt;a href=\"http://www.j-archive.com/media/2004-1...</td>\n",
       "      <td>Beyond ovoid abandonment, beyond ovoid betraya...</td>\n",
       "    </tr>\n",
       "    <tr>\n",
       "      <th>39</th>\n",
       "      <td>The shorter glass seen &lt;a href=\"http://www.j-a...</td>\n",
       "      <td>The shorter glass seen here, or a quaint cockt...</td>\n",
       "    </tr>\n",
       "    <tr>\n",
       "      <th>40</th>\n",
       "      <td>&lt;a href=\"http://www.j-archive.com/media/2004-1...</td>\n",
       "      <td>Ripped from today's headlines, he was a turtle...</td>\n",
       "    </tr>\n",
       "    <tr>\n",
       "      <th>45</th>\n",
       "      <td>&lt;a href=\"http://www.j-archive.com/media/2004-1...</td>\n",
       "      <td>Somewhere between truth &amp; fiction lies Marco's...</td>\n",
       "    </tr>\n",
       "    <tr>\n",
       "      <th>50</th>\n",
       "      <td>&lt;a href=\"http://www.j-archive.com/media/2004-1...</td>\n",
       "      <td>\"500 Hats\"... 500 ways to die.  On July 4th, t...</td>\n",
       "    </tr>\n",
       "    <tr>\n",
       "      <th>62</th>\n",
       "      <td>(&lt;a href=\"http://www.j-archive.com/media/2010-...</td>\n",
       "      <td>(Tate: I'm Tate Shaffer aboard the &lt;i&gt;National...</td>\n",
       "    </tr>\n",
       "    <tr>\n",
       "      <th>89</th>\n",
       "      <td>Say the name of &lt;a href=\"http://www.j-archive....</td>\n",
       "      <td>Say the name of this type of mollusk you see</td>\n",
       "    </tr>\n",
       "    <tr>\n",
       "      <th>95</th>\n",
       "      <td>Say &lt;a href=\"http://www.j-archive.com/media/20...</td>\n",
       "      <td>Say this state that was admitted to the Union ...</td>\n",
       "    </tr>\n",
       "    <tr>\n",
       "      <th>100</th>\n",
       "      <td>&lt;a href=\"http://www.j-archive.com/media/2010-0...</td>\n",
       "      <td>This dog breed seen here is a loyal and protec...</td>\n",
       "    </tr>\n",
       "    <tr>\n",
       "      <th>101</th>\n",
       "      <td>Say the name of &lt;a href=\"http://www.j-archive....</td>\n",
       "      <td>Say the name of this bug; don't worry, it does...</td>\n",
       "    </tr>\n",
       "    <tr>\n",
       "      <th>102</th>\n",
       "      <td>(&lt;a href=\"http://www.j-archive.com/media/2010-...</td>\n",
       "      <td>(Jimmy of the Clue Crew demonstrates, putting ...</td>\n",
       "    </tr>\n",
       "    <tr>\n",
       "      <th>107</th>\n",
       "      <td>Say the name of &lt;a href=\"http://www.j-archive....</td>\n",
       "      <td>Say the name of these big trees; it has a colo...</td>\n",
       "    </tr>\n",
       "    <tr>\n",
       "      <th>113</th>\n",
       "      <td>Say the name of &lt;a href=\"http://www.j-archive....</td>\n",
       "      <td>Say the name of this man you see shaking hands...</td>\n",
       "    </tr>\n",
       "    <tr>\n",
       "      <th>258</th>\n",
       "      <td>The &lt;a href=\"http://www.j-archive.com/media/20...</td>\n",
       "      <td>The flag of this U.S. possession is almost the...</td>\n",
       "    </tr>\n",
       "    <tr>\n",
       "      <th>273</th>\n",
       "      <td>(&lt;a href=\"http://www.j-archive.com/media/2006-...</td>\n",
       "      <td>(this U.S. skater was 2nd at Nagano; in 2002, ...</td>\n",
       "    </tr>\n",
       "    <tr>\n",
       "      <th>280</th>\n",
       "      <td>(&lt;a href=\"http://www.j-archive.com/media/2006-...</td>\n",
       "      <td>(the deformation</td>\n",
       "    </tr>\n",
       "    <tr>\n",
       "      <th>289</th>\n",
       "      <td>(&lt;a href=\"http://www.j-archive.com/media/2006-...</td>\n",
       "      <td>(Jon of the Clue Crew paddles his kayak.)  Kay...</td>\n",
       "    </tr>\n",
       "    <tr>\n",
       "      <th>292</th>\n",
       "      <td>(&lt;a href=\"http://www.j-archive.com/media/2006-...</td>\n",
       "      <td>(A honey-colored retriever named Max tries to ...</td>\n",
       "    </tr>\n",
       "    <tr>\n",
       "      <th>330</th>\n",
       "      <td>Che Guevara probably knew the political-soundi...</td>\n",
       "      <td>Che Guevara probably knew the political-soundi...</td>\n",
       "    </tr>\n",
       "    <tr>\n",
       "      <th>342</th>\n",
       "      <td>(&lt;a href=\"http://www.j-archive.com/media/2009-...</td>\n",
       "      <td>(Kelly of the Clue Crew shows an array of numb...</td>\n",
       "    </tr>\n",
       "    <tr>\n",
       "      <th>354</th>\n",
       "      <td>(&lt;a href=\"http://www.j-archive.com/media/2009-...</td>\n",
       "      <td>(cylinder, the area of the base times the heig...</td>\n",
       "    </tr>\n",
       "    <tr>\n",
       "      <th>379</th>\n",
       "      <td>Character seen &lt;a href=\"http://www.j-archive.c...</td>\n",
       "      <td>Character seen here, his action-packed journey...</td>\n",
       "    </tr>\n",
       "    <tr>\n",
       "      <th>424</th>\n",
       "      <td>(&lt;a href=\"http://www.j-archive.com/media/2010-...</td>\n",
       "      <td>(wheels that do the work</td>\n",
       "    </tr>\n",
       "    <tr>\n",
       "      <th>430</th>\n",
       "      <td>(&lt;a href=\"http://www.j-archive.com/media/2010-...</td>\n",
       "      <td>(very first motor home, from the company whose...</td>\n",
       "    </tr>\n",
       "    <tr>\n",
       "      <th>436</th>\n",
       "      <td>(&lt;a href=\"http://www.j-archive.com/media/2010-...</td>\n",
       "      <td>( this sexy star as she left the stage to make...</td>\n",
       "    </tr>\n",
       "    <tr>\n",
       "      <th>466</th>\n",
       "      <td>(&lt;a href=\"http://www.j-archive.com/media/2010-...</td>\n",
       "      <td>(Dr. Oz presents the clue.) By surgically inte...</td>\n",
       "    </tr>\n",
       "    <tr>\n",
       "      <th>484</th>\n",
       "      <td>(&lt;a href=\"http://www.j-archive.com/media/2007-...</td>\n",
       "      <td>(bald eagles</td>\n",
       "    </tr>\n",
       "    <tr>\n",
       "      <th>485</th>\n",
       "      <td>(&lt;a href=\"http://www.j-archive.com/media/2007-...</td>\n",
       "      <td>(Hi, I'm Harry Shearer.) Among my many \"Simpso...</td>\n",
       "    </tr>\n",
       "    <tr>\n",
       "      <th>487</th>\n",
       "      <td>(&lt;a href=\"http://www.j-archive.com/media/2007-...</td>\n",
       "      <td>(novelist, his next-door neighbor, liked to sn...</td>\n",
       "    </tr>\n",
       "    <tr>\n",
       "      <th>494</th>\n",
       "      <td>These titles of the &lt;a href=\"http://www.j-arch...</td>\n",
       "      <td>These titles of the seen here represent the be...</td>\n",
       "    </tr>\n",
       "    <tr>\n",
       "      <th>...</th>\n",
       "      <td>...</td>\n",
       "      <td>...</td>\n",
       "    </tr>\n",
       "    <tr>\n",
       "      <th>216490</th>\n",
       "      <td>(&lt;a href=\"http://www.j-archive.com/media/2006-...</td>\n",
       "      <td>(it once covered much of the Northern Hemisphe...</td>\n",
       "    </tr>\n",
       "    <tr>\n",
       "      <th>216569</th>\n",
       "      <td>This character's catch phrase was &lt;a href=\"htt...</td>\n",
       "      <td>This character's catch phrase was \"I tawt I ta...</td>\n",
       "    </tr>\n",
       "    <tr>\n",
       "      <th>216687</th>\n",
       "      <td>(&lt;a href=\"http://www.j-archive.com/media/2010-...</td>\n",
       "      <td>(emblem looks like this country's flag in reve...</td>\n",
       "    </tr>\n",
       "    <tr>\n",
       "      <th>216693</th>\n",
       "      <td>(&lt;a href=\"http://www.j-archive.com/media/2010-...</td>\n",
       "      <td>(Kelly of the Clue Crew gives the clue from th...</td>\n",
       "    </tr>\n",
       "    <tr>\n",
       "      <th>216699</th>\n",
       "      <td>(&lt;a href=\"http://www.j-archive.com/media/2010-...</td>\n",
       "      <td>(one with four power sources--namely batteries...</td>\n",
       "    </tr>\n",
       "    <tr>\n",
       "      <th>216701</th>\n",
       "      <td>How about a scoop of this favorite seen &lt;a hre...</td>\n",
       "      <td>How about a scoop of this favorite seen here? ...</td>\n",
       "    </tr>\n",
       "    <tr>\n",
       "      <th>216705</th>\n",
       "      <td>(&lt;a href=\"http://www.j-archive.com/media/2010-...</td>\n",
       "      <td>(Sarah of the Clue Crew gives the clue from th...</td>\n",
       "    </tr>\n",
       "    <tr>\n",
       "      <th>216709</th>\n",
       "      <td>(\"Daylight\" playing) Matt &amp; Kim reworked their...</td>\n",
       "      <td>(\"Daylight\" playing) Matt &amp; Kim reworked their...</td>\n",
       "    </tr>\n",
       "    <tr>\n",
       "      <th>216711</th>\n",
       "      <td>(&lt;a href=\"http://www.j-archive.com/media/2010-...</td>\n",
       "      <td>(Sarah of the Clue Crew gives the clue from th...</td>\n",
       "    </tr>\n",
       "    <tr>\n",
       "      <th>216751</th>\n",
       "      <td>Today animation attracts big-name voices--chec...</td>\n",
       "      <td>Today animation attracts big-name voices--chec...</td>\n",
       "    </tr>\n",
       "    <tr>\n",
       "      <th>216754</th>\n",
       "      <td>This great spokes-critter &lt;a href=\"http://www....</td>\n",
       "      <td>This great spokes-critter here debuted in 1952</td>\n",
       "    </tr>\n",
       "    <tr>\n",
       "      <th>216763</th>\n",
       "      <td>Because there's not a lot of live production s...</td>\n",
       "      <td>Because there's not a lot of live production s...</td>\n",
       "    </tr>\n",
       "    <tr>\n",
       "      <th>216770</th>\n",
       "      <td>The statue seen &lt;a href=\"http://www.j-archive....</td>\n",
       "      <td>The statue seen here is the only work of art h...</td>\n",
       "    </tr>\n",
       "    <tr>\n",
       "      <th>216772</th>\n",
       "      <td>The soft and cozy guy seen &lt;a href=\"http://www...</td>\n",
       "      <td>The soft and cozy guy seen here represents thi...</td>\n",
       "    </tr>\n",
       "    <tr>\n",
       "      <th>216775</th>\n",
       "      <td>Unlike traditional 2-D animation, characters a...</td>\n",
       "      <td>Unlike traditional 2-D animation, characters a...</td>\n",
       "    </tr>\n",
       "    <tr>\n",
       "      <th>216779</th>\n",
       "      <td>(&lt;a href=\"http://www.j-archive.com/media/2006-...</td>\n",
       "      <td>(Kelly of the Clue Crew enlightens us as she s...</td>\n",
       "    </tr>\n",
       "    <tr>\n",
       "      <th>216791</th>\n",
       "      <td>(&lt;a href=\"http://www.j-archive.com/media/2006-...</td>\n",
       "      <td>(Jimmy of the Clue Crew is in the yoga studio ...</td>\n",
       "    </tr>\n",
       "    <tr>\n",
       "      <th>216803</th>\n",
       "      <td>(&lt;a href=\"http://www.j-archive.com/media/2006-...</td>\n",
       "      <td>(Jimmy of the Clue Crew enlightens us from the...</td>\n",
       "    </tr>\n",
       "    <tr>\n",
       "      <th>216815</th>\n",
       "      <td>This director is seen &lt;a href=\"http://www.j-ar...</td>\n",
       "      <td>This director is seen here in 1998 at yet anot...</td>\n",
       "    </tr>\n",
       "    <tr>\n",
       "      <th>216847</th>\n",
       "      <td>He is the prolific writer and scientist seen &lt;...</td>\n",
       "      <td>He is the prolific writer and scientist seen here</td>\n",
       "    </tr>\n",
       "    <tr>\n",
       "      <th>216856</th>\n",
       "      <td>You can cook like &lt;a href=\"http://www.j-archiv...</td>\n",
       "      <td>You can cook like this man who wrote \"The Joy ...</td>\n",
       "    </tr>\n",
       "    <tr>\n",
       "      <th>216864</th>\n",
       "      <td>Rather than for injection, &lt;a href=\"http://www...</td>\n",
       "      <td>Rather than for injection, this syringe is for...</td>\n",
       "    </tr>\n",
       "    <tr>\n",
       "      <th>216872</th>\n",
       "      <td>It's not me in the photo seen &lt;a href=\"http://...</td>\n",
       "      <td>It's not me in the photo seen this 1972 nominee</td>\n",
       "    </tr>\n",
       "    <tr>\n",
       "      <th>216878</th>\n",
       "      <td>It's not me, it's &lt;a href=\"http://www.j-archiv...</td>\n",
       "      <td>It's not me, it's character, who spoke if you ...</td>\n",
       "    </tr>\n",
       "    <tr>\n",
       "      <th>216884</th>\n",
       "      <td>Despite the uncanny resemblance in the photo s...</td>\n",
       "      <td>Despite the uncanny resemblance in the photo s...</td>\n",
       "    </tr>\n",
       "    <tr>\n",
       "      <th>216886</th>\n",
       "      <td>(&lt;a href=\"http://www.j-archive.com/media/2006-...</td>\n",
       "      <td>(Kelly of the Clue Crew works out on a machine...</td>\n",
       "    </tr>\n",
       "    <tr>\n",
       "      <th>216890</th>\n",
       "      <td>It's not me in &lt;a href=\"http://www.j-archive.c...</td>\n",
       "      <td>It's not me in this man, who was second in his...</td>\n",
       "    </tr>\n",
       "    <tr>\n",
       "      <th>216896</th>\n",
       "      <td>It's not me seen &lt;a href=\"http://www.j-archive...</td>\n",
       "      <td>It's not me seen this World War II-era British...</td>\n",
       "    </tr>\n",
       "    <tr>\n",
       "      <th>216898</th>\n",
       "      <td>(&lt;a href=\"http://www.j-archive.com/media/2006-...</td>\n",
       "      <td>(these on General Sedwig's spurs for better luck</td>\n",
       "    </tr>\n",
       "    <tr>\n",
       "      <th>216924</th>\n",
       "      <td>In 2006 the cast of this long-running hit emba...</td>\n",
       "      <td>In 2006 the cast of this long-running hit emba...</td>\n",
       "    </tr>\n",
       "  </tbody>\n",
       "</table>\n",
       "<p>10526 rows × 2 columns</p>\n",
       "</div>"
      ],
      "text/plain": [
       "                                                 Question  \\\n",
       "29      <a href=\"http://www.j-archive.com/media/2004-1...   \n",
       "39      The shorter glass seen <a href=\"http://www.j-a...   \n",
       "40      <a href=\"http://www.j-archive.com/media/2004-1...   \n",
       "45      <a href=\"http://www.j-archive.com/media/2004-1...   \n",
       "50      <a href=\"http://www.j-archive.com/media/2004-1...   \n",
       "62      (<a href=\"http://www.j-archive.com/media/2010-...   \n",
       "89      Say the name of <a href=\"http://www.j-archive....   \n",
       "95      Say <a href=\"http://www.j-archive.com/media/20...   \n",
       "100     <a href=\"http://www.j-archive.com/media/2010-0...   \n",
       "101     Say the name of <a href=\"http://www.j-archive....   \n",
       "102     (<a href=\"http://www.j-archive.com/media/2010-...   \n",
       "107     Say the name of <a href=\"http://www.j-archive....   \n",
       "113     Say the name of <a href=\"http://www.j-archive....   \n",
       "258     The <a href=\"http://www.j-archive.com/media/20...   \n",
       "273     (<a href=\"http://www.j-archive.com/media/2006-...   \n",
       "280     (<a href=\"http://www.j-archive.com/media/2006-...   \n",
       "289     (<a href=\"http://www.j-archive.com/media/2006-...   \n",
       "292     (<a href=\"http://www.j-archive.com/media/2006-...   \n",
       "330     Che Guevara probably knew the political-soundi...   \n",
       "342     (<a href=\"http://www.j-archive.com/media/2009-...   \n",
       "354     (<a href=\"http://www.j-archive.com/media/2009-...   \n",
       "379     Character seen <a href=\"http://www.j-archive.c...   \n",
       "424     (<a href=\"http://www.j-archive.com/media/2010-...   \n",
       "430     (<a href=\"http://www.j-archive.com/media/2010-...   \n",
       "436     (<a href=\"http://www.j-archive.com/media/2010-...   \n",
       "466     (<a href=\"http://www.j-archive.com/media/2010-...   \n",
       "484     (<a href=\"http://www.j-archive.com/media/2007-...   \n",
       "485     (<a href=\"http://www.j-archive.com/media/2007-...   \n",
       "487     (<a href=\"http://www.j-archive.com/media/2007-...   \n",
       "494     These titles of the <a href=\"http://www.j-arch...   \n",
       "...                                                   ...   \n",
       "216490  (<a href=\"http://www.j-archive.com/media/2006-...   \n",
       "216569  This character's catch phrase was <a href=\"htt...   \n",
       "216687  (<a href=\"http://www.j-archive.com/media/2010-...   \n",
       "216693  (<a href=\"http://www.j-archive.com/media/2010-...   \n",
       "216699  (<a href=\"http://www.j-archive.com/media/2010-...   \n",
       "216701  How about a scoop of this favorite seen <a hre...   \n",
       "216705  (<a href=\"http://www.j-archive.com/media/2010-...   \n",
       "216709  (\"Daylight\" playing) Matt & Kim reworked their...   \n",
       "216711  (<a href=\"http://www.j-archive.com/media/2010-...   \n",
       "216751  Today animation attracts big-name voices--chec...   \n",
       "216754  This great spokes-critter <a href=\"http://www....   \n",
       "216763  Because there's not a lot of live production s...   \n",
       "216770  The statue seen <a href=\"http://www.j-archive....   \n",
       "216772  The soft and cozy guy seen <a href=\"http://www...   \n",
       "216775  Unlike traditional 2-D animation, characters a...   \n",
       "216779  (<a href=\"http://www.j-archive.com/media/2006-...   \n",
       "216791  (<a href=\"http://www.j-archive.com/media/2006-...   \n",
       "216803  (<a href=\"http://www.j-archive.com/media/2006-...   \n",
       "216815  This director is seen <a href=\"http://www.j-ar...   \n",
       "216847  He is the prolific writer and scientist seen <...   \n",
       "216856  You can cook like <a href=\"http://www.j-archiv...   \n",
       "216864  Rather than for injection, <a href=\"http://www...   \n",
       "216872  It's not me in the photo seen <a href=\"http://...   \n",
       "216878  It's not me, it's <a href=\"http://www.j-archiv...   \n",
       "216884  Despite the uncanny resemblance in the photo s...   \n",
       "216886  (<a href=\"http://www.j-archive.com/media/2006-...   \n",
       "216890  It's not me in <a href=\"http://www.j-archive.c...   \n",
       "216896  It's not me seen <a href=\"http://www.j-archive...   \n",
       "216898  (<a href=\"http://www.j-archive.com/media/2006-...   \n",
       "216924  In 2006 the cast of this long-running hit emba...   \n",
       "\n",
       "                                           clean_question  \n",
       "29      Beyond ovoid abandonment, beyond ovoid betraya...  \n",
       "39      The shorter glass seen here, or a quaint cockt...  \n",
       "40      Ripped from today's headlines, he was a turtle...  \n",
       "45      Somewhere between truth & fiction lies Marco's...  \n",
       "50      \"500 Hats\"... 500 ways to die.  On July 4th, t...  \n",
       "62      (Tate: I'm Tate Shaffer aboard the <i>National...  \n",
       "89           Say the name of this type of mollusk you see  \n",
       "95      Say this state that was admitted to the Union ...  \n",
       "100     This dog breed seen here is a loyal and protec...  \n",
       "101     Say the name of this bug; don't worry, it does...  \n",
       "102     (Jimmy of the Clue Crew demonstrates, putting ...  \n",
       "107     Say the name of these big trees; it has a colo...  \n",
       "113     Say the name of this man you see shaking hands...  \n",
       "258     The flag of this U.S. possession is almost the...  \n",
       "273     (this U.S. skater was 2nd at Nagano; in 2002, ...  \n",
       "280                                      (the deformation  \n",
       "289     (Jon of the Clue Crew paddles his kayak.)  Kay...  \n",
       "292     (A honey-colored retriever named Max tries to ...  \n",
       "330     Che Guevara probably knew the political-soundi...  \n",
       "342     (Kelly of the Clue Crew shows an array of numb...  \n",
       "354     (cylinder, the area of the base times the heig...  \n",
       "379     Character seen here, his action-packed journey...  \n",
       "424                              (wheels that do the work  \n",
       "430     (very first motor home, from the company whose...  \n",
       "436     ( this sexy star as she left the stage to make...  \n",
       "466     (Dr. Oz presents the clue.) By surgically inte...  \n",
       "484                                          (bald eagles  \n",
       "485     (Hi, I'm Harry Shearer.) Among my many \"Simpso...  \n",
       "487     (novelist, his next-door neighbor, liked to sn...  \n",
       "494     These titles of the seen here represent the be...  \n",
       "...                                                   ...  \n",
       "216490  (it once covered much of the Northern Hemisphe...  \n",
       "216569  This character's catch phrase was \"I tawt I ta...  \n",
       "216687  (emblem looks like this country's flag in reve...  \n",
       "216693  (Kelly of the Clue Crew gives the clue from th...  \n",
       "216699  (one with four power sources--namely batteries...  \n",
       "216701  How about a scoop of this favorite seen here? ...  \n",
       "216705  (Sarah of the Clue Crew gives the clue from th...  \n",
       "216709  (\"Daylight\" playing) Matt & Kim reworked their...  \n",
       "216711  (Sarah of the Clue Crew gives the clue from th...  \n",
       "216751  Today animation attracts big-name voices--chec...  \n",
       "216754     This great spokes-critter here debuted in 1952  \n",
       "216763  Because there's not a lot of live production s...  \n",
       "216770  The statue seen here is the only work of art h...  \n",
       "216772  The soft and cozy guy seen here represents thi...  \n",
       "216775  Unlike traditional 2-D animation, characters a...  \n",
       "216779  (Kelly of the Clue Crew enlightens us as she s...  \n",
       "216791  (Jimmy of the Clue Crew is in the yoga studio ...  \n",
       "216803  (Jimmy of the Clue Crew enlightens us from the...  \n",
       "216815  This director is seen here in 1998 at yet anot...  \n",
       "216847  He is the prolific writer and scientist seen here  \n",
       "216856  You can cook like this man who wrote \"The Joy ...  \n",
       "216864  Rather than for injection, this syringe is for...  \n",
       "216872    It's not me in the photo seen this 1972 nominee  \n",
       "216878  It's not me, it's character, who spoke if you ...  \n",
       "216884  Despite the uncanny resemblance in the photo s...  \n",
       "216886  (Kelly of the Clue Crew works out on a machine...  \n",
       "216890  It's not me in this man, who was second in his...  \n",
       "216896  It's not me seen this World War II-era British...  \n",
       "216898   (these on General Sedwig's spurs for better luck  \n",
       "216924  In 2006 the cast of this long-running hit emba...  \n",
       "\n",
       "[10526 rows x 2 columns]"
      ]
     },
     "execution_count": 6,
     "metadata": {},
     "output_type": "execute_result"
    }
   ],
   "source": [
    "href['clean_question'] = href['Question'].str.replace(r'</a>', '').str.replace(r'<.*\\\">', '')\n",
    "href[['Question', 'clean_question']]"
   ]
  },
  {
   "cell_type": "code",
   "execution_count": 7,
   "metadata": {},
   "outputs": [],
   "source": [
    "jeopady['clean_question'] = jeopady['Question'].str.replace(r'</a>', '').str.replace(r'<.*\\\">', '')"
   ]
  },
  {
   "cell_type": "code",
   "execution_count": 8,
   "metadata": {
    "scrolled": true
   },
   "outputs": [
    {
     "data": {
      "text/html": [
       "<div>\n",
       "<style scoped>\n",
       "    .dataframe tbody tr th:only-of-type {\n",
       "        vertical-align: middle;\n",
       "    }\n",
       "\n",
       "    .dataframe tbody tr th {\n",
       "        vertical-align: top;\n",
       "    }\n",
       "\n",
       "    .dataframe thead th {\n",
       "        text-align: right;\n",
       "    }\n",
       "</style>\n",
       "<table border=\"1\" class=\"dataframe\">\n",
       "  <thead>\n",
       "    <tr style=\"text-align: right;\">\n",
       "      <th></th>\n",
       "      <th>ShowNumber</th>\n",
       "      <th>AirDate</th>\n",
       "      <th>Round</th>\n",
       "      <th>Category</th>\n",
       "      <th>Value</th>\n",
       "      <th>Question</th>\n",
       "      <th>Answer</th>\n",
       "      <th>clean_question</th>\n",
       "      <th>clean_answer</th>\n",
       "    </tr>\n",
       "  </thead>\n",
       "  <tbody>\n",
       "    <tr>\n",
       "      <th>0</th>\n",
       "      <td>4680</td>\n",
       "      <td>2004-12-31</td>\n",
       "      <td>Jeopardy!</td>\n",
       "      <td>HISTORY</td>\n",
       "      <td>$200</td>\n",
       "      <td>For the last 8 years of his life, Galileo was ...</td>\n",
       "      <td>Copernicus</td>\n",
       "      <td>for the last 8 years of his life galileo was u...</td>\n",
       "      <td>copernicus</td>\n",
       "    </tr>\n",
       "    <tr>\n",
       "      <th>1</th>\n",
       "      <td>4680</td>\n",
       "      <td>2004-12-31</td>\n",
       "      <td>Jeopardy!</td>\n",
       "      <td>ESPN's TOP 10 ALL-TIME ATHLETES</td>\n",
       "      <td>$200</td>\n",
       "      <td>No. 2: 1912 Olympian; football star at Carlisl...</td>\n",
       "      <td>Jim Thorpe</td>\n",
       "      <td>no 2 1912 olympian football star at carlisle i...</td>\n",
       "      <td>jim thorpe</td>\n",
       "    </tr>\n",
       "    <tr>\n",
       "      <th>2</th>\n",
       "      <td>4680</td>\n",
       "      <td>2004-12-31</td>\n",
       "      <td>Jeopardy!</td>\n",
       "      <td>EVERYBODY TALKS ABOUT IT...</td>\n",
       "      <td>$200</td>\n",
       "      <td>The city of Yuma in this state has a record av...</td>\n",
       "      <td>Arizona</td>\n",
       "      <td>the city of yuma in this state has a record av...</td>\n",
       "      <td>arizona</td>\n",
       "    </tr>\n",
       "    <tr>\n",
       "      <th>3</th>\n",
       "      <td>4680</td>\n",
       "      <td>2004-12-31</td>\n",
       "      <td>Jeopardy!</td>\n",
       "      <td>THE COMPANY LINE</td>\n",
       "      <td>$200</td>\n",
       "      <td>In 1963, live on \"The Art Linkletter Show\", th...</td>\n",
       "      <td>McDonald's</td>\n",
       "      <td>in 1963 live on the art linkletter show this c...</td>\n",
       "      <td>mcdonalds</td>\n",
       "    </tr>\n",
       "    <tr>\n",
       "      <th>4</th>\n",
       "      <td>4680</td>\n",
       "      <td>2004-12-31</td>\n",
       "      <td>Jeopardy!</td>\n",
       "      <td>EPITAPHS &amp; TRIBUTES</td>\n",
       "      <td>$200</td>\n",
       "      <td>Signer of the Dec. of Indep., framer of the Co...</td>\n",
       "      <td>John Adams</td>\n",
       "      <td>signer of the dec of indep framer of the const...</td>\n",
       "      <td>john adams</td>\n",
       "    </tr>\n",
       "    <tr>\n",
       "      <th>5</th>\n",
       "      <td>4680</td>\n",
       "      <td>2004-12-31</td>\n",
       "      <td>Jeopardy!</td>\n",
       "      <td>3-LETTER WORDS</td>\n",
       "      <td>$200</td>\n",
       "      <td>In the title of an Aesop fable, this insect sh...</td>\n",
       "      <td>the ant</td>\n",
       "      <td>in the title of an aesop fable this insect sha...</td>\n",
       "      <td>the ant</td>\n",
       "    </tr>\n",
       "    <tr>\n",
       "      <th>6</th>\n",
       "      <td>4680</td>\n",
       "      <td>2004-12-31</td>\n",
       "      <td>Jeopardy!</td>\n",
       "      <td>HISTORY</td>\n",
       "      <td>$400</td>\n",
       "      <td>Built in 312 B.C. to link Rome &amp; the South of ...</td>\n",
       "      <td>the Appian Way</td>\n",
       "      <td>built in 312 bc to link rome &amp; the south of it...</td>\n",
       "      <td>the appian way</td>\n",
       "    </tr>\n",
       "    <tr>\n",
       "      <th>7</th>\n",
       "      <td>4680</td>\n",
       "      <td>2004-12-31</td>\n",
       "      <td>Jeopardy!</td>\n",
       "      <td>ESPN's TOP 10 ALL-TIME ATHLETES</td>\n",
       "      <td>$400</td>\n",
       "      <td>No. 8: 30 steals for the Birmingham Barons; 2,...</td>\n",
       "      <td>Michael Jordan</td>\n",
       "      <td>no 8 30 steals for the birmingham barons 2306 ...</td>\n",
       "      <td>michael jordan</td>\n",
       "    </tr>\n",
       "    <tr>\n",
       "      <th>8</th>\n",
       "      <td>4680</td>\n",
       "      <td>2004-12-31</td>\n",
       "      <td>Jeopardy!</td>\n",
       "      <td>EVERYBODY TALKS ABOUT IT...</td>\n",
       "      <td>$400</td>\n",
       "      <td>In the winter of 1971-72, a record 1,122 inche...</td>\n",
       "      <td>Washington</td>\n",
       "      <td>in the winter of 1971-72 a record 1122 inches ...</td>\n",
       "      <td>washington</td>\n",
       "    </tr>\n",
       "    <tr>\n",
       "      <th>9</th>\n",
       "      <td>4680</td>\n",
       "      <td>2004-12-31</td>\n",
       "      <td>Jeopardy!</td>\n",
       "      <td>THE COMPANY LINE</td>\n",
       "      <td>$400</td>\n",
       "      <td>This housewares store was named for the packag...</td>\n",
       "      <td>Crate &amp; Barrel</td>\n",
       "      <td>this housewares store was named for the packag...</td>\n",
       "      <td>crate &amp; barrel</td>\n",
       "    </tr>\n",
       "    <tr>\n",
       "      <th>10</th>\n",
       "      <td>4680</td>\n",
       "      <td>2004-12-31</td>\n",
       "      <td>Jeopardy!</td>\n",
       "      <td>EPITAPHS &amp; TRIBUTES</td>\n",
       "      <td>$400</td>\n",
       "      <td>\"And away we go\"</td>\n",
       "      <td>Jackie Gleason</td>\n",
       "      <td>and away we go</td>\n",
       "      <td>jackie gleason</td>\n",
       "    </tr>\n",
       "    <tr>\n",
       "      <th>11</th>\n",
       "      <td>4680</td>\n",
       "      <td>2004-12-31</td>\n",
       "      <td>Jeopardy!</td>\n",
       "      <td>3-LETTER WORDS</td>\n",
       "      <td>$400</td>\n",
       "      <td>Cows regurgitate this from the first stomach t...</td>\n",
       "      <td>the cud</td>\n",
       "      <td>cows regurgitate this from the first stomach t...</td>\n",
       "      <td>the cud</td>\n",
       "    </tr>\n",
       "    <tr>\n",
       "      <th>12</th>\n",
       "      <td>4680</td>\n",
       "      <td>2004-12-31</td>\n",
       "      <td>Jeopardy!</td>\n",
       "      <td>HISTORY</td>\n",
       "      <td>$600</td>\n",
       "      <td>In 1000 Rajaraja I of the Cholas battled to ta...</td>\n",
       "      <td>Ceylon (or Sri Lanka)</td>\n",
       "      <td>in 1000 rajaraja i of the cholas battled to ta...</td>\n",
       "      <td>ceylon or sri lanka</td>\n",
       "    </tr>\n",
       "    <tr>\n",
       "      <th>13</th>\n",
       "      <td>4680</td>\n",
       "      <td>2004-12-31</td>\n",
       "      <td>Jeopardy!</td>\n",
       "      <td>ESPN's TOP 10 ALL-TIME ATHLETES</td>\n",
       "      <td>$600</td>\n",
       "      <td>No. 1: Lettered in hoops, football &amp; lacrosse ...</td>\n",
       "      <td>Jim Brown</td>\n",
       "      <td>no 1 lettered in hoops football &amp; lacrosse at ...</td>\n",
       "      <td>jim brown</td>\n",
       "    </tr>\n",
       "    <tr>\n",
       "      <th>14</th>\n",
       "      <td>4680</td>\n",
       "      <td>2004-12-31</td>\n",
       "      <td>Jeopardy!</td>\n",
       "      <td>EVERYBODY TALKS ABOUT IT...</td>\n",
       "      <td>$600</td>\n",
       "      <td>On June 28, 1994 the nat'l weather service beg...</td>\n",
       "      <td>the UV index</td>\n",
       "      <td>on june 28 1994 the natl weather service began...</td>\n",
       "      <td>the uv index</td>\n",
       "    </tr>\n",
       "    <tr>\n",
       "      <th>15</th>\n",
       "      <td>4680</td>\n",
       "      <td>2004-12-31</td>\n",
       "      <td>Jeopardy!</td>\n",
       "      <td>THE COMPANY LINE</td>\n",
       "      <td>$600</td>\n",
       "      <td>This company's Accutron watch, introduced in 1...</td>\n",
       "      <td>Bulova</td>\n",
       "      <td>this companys accutron watch introduced in 196...</td>\n",
       "      <td>bulova</td>\n",
       "    </tr>\n",
       "    <tr>\n",
       "      <th>16</th>\n",
       "      <td>4680</td>\n",
       "      <td>2004-12-31</td>\n",
       "      <td>Jeopardy!</td>\n",
       "      <td>EPITAPHS &amp; TRIBUTES</td>\n",
       "      <td>$600</td>\n",
       "      <td>Outlaw: \"Murdered by a traitor and a coward wh...</td>\n",
       "      <td>Jesse James</td>\n",
       "      <td>outlaw murdered by a traitor and a coward whos...</td>\n",
       "      <td>jesse james</td>\n",
       "    </tr>\n",
       "    <tr>\n",
       "      <th>17</th>\n",
       "      <td>4680</td>\n",
       "      <td>2004-12-31</td>\n",
       "      <td>Jeopardy!</td>\n",
       "      <td>3-LETTER WORDS</td>\n",
       "      <td>$600</td>\n",
       "      <td>A small demon, or a mischievous child (who mig...</td>\n",
       "      <td>imp</td>\n",
       "      <td>a small demon or a mischievous child who might...</td>\n",
       "      <td>imp</td>\n",
       "    </tr>\n",
       "    <tr>\n",
       "      <th>18</th>\n",
       "      <td>4680</td>\n",
       "      <td>2004-12-31</td>\n",
       "      <td>Jeopardy!</td>\n",
       "      <td>HISTORY</td>\n",
       "      <td>$800</td>\n",
       "      <td>Karl led the first of these Marxist organizati...</td>\n",
       "      <td>the International</td>\n",
       "      <td>karl led the first of these marxist organizati...</td>\n",
       "      <td>the international</td>\n",
       "    </tr>\n",
       "    <tr>\n",
       "      <th>19</th>\n",
       "      <td>4680</td>\n",
       "      <td>2004-12-31</td>\n",
       "      <td>Jeopardy!</td>\n",
       "      <td>ESPN's TOP 10 ALL-TIME ATHLETES</td>\n",
       "      <td>$800</td>\n",
       "      <td>No. 10: FB/LB for Columbia U. in the 1920s; MV...</td>\n",
       "      <td>(Lou) Gehrig</td>\n",
       "      <td>no 10 fb/lb for columbia u in the 1920s mvp fo...</td>\n",
       "      <td>lou gehrig</td>\n",
       "    </tr>\n",
       "  </tbody>\n",
       "</table>\n",
       "</div>"
      ],
      "text/plain": [
       "    ShowNumber     AirDate      Round                         Category Value  \\\n",
       "0         4680  2004-12-31  Jeopardy!                          HISTORY  $200   \n",
       "1         4680  2004-12-31  Jeopardy!  ESPN's TOP 10 ALL-TIME ATHLETES  $200   \n",
       "2         4680  2004-12-31  Jeopardy!      EVERYBODY TALKS ABOUT IT...  $200   \n",
       "3         4680  2004-12-31  Jeopardy!                 THE COMPANY LINE  $200   \n",
       "4         4680  2004-12-31  Jeopardy!              EPITAPHS & TRIBUTES  $200   \n",
       "5         4680  2004-12-31  Jeopardy!                   3-LETTER WORDS  $200   \n",
       "6         4680  2004-12-31  Jeopardy!                          HISTORY  $400   \n",
       "7         4680  2004-12-31  Jeopardy!  ESPN's TOP 10 ALL-TIME ATHLETES  $400   \n",
       "8         4680  2004-12-31  Jeopardy!      EVERYBODY TALKS ABOUT IT...  $400   \n",
       "9         4680  2004-12-31  Jeopardy!                 THE COMPANY LINE  $400   \n",
       "10        4680  2004-12-31  Jeopardy!              EPITAPHS & TRIBUTES  $400   \n",
       "11        4680  2004-12-31  Jeopardy!                   3-LETTER WORDS  $400   \n",
       "12        4680  2004-12-31  Jeopardy!                          HISTORY  $600   \n",
       "13        4680  2004-12-31  Jeopardy!  ESPN's TOP 10 ALL-TIME ATHLETES  $600   \n",
       "14        4680  2004-12-31  Jeopardy!      EVERYBODY TALKS ABOUT IT...  $600   \n",
       "15        4680  2004-12-31  Jeopardy!                 THE COMPANY LINE  $600   \n",
       "16        4680  2004-12-31  Jeopardy!              EPITAPHS & TRIBUTES  $600   \n",
       "17        4680  2004-12-31  Jeopardy!                   3-LETTER WORDS  $600   \n",
       "18        4680  2004-12-31  Jeopardy!                          HISTORY  $800   \n",
       "19        4680  2004-12-31  Jeopardy!  ESPN's TOP 10 ALL-TIME ATHLETES  $800   \n",
       "\n",
       "                                             Question                 Answer  \\\n",
       "0   For the last 8 years of his life, Galileo was ...             Copernicus   \n",
       "1   No. 2: 1912 Olympian; football star at Carlisl...             Jim Thorpe   \n",
       "2   The city of Yuma in this state has a record av...                Arizona   \n",
       "3   In 1963, live on \"The Art Linkletter Show\", th...             McDonald's   \n",
       "4   Signer of the Dec. of Indep., framer of the Co...             John Adams   \n",
       "5   In the title of an Aesop fable, this insect sh...                the ant   \n",
       "6   Built in 312 B.C. to link Rome & the South of ...         the Appian Way   \n",
       "7   No. 8: 30 steals for the Birmingham Barons; 2,...         Michael Jordan   \n",
       "8   In the winter of 1971-72, a record 1,122 inche...             Washington   \n",
       "9   This housewares store was named for the packag...         Crate & Barrel   \n",
       "10                                   \"And away we go\"         Jackie Gleason   \n",
       "11  Cows regurgitate this from the first stomach t...                the cud   \n",
       "12  In 1000 Rajaraja I of the Cholas battled to ta...  Ceylon (or Sri Lanka)   \n",
       "13  No. 1: Lettered in hoops, football & lacrosse ...              Jim Brown   \n",
       "14  On June 28, 1994 the nat'l weather service beg...           the UV index   \n",
       "15  This company's Accutron watch, introduced in 1...                 Bulova   \n",
       "16  Outlaw: \"Murdered by a traitor and a coward wh...            Jesse James   \n",
       "17  A small demon, or a mischievous child (who mig...                    imp   \n",
       "18  Karl led the first of these Marxist organizati...      the International   \n",
       "19  No. 10: FB/LB for Columbia U. in the 1920s; MV...           (Lou) Gehrig   \n",
       "\n",
       "                                       clean_question         clean_answer  \n",
       "0   for the last 8 years of his life galileo was u...           copernicus  \n",
       "1   no 2 1912 olympian football star at carlisle i...           jim thorpe  \n",
       "2   the city of yuma in this state has a record av...              arizona  \n",
       "3   in 1963 live on the art linkletter show this c...            mcdonalds  \n",
       "4   signer of the dec of indep framer of the const...           john adams  \n",
       "5   in the title of an aesop fable this insect sha...              the ant  \n",
       "6   built in 312 bc to link rome & the south of it...       the appian way  \n",
       "7   no 8 30 steals for the birmingham barons 2306 ...       michael jordan  \n",
       "8   in the winter of 1971-72 a record 1122 inches ...           washington  \n",
       "9   this housewares store was named for the packag...       crate & barrel  \n",
       "10                                     and away we go       jackie gleason  \n",
       "11  cows regurgitate this from the first stomach t...              the cud  \n",
       "12  in 1000 rajaraja i of the cholas battled to ta...  ceylon or sri lanka  \n",
       "13  no 1 lettered in hoops football & lacrosse at ...            jim brown  \n",
       "14  on june 28 1994 the natl weather service began...         the uv index  \n",
       "15  this companys accutron watch introduced in 196...               bulova  \n",
       "16  outlaw murdered by a traitor and a coward whos...          jesse james  \n",
       "17  a small demon or a mischievous child who might...                  imp  \n",
       "18  karl led the first of these marxist organizati...    the international  \n",
       "19  no 10 fb/lb for columbia u in the 1920s mvp fo...           lou gehrig  "
      ]
     },
     "execution_count": 8,
     "metadata": {},
     "output_type": "execute_result"
    }
   ],
   "source": [
    "def normalize_string(string):\n",
    "    try:\n",
    "        string = string.lower().replace(',', '').replace(':', '').replace(';', '').replace('.', '').replace('\\'', '').replace('\\\"','').replace('(', '').replace(')', '')\n",
    "    except:\n",
    "        print(string)\n",
    "    return string\n",
    "    \n",
    "jeopady['clean_question'] = jeopady['clean_question'].apply(normalize_string)\n",
    "jeopady['clean_answer'] = jeopady['Answer'].apply(normalize_string)\n",
    "jeopady.head(20)"
   ]
  },
  {
   "cell_type": "code",
   "execution_count": 9,
   "metadata": {
    "scrolled": true
   },
   "outputs": [
    {
     "name": "stdout",
     "output_type": "stream",
     "text": [
      "(216928, 9)\n"
     ]
    },
    {
     "data": {
      "text/plain": [
       "$1,000      2101\n",
       "$1,020         1\n",
       "$1,100        63\n",
       "$1,111         2\n",
       "$1,183         1\n",
       "$1,200       441\n",
       "$1,203         1\n",
       "$1,246         1\n",
       "$1,263         2\n",
       "$1,300        75\n",
       "$1,347         1\n",
       "$1,400       228\n",
       "$1,407         1\n",
       "$1,492         1\n",
       "$1,500       546\n",
       "$1,512         1\n",
       "$1,534         1\n",
       "$1,600       239\n",
       "$1,700        44\n",
       "$1,777         1\n",
       "$1,800       182\n",
       "$1,801         1\n",
       "$1,809         1\n",
       "$1,810         1\n",
       "$1,900        28\n",
       "$10,000       22\n",
       "$10,400        1\n",
       "$10,800        6\n",
       "$100        9029\n",
       "$1000      19539\n",
       "           ...  \n",
       "$6,435         1\n",
       "$6,600         8\n",
       "$6,700         1\n",
       "$6,800         3\n",
       "$600       20377\n",
       "$601           1\n",
       "$7,000        39\n",
       "$7,200         5\n",
       "$7,400         4\n",
       "$7,500         4\n",
       "$7,600         3\n",
       "$7,800         8\n",
       "$700         203\n",
       "$750           4\n",
       "$796           1\n",
       "$8,000        20\n",
       "$8,200         4\n",
       "$8,400         3\n",
       "$8,500         1\n",
       "$8,600         3\n",
       "$8,700         1\n",
       "$8,800         1\n",
       "$8,917         1\n",
       "$800       31860\n",
       "$9,000         8\n",
       "$9,200         1\n",
       "$9,500         1\n",
       "$9,800         1\n",
       "$900         114\n",
       "None        3634\n",
       "Name: Value, Length: 150, dtype: int64"
      ]
     },
     "execution_count": 9,
     "metadata": {},
     "output_type": "execute_result"
    }
   ],
   "source": [
    "print(jeopady.shape)\n",
    "jeopady['Value'].value_counts().sort_index()"
   ]
  },
  {
   "cell_type": "code",
   "execution_count": 10,
   "metadata": {
    "scrolled": true
   },
   "outputs": [
    {
     "data": {
      "text/plain": [
       "0         3634\n",
       "5            9\n",
       "20           1\n",
       "22           1\n",
       "50           1\n",
       "100       9029\n",
       "200      30454\n",
       "250          5\n",
       "300       8663\n",
       "350          2\n",
       "367          1\n",
       "400      42243\n",
       "500       9016\n",
       "585          1\n",
       "600      20377\n",
       "601          1\n",
       "700        203\n",
       "750          4\n",
       "796          1\n",
       "800      31860\n",
       "900        114\n",
       "1000     21640\n",
       "1020         1\n",
       "1100        63\n",
       "1111         2\n",
       "1183         1\n",
       "1200     11772\n",
       "1203         1\n",
       "1246         1\n",
       "1263         2\n",
       "         ...  \n",
       "7500         4\n",
       "7600         3\n",
       "7800         8\n",
       "8000        20\n",
       "8200         4\n",
       "8400         3\n",
       "8500         1\n",
       "8600         3\n",
       "8700         1\n",
       "8800         1\n",
       "8917         1\n",
       "9000         8\n",
       "9200         1\n",
       "9500         1\n",
       "9800         1\n",
       "10000       22\n",
       "10400        1\n",
       "10800        6\n",
       "11000        1\n",
       "11200        1\n",
       "11600        1\n",
       "12000        3\n",
       "12400        1\n",
       "13000        3\n",
       "13200        1\n",
       "13800        1\n",
       "14000        1\n",
       "14200        1\n",
       "16400        1\n",
       "18000        1\n",
       "Name: clean_value, Length: 146, dtype: int64"
      ]
     },
     "execution_count": 10,
     "metadata": {},
     "output_type": "execute_result"
    }
   ],
   "source": [
    "def normalize_value(value):\n",
    "    try:\n",
    "        value = int(value[1:].replace(',', ''))\n",
    "    except:\n",
    "        value = 0\n",
    "    return value\n",
    "\n",
    "jeopady['clean_value'] = jeopady['Value'].apply(normalize_value)\n",
    "jeopady['clean_value'].value_counts().sort_index()"
   ]
  },
  {
   "cell_type": "code",
   "execution_count": 11,
   "metadata": {
    "scrolled": false
   },
   "outputs": [
    {
     "name": "stdout",
     "output_type": "stream",
     "text": [
      "<class 'pandas.core.frame.DataFrame'>\n",
      "Int64Index: 216928 entries, 0 to 216929\n",
      "Data columns (total 10 columns):\n",
      "ShowNumber        216928 non-null int64\n",
      "AirDate           216928 non-null datetime64[ns]\n",
      "Round             216928 non-null object\n",
      "Category          216928 non-null object\n",
      "Value             216928 non-null object\n",
      "Question          216928 non-null object\n",
      "Answer            216928 non-null object\n",
      "clean_question    216928 non-null object\n",
      "clean_answer      216928 non-null object\n",
      "clean_value       216928 non-null int64\n",
      "dtypes: datetime64[ns](1), int64(2), object(7)\n",
      "memory usage: 18.2+ MB\n"
     ]
    }
   ],
   "source": [
    "jeopady['AirDate'] = pd.to_datetime(jeopady['AirDate'])\n",
    "jeopady.info()"
   ]
  },
  {
   "cell_type": "markdown",
   "metadata": {},
   "source": [
    "## Analyzing Questions and Answers\n",
    "### Deducible answers"
   ]
  },
  {
   "cell_type": "code",
   "execution_count": 12,
   "metadata": {
    "scrolled": false
   },
   "outputs": [
    {
     "data": {
      "text/plain": [
       "0.05732102086515145"
      ]
     },
     "execution_count": 12,
     "metadata": {},
     "output_type": "execute_result"
    }
   ],
   "source": [
    "def count_q_in_a(row):\n",
    "    split_answer = row['clean_answer'].split()\n",
    "    split_question = row['clean_question'].split()\n",
    "    if 'the' in split_answer:\n",
    "        split_answer.remove('the')\n",
    "    if len(split_answer)==0:\n",
    "        return 0    \n",
    "    \n",
    "    match_count = 0\n",
    "    for a in split_answer:\n",
    "        if a in split_question:\n",
    "            match_count += 1\n",
    "    return match_count/len(split_answer)\n",
    "\n",
    "jeopady['answer_in_question'] = jeopady.apply(count_q_in_a, axis=1)\n",
    "jeopady['answer_in_question'].mean()"
   ]
  },
  {
   "cell_type": "code",
   "execution_count": 13,
   "metadata": {
    "scrolled": true
   },
   "outputs": [
    {
     "data": {
      "text/plain": [
       "0.000000    190031\n",
       "0.058824         1\n",
       "0.066667         1\n",
       "0.071429         1\n",
       "0.076923         1\n",
       "0.083333         3\n",
       "0.090909         5\n",
       "0.100000        12\n",
       "0.105263         1\n",
       "0.111111        34\n",
       "0.125000        72\n",
       "0.133333         2\n",
       "0.142857       147\n",
       "0.153846         6\n",
       "0.166667       309\n",
       "0.181818         7\n",
       "0.200000       824\n",
       "0.214286         4\n",
       "0.222222        29\n",
       "0.230769         4\n",
       "0.250000      1824\n",
       "0.266667         1\n",
       "0.272727        10\n",
       "0.285714       100\n",
       "0.294118         1\n",
       "0.300000        14\n",
       "0.307692         1\n",
       "0.333333      5655\n",
       "0.350000         1\n",
       "0.357143         1\n",
       "0.363636         1\n",
       "0.375000        29\n",
       "0.400000       336\n",
       "0.416667         1\n",
       "0.428571        40\n",
       "0.444444         5\n",
       "0.454545         1\n",
       "0.466667         1\n",
       "0.500000     14686\n",
       "0.538462         1\n",
       "0.545455         2\n",
       "0.555556         3\n",
       "0.571429        18\n",
       "0.600000        93\n",
       "0.615385         1\n",
       "0.625000         4\n",
       "0.636364         1\n",
       "0.666667      1057\n",
       "0.700000         2\n",
       "0.714286         5\n",
       "0.750000       118\n",
       "0.777778         1\n",
       "0.800000        30\n",
       "0.818182         1\n",
       "0.833333         5\n",
       "0.857143         5\n",
       "0.875000         2\n",
       "1.000000      1377\n",
       "Name: answer_in_question, dtype: int64"
      ]
     },
     "execution_count": 13,
     "metadata": {},
     "output_type": "execute_result"
    }
   ],
   "source": [
    "jeopady['answer_in_question'].value_counts().sort_index()"
   ]
  },
  {
   "cell_type": "code",
   "execution_count": 14,
   "metadata": {
    "scrolled": false
   },
   "outputs": [
    {
     "data": {
      "text/plain": [
       "<matplotlib.axes._subplots.AxesSubplot at 0x1260bce48>"
      ]
     },
     "execution_count": 14,
     "metadata": {},
     "output_type": "execute_result"
    },
    {
     "data": {
      "image/png": "[encoded data removed]",
      "text/plain": [
       "<Figure size 432x288 with 1 Axes>"
      ]
     },
     "metadata": {
      "needs_background": "light"
     },
     "output_type": "display_data"
    }
   ],
   "source": [
    "jeopady['answer_in_question'].hist(bins=20)"
   ]
  },
  {
   "cell_type": "code",
   "execution_count": 15,
   "metadata": {},
   "outputs": [
    {
     "data": {
      "text/plain": [
       "0.01256638147219354"
      ]
     },
     "execution_count": 15,
     "metadata": {},
     "output_type": "execute_result"
    }
   ],
   "source": [
    "deducible_questions_rate = len(jeopady[jeopady['answer_in_question']>0.5])/len(jeopady)\n",
    "deducible_questions_rate"
   ]
  },
  {
   "cell_type": "code",
   "execution_count": 16,
   "metadata": {
    "scrolled": false
   },
   "outputs": [
    {
     "data": {
      "text/plain": [
       "59.5956043956044"
      ]
     },
     "execution_count": 16,
     "metadata": {},
     "output_type": "execute_result"
    }
   ],
   "source": [
    "questions_per_day = jeopady.groupby('AirDate').agg({'clean_question': len}).mean()\n",
    "questions_per_day[0]"
   ]
  },
  {
   "cell_type": "code",
   "execution_count": 17,
   "metadata": {
    "scrolled": true
   },
   "outputs": [
    {
     "name": "stdout",
     "output_type": "stream",
     "text": [
      "0.75 answers could be deducible from questions (technically questions with more than half of words in answer are told in questions)\n"
     ]
    }
   ],
   "source": [
    "deducible_questions_day = questions_per_day[0] * deducible_questions_rate\n",
    "deducible_questions_day\n",
    "print('{:.2} answers could be deducible from questions (technically questions with more than half of words in answer are told in questions)'.format(deducible_questions_day))"
   ]
  },
  {
   "cell_type": "markdown",
   "metadata": {},
   "source": [
    "### Same Questions as Before"
   ]
  },
  {
   "cell_type": "code",
   "execution_count": 18,
   "metadata": {},
   "outputs": [
    {
     "data": {
      "text/plain": [
       "0.9305202579836598"
      ]
     },
     "execution_count": 18,
     "metadata": {},
     "output_type": "execute_result"
    }
   ],
   "source": [
    "question_overlap = []\n",
    "terms_used = set([])\n",
    "\n",
    "for index, row in jeopady.sort_values('AirDate').iterrows():\n",
    "    split_question = row['clean_question'].split()\n",
    "    for q in split_question:\n",
    "        if len(q)<6:\n",
    "            split_question.remove(q)\n",
    "            \n",
    "    match_count = 0\n",
    "    for q in split_question:\n",
    "        if q in terms_used:\n",
    "            match_count += 1\n",
    "        terms_used.add(q)\n",
    "    if len(split_question)>0:\n",
    "        match_count /= len(split_question)\n",
    "    question_overlap.append(match_count)\n",
    "    \n",
    "np.mean(question_overlap)"
   ]
  },
  {
   "cell_type": "code",
   "execution_count": 19,
   "metadata": {
    "scrolled": true
   },
   "outputs": [
    {
     "data": {
      "text/plain": [
       "(array([1.5810e+03, 7.2000e+01, 2.7100e+02, 4.9000e+02, 4.1500e+02,\n",
       "        3.6050e+03, 4.8740e+03, 9.6500e+03, 3.5490e+04, 1.6048e+05]),\n",
       " array([0. , 0.1, 0.2, 0.3, 0.4, 0.5, 0.6, 0.7, 0.8, 0.9, 1. ]),\n",
       " <a list of 10 Patch objects>)"
      ]
     },
     "execution_count": 19,
     "metadata": {},
     "output_type": "execute_result"
    },
    {
     "data": {
      "image/png": "[encoded data removed]",
      "text/plain": [
       "<Figure size 432x288 with 1 Axes>"
      ]
     },
     "metadata": {
      "needs_background": "light"
     },
     "output_type": "display_data"
    }
   ],
   "source": [
    "plt.hist(question_overlap)"
   ]
  },
  {
   "cell_type": "code",
   "execution_count": 20,
   "metadata": {},
   "outputs": [
    {
     "data": {
      "text/plain": [
       "<matplotlib.collections.PathCollection at 0x12be9d198>"
      ]
     },
     "execution_count": 20,
     "metadata": {},
     "output_type": "execute_result"
    },
    {
     "data": {
      "image/png": "[encoded data removed]",
      "text/plain": [
       "<Figure size 432x288 with 1 Axes>"
      ]
     },
     "metadata": {
      "needs_background": "light"
     },
     "output_type": "display_data"
    }
   ],
   "source": [
    "q_num = []\n",
    "for i in range(len(question_overlap)):\n",
    "    q_num.append(i)\n",
    "\n",
    "plt.scatter(q_num, question_overlap)"
   ]
  },
  {
   "cell_type": "code",
   "execution_count": 21,
   "metadata": {
    "scrolled": true
   },
   "outputs": [
    {
     "name": "stdout",
     "output_type": "stream",
     "text": [
      "65.091% questions contained more than 90% words previous questions contained.\n"
     ]
    }
   ],
   "source": [
    "qo_df = pd.Series(question_overlap)\n",
    "overlaped_q_rate = qo_df[qo_df>qo_df.mean()].count()/qo_df.count()\n",
    "print('{:.3%} questions contained more than 90% words previous questions contained.'.format(overlaped_q_rate))"
   ]
  },
  {
   "cell_type": "markdown",
   "metadata": {},
   "source": [
    "## More Money on Jeopady"
   ]
  },
  {
   "cell_type": "code",
   "execution_count": 22,
   "metadata": {
    "scrolled": false
   },
   "outputs": [
    {
     "name": "stdout",
     "output_type": "stream",
     "text": [
      "739.9925320843782\n"
     ]
    },
    {
     "data": {
      "text/plain": [
       "<matplotlib.axes._subplots.AxesSubplot at 0x122491ac8>"
      ]
     },
     "execution_count": 22,
     "metadata": {},
     "output_type": "execute_result"
    },
    {
     "data": {
      "image/png": "[encoded data removed]",
      "text/plain": [
       "<Figure size 432x288 with 1 Axes>"
      ]
     },
     "metadata": {
      "needs_background": "light"
     },
     "output_type": "display_data"
    }
   ],
   "source": [
    "print(jeopady['clean_value'].mean())\n",
    "jeopady['clean_value'].plot.hist(bins=30)"
   ]
  },
  {
   "cell_type": "code",
   "execution_count": 23,
   "metadata": {
    "scrolled": true
   },
   "outputs": [
    {
     "data": {
      "text/plain": [
       "0.01054266853518218"
      ]
     },
     "execution_count": 23,
     "metadata": {},
     "output_type": "execute_result"
    }
   ],
   "source": [
    "jeopady[jeopady['clean_value']>2500]['clean_value'].count()/jeopady['clean_value'].count()"
   ]
  },
  {
   "cell_type": "markdown",
   "metadata": {},
   "source": [
    "According to the mean and histogram of values, we will narrow down the questions into three categories:\n",
    "- Low value -- Any row where `clean_value` is less than 800.\n",
    "- High value -- Any row where `clean_value` is greater than 800 and less than 2500.\n",
    "- Very high value -- Any row where `clean_value` is greater than 2500."
   ]
  },
  {
   "cell_type": "code",
   "execution_count": 24,
   "metadata": {},
   "outputs": [],
   "source": [
    "def categorize(row):\n",
    "    if row['clean_value']>2500:\n",
    "        value = 2\n",
    "    elif row['clean_value']>800:\n",
    "        value = 1\n",
    "    else:\n",
    "        value = 0\n",
    "    return value\n",
    "\n",
    "jeopady['high_value'] = jeopady.apply(categorize, axis=1)"
   ]
  },
  {
   "cell_type": "code",
   "execution_count": 25,
   "metadata": {
    "scrolled": true
   },
   "outputs": [
    {
     "data": {
      "text/plain": [
       "0    0.716855\n",
       "1    0.272602\n",
       "2    0.010543\n",
       "Name: high_value, dtype: float64"
      ]
     },
     "execution_count": 25,
     "metadata": {},
     "output_type": "execute_result"
    }
   ],
   "source": [
    "jeopady['high_value'].value_counts(normalize=True)"
   ]
  },
  {
   "cell_type": "code",
   "execution_count": 26,
   "metadata": {},
   "outputs": [
    {
     "data": {
      "text/plain": [
       "['bueno',\n",
       " 'identification',\n",
       " 'pectin-rich',\n",
       " 'merida',\n",
       " 'bookseller',\n",
       " 'rothesay',\n",
       " 'cunegonde',\n",
       " 'luxembourg--sorry',\n",
       " 'dishabille',\n",
       " 'rugs',\n",
       " 'accompaniment',\n",
       " 'predominately',\n",
       " 'phoebes',\n",
       " 'chunnel',\n",
       " 'quezon',\n",
       " 'anagrammed',\n",
       " 'wingfield',\n",
       " 'out-of-the-way',\n",
       " 'hurricane-driven',\n",
       " 'hellbound',\n",
       " 'kstan',\n",
       " 'trampolines',\n",
       " 'baryshnikov',\n",
       " 'nyssa',\n",
       " 'toscanelli',\n",
       " 'gibsons',\n",
       " 'duckling”',\n",
       " 'influenza',\n",
       " 'plaque',\n",
       " 'chibcha']"
      ]
     },
     "execution_count": 26,
     "metadata": {},
     "output_type": "execute_result"
    }
   ],
   "source": [
    "list(terms_used)[:30]"
   ]
  },
  {
   "cell_type": "code",
   "execution_count": 44,
   "metadata": {},
   "outputs": [],
   "source": [
    "def value_count(word):\n",
    "    low_count = 0\n",
    "    high_count = 0\n",
    "    very_high_count = 0\n",
    "    \n",
    "    for index, row in jeopady.iterrows():\n",
    "        split_question = row['clean_question'].split()\n",
    "        if word in split_question:\n",
    "            if row['high_value']==2:\n",
    "                very_high_count += 1\n",
    "            elif row['high_value']==1:\n",
    "                high_count +=1\n",
    "            else:\n",
    "                low_count +=1\n",
    "    return low_count, high_count, very_high_count"
   ]
  },
  {
   "cell_type": "code",
   "execution_count": 45,
   "metadata": {},
   "outputs": [
    {
     "name": "stdout",
     "output_type": "stream",
     "text": [
      "['bueno', 'identification', 'pectin-rich', 'merida', 'bookseller', 'rothesay', 'cunegonde', 'luxembourg--sorry', 'dishabille', 'rugs', 'accompaniment', 'predominately', 'phoebes', 'chunnel', 'quezon', 'anagrammed', 'wingfield', 'out-of-the-way', 'hurricane-driven', 'hellbound']\n",
      "[(1, 2, 0), (11, 0, 0), (0, 1, 0), (0, 1, 0), (4, 2, 0), (1, 0, 0), (2, 0, 0), (0, 0, 1), (0, 1, 0), (4, 1, 0), (20, 4, 0), (1, 0, 0), (2, 0, 0), (2, 1, 0), (5, 5, 0), (2, 0, 0), (5, 5, 0), (1, 2, 1), (1, 0, 0), (1, 0, 0)]\n"
     ]
    }
   ],
   "source": [
    "check_terms = []\n",
    "observed_expected = []\n",
    "comparison_terms = list(terms_used)[:20]\n",
    "\n",
    "for term in comparison_terms:\n",
    "    check_terms.append(term)\n",
    "    observed_expected.append(value_count(term))\n",
    "\n",
    "print(check_terms)\n",
    "print(observed_expected)"
   ]
  },
  {
   "cell_type": "code",
   "execution_count": 46,
   "metadata": {
    "scrolled": true
   },
   "outputs": [
    {
     "data": {
      "text/plain": [
       "[[33.50868456333509, 5.2927526607608785e-08],\n",
       " [1032.3790992566678, 6.633259387096771e-225],\n",
       " [2.6683520757588566, 0.2633750971796924],\n",
       " [2.6683520757588566, 0.2633750971796924],\n",
       " [249.38595574909218, 7.023082611680547e-55],\n",
       " [93.85264538696983, 4.170201097174615e-21],\n",
       " [187.70529077393965, 1.7390577190876233e-41],\n",
       " [0.3949815441204841, 0.8207877147723639],\n",
       " [2.6683520757588566, 0.2633750971796924],\n",
       " [299.2621356534552, 1.0376548529964883e-65],\n",
       " [1559.3229911666697, 0.0],\n",
       " [93.85264538696983, 4.170201097174615e-21],\n",
       " [187.70529077393965, 1.7390577190876233e-41],\n",
       " [124.69297787454609, 8.38038341108595e-28],\n",
       " [236.30249365682167, 4.8704094390117535e-52],\n",
       " [187.70529077393965, 1.7390577190876233e-41],\n",
       " [236.30249365682167, 4.8704094390117535e-52],\n",
       " [23.73025880853143, 7.031367101478856e-06],\n",
       " [93.85264538696983, 4.170201097174615e-21],\n",
       " [93.85264538696983, 4.170201097174615e-21]]"
      ]
     },
     "execution_count": 46,
     "metadata": {},
     "output_type": "execute_result"
    }
   ],
   "source": [
    "very_high_value_count = jeopady[jeopady['high_value']==2]['high_value'].count()\n",
    "high_value_count = jeopady[jeopady['high_value']==1]['high_value'].count()\n",
    "low_value_count = jeopady[jeopady['high_value']==0]['high_value'].count()\n",
    "\n",
    "print(very_high_value_count, high_value_count, low)\n",
    "chi_squared = []\n",
    "for o_e in observed_expected:\n",
    "    total = sum(o_e)\n",
    "    total_prop = total/jeopady['high_value'].count()\n",
    "    \n",
    "    expected = [total_prop*very_high_value_count, total_prop*high_value_count, total_prop*low_value_count]\n",
    "    chi_value, pvalue = chisquare(list(o_e), expected)\n",
    "    chi_squared.append([chi_value, pvalue])"
   ]
  },
  {
   "cell_type": "code",
   "execution_count": 57,
   "metadata": {},
   "outputs": [
    {
     "data": {
      "text/plain": [
       "<BarContainer object of 20 artists>"
      ]
     },
     "execution_count": 57,
     "metadata": {},
     "output_type": "execute_result"
    },
    {
     "data": {
      "image/png": "[encoded data removed]",
      "text/plain": [
       "<Figure size 432x288 with 1 Axes>"
      ]
     },
     "metadata": {
      "needs_background": "light"
     },
     "output_type": "display_data"
    }
   ],
   "source": [
    "p_value = [p for chi, p in chi_squared]\n",
    "plt.barh(check_terms, p_value)"
   ]
  }
 ],
 "metadata": {
  "kernelspec": {
   "display_name": "Python 3",
   "language": "python",
   "name": "python3"
  },
  "language_info": {
   "codemirror_mode": {
    "name": "ipython",
    "version": 3
   },
   "file_extension": ".py",
   "mimetype": "text/x-python",
   "name": "python",
   "nbconvert_exporter": "python",
   "pygments_lexer": "ipython3",
   "version": "3.6.0"
  }
 },
 "nbformat": 4,
 "nbformat_minor": 2
}
