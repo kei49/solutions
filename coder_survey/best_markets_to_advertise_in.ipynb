{
 "cells": [
  {
   "cell_type": "markdown",
   "metadata": {},
   "source": [
    "# Finding the Best Markets to Advertise In"
   ]
  },
  {
   "cell_type": "markdown",
   "metadata": {},
   "source": [
    "## The Purpose of the Project and the Dataset\n",
    "In this project, we want to find two best markets, countries for advertising e-learning programming courses as an e-learning company mainly producing courses on web and mobile development.\n",
    "\n",
    "We use the results of survey taken by freeCodeCamp and the dataset of the results could be accessed in its [GitHub](https://github.com/freeCodeCamp/2017-new-coder-survey)."
   ]
  },
  {
   "cell_type": "markdown",
   "metadata": {},
   "source": [
    "## Checking the Data and the Columns"
   ]
  },
  {
   "cell_type": "code",
   "execution_count": 1,
   "metadata": {
    "scrolled": true
   },
   "outputs": [
    {
     "name": "stdout",
     "output_type": "stream",
     "text": [
      "(18175, 136)\n",
      "Index(['Age', 'AttendedBootcamp', 'BootcampFinish', 'BootcampLoanYesNo',\n",
      "       'BootcampName', 'BootcampRecommend', 'ChildrenNumber', 'CityPopulation',\n",
      "       'CodeEventConferences', 'CodeEventDjangoGirls',\n",
      "       ...\n",
      "       'YouTubeFCC', 'YouTubeFunFunFunction', 'YouTubeGoogleDev',\n",
      "       'YouTubeLearnCode', 'YouTubeLevelUpTuts', 'YouTubeMIT',\n",
      "       'YouTubeMozillaHacks', 'YouTubeOther', 'YouTubeSimplilearn',\n",
      "       'YouTubeTheNewBoston'],\n",
      "      dtype='object', length=136)\n"
     ]
    },
    {
     "data": {
      "text/html": [
       "<div>\n",
       "<style scoped>\n",
       "    .dataframe tbody tr th:only-of-type {\n",
       "        vertical-align: middle;\n",
       "    }\n",
       "\n",
       "    .dataframe tbody tr th {\n",
       "        vertical-align: top;\n",
       "    }\n",
       "\n",
       "    .dataframe thead th {\n",
       "        text-align: right;\n",
       "    }\n",
       "</style>\n",
       "<table border=\"1\" class=\"dataframe\">\n",
       "  <thead>\n",
       "    <tr style=\"text-align: right;\">\n",
       "      <th></th>\n",
       "      <th>Age</th>\n",
       "      <th>AttendedBootcamp</th>\n",
       "      <th>BootcampFinish</th>\n",
       "      <th>BootcampLoanYesNo</th>\n",
       "      <th>BootcampName</th>\n",
       "      <th>BootcampRecommend</th>\n",
       "      <th>ChildrenNumber</th>\n",
       "      <th>CityPopulation</th>\n",
       "      <th>CodeEventConferences</th>\n",
       "      <th>CodeEventDjangoGirls</th>\n",
       "      <th>...</th>\n",
       "      <th>YouTubeFCC</th>\n",
       "      <th>YouTubeFunFunFunction</th>\n",
       "      <th>YouTubeGoogleDev</th>\n",
       "      <th>YouTubeLearnCode</th>\n",
       "      <th>YouTubeLevelUpTuts</th>\n",
       "      <th>YouTubeMIT</th>\n",
       "      <th>YouTubeMozillaHacks</th>\n",
       "      <th>YouTubeOther</th>\n",
       "      <th>YouTubeSimplilearn</th>\n",
       "      <th>YouTubeTheNewBoston</th>\n",
       "    </tr>\n",
       "  </thead>\n",
       "  <tbody>\n",
       "    <tr>\n",
       "      <th>0</th>\n",
       "      <td>27.0</td>\n",
       "      <td>0.0</td>\n",
       "      <td>NaN</td>\n",
       "      <td>NaN</td>\n",
       "      <td>NaN</td>\n",
       "      <td>NaN</td>\n",
       "      <td>NaN</td>\n",
       "      <td>more than 1 million</td>\n",
       "      <td>NaN</td>\n",
       "      <td>NaN</td>\n",
       "      <td>...</td>\n",
       "      <td>NaN</td>\n",
       "      <td>NaN</td>\n",
       "      <td>NaN</td>\n",
       "      <td>NaN</td>\n",
       "      <td>NaN</td>\n",
       "      <td>NaN</td>\n",
       "      <td>NaN</td>\n",
       "      <td>NaN</td>\n",
       "      <td>NaN</td>\n",
       "      <td>NaN</td>\n",
       "    </tr>\n",
       "    <tr>\n",
       "      <th>1</th>\n",
       "      <td>34.0</td>\n",
       "      <td>0.0</td>\n",
       "      <td>NaN</td>\n",
       "      <td>NaN</td>\n",
       "      <td>NaN</td>\n",
       "      <td>NaN</td>\n",
       "      <td>NaN</td>\n",
       "      <td>less than 100,000</td>\n",
       "      <td>NaN</td>\n",
       "      <td>NaN</td>\n",
       "      <td>...</td>\n",
       "      <td>1.0</td>\n",
       "      <td>NaN</td>\n",
       "      <td>NaN</td>\n",
       "      <td>NaN</td>\n",
       "      <td>NaN</td>\n",
       "      <td>NaN</td>\n",
       "      <td>NaN</td>\n",
       "      <td>NaN</td>\n",
       "      <td>NaN</td>\n",
       "      <td>NaN</td>\n",
       "    </tr>\n",
       "    <tr>\n",
       "      <th>2</th>\n",
       "      <td>21.0</td>\n",
       "      <td>0.0</td>\n",
       "      <td>NaN</td>\n",
       "      <td>NaN</td>\n",
       "      <td>NaN</td>\n",
       "      <td>NaN</td>\n",
       "      <td>NaN</td>\n",
       "      <td>more than 1 million</td>\n",
       "      <td>NaN</td>\n",
       "      <td>NaN</td>\n",
       "      <td>...</td>\n",
       "      <td>NaN</td>\n",
       "      <td>NaN</td>\n",
       "      <td>NaN</td>\n",
       "      <td>1.0</td>\n",
       "      <td>1.0</td>\n",
       "      <td>NaN</td>\n",
       "      <td>NaN</td>\n",
       "      <td>NaN</td>\n",
       "      <td>NaN</td>\n",
       "      <td>NaN</td>\n",
       "    </tr>\n",
       "    <tr>\n",
       "      <th>3</th>\n",
       "      <td>26.0</td>\n",
       "      <td>0.0</td>\n",
       "      <td>NaN</td>\n",
       "      <td>NaN</td>\n",
       "      <td>NaN</td>\n",
       "      <td>NaN</td>\n",
       "      <td>NaN</td>\n",
       "      <td>between 100,000 and 1 million</td>\n",
       "      <td>NaN</td>\n",
       "      <td>NaN</td>\n",
       "      <td>...</td>\n",
       "      <td>1.0</td>\n",
       "      <td>1.0</td>\n",
       "      <td>NaN</td>\n",
       "      <td>NaN</td>\n",
       "      <td>1.0</td>\n",
       "      <td>NaN</td>\n",
       "      <td>NaN</td>\n",
       "      <td>NaN</td>\n",
       "      <td>NaN</td>\n",
       "      <td>NaN</td>\n",
       "    </tr>\n",
       "    <tr>\n",
       "      <th>4</th>\n",
       "      <td>20.0</td>\n",
       "      <td>0.0</td>\n",
       "      <td>NaN</td>\n",
       "      <td>NaN</td>\n",
       "      <td>NaN</td>\n",
       "      <td>NaN</td>\n",
       "      <td>NaN</td>\n",
       "      <td>between 100,000 and 1 million</td>\n",
       "      <td>NaN</td>\n",
       "      <td>NaN</td>\n",
       "      <td>...</td>\n",
       "      <td>NaN</td>\n",
       "      <td>NaN</td>\n",
       "      <td>NaN</td>\n",
       "      <td>NaN</td>\n",
       "      <td>NaN</td>\n",
       "      <td>NaN</td>\n",
       "      <td>NaN</td>\n",
       "      <td>NaN</td>\n",
       "      <td>NaN</td>\n",
       "      <td>NaN</td>\n",
       "    </tr>\n",
       "  </tbody>\n",
       "</table>\n",
       "<p>5 rows × 136 columns</p>\n",
       "</div>"
      ],
      "text/plain": [
       "    Age  AttendedBootcamp  BootcampFinish  BootcampLoanYesNo BootcampName  \\\n",
       "0  27.0               0.0             NaN                NaN          NaN   \n",
       "1  34.0               0.0             NaN                NaN          NaN   \n",
       "2  21.0               0.0             NaN                NaN          NaN   \n",
       "3  26.0               0.0             NaN                NaN          NaN   \n",
       "4  20.0               0.0             NaN                NaN          NaN   \n",
       "\n",
       "   BootcampRecommend  ChildrenNumber                 CityPopulation  \\\n",
       "0                NaN             NaN            more than 1 million   \n",
       "1                NaN             NaN              less than 100,000   \n",
       "2                NaN             NaN            more than 1 million   \n",
       "3                NaN             NaN  between 100,000 and 1 million   \n",
       "4                NaN             NaN  between 100,000 and 1 million   \n",
       "\n",
       "   CodeEventConferences  CodeEventDjangoGirls         ...           \\\n",
       "0                   NaN                   NaN         ...            \n",
       "1                   NaN                   NaN         ...            \n",
       "2                   NaN                   NaN         ...            \n",
       "3                   NaN                   NaN         ...            \n",
       "4                   NaN                   NaN         ...            \n",
       "\n",
       "   YouTubeFCC  YouTubeFunFunFunction  YouTubeGoogleDev  YouTubeLearnCode  \\\n",
       "0         NaN                    NaN               NaN               NaN   \n",
       "1         1.0                    NaN               NaN               NaN   \n",
       "2         NaN                    NaN               NaN               1.0   \n",
       "3         1.0                    1.0               NaN               NaN   \n",
       "4         NaN                    NaN               NaN               NaN   \n",
       "\n",
       "   YouTubeLevelUpTuts  YouTubeMIT  YouTubeMozillaHacks YouTubeOther  \\\n",
       "0                 NaN         NaN                  NaN          NaN   \n",
       "1                 NaN         NaN                  NaN          NaN   \n",
       "2                 1.0         NaN                  NaN          NaN   \n",
       "3                 1.0         NaN                  NaN          NaN   \n",
       "4                 NaN         NaN                  NaN          NaN   \n",
       "\n",
       "   YouTubeSimplilearn  YouTubeTheNewBoston  \n",
       "0                 NaN                  NaN  \n",
       "1                 NaN                  NaN  \n",
       "2                 NaN                  NaN  \n",
       "3                 NaN                  NaN  \n",
       "4                 NaN                  NaN  \n",
       "\n",
       "[5 rows x 136 columns]"
      ]
     },
     "execution_count": 1,
     "metadata": {},
     "output_type": "execute_result"
    }
   ],
   "source": [
    "import matplotlib.pyplot as plt\n",
    "import pandas as pd\n",
    "import numpy as np\n",
    "%matplotlib inline\n",
    "\n",
    "survey = pd.read_csv('2017-fCC-New-Coders-Survey-Data.csv', low_memory=False)\n",
    "raw_survey = pd.read_csv('raw-data/2017-new-coder-survey-part-1.csv')\n",
    "print(survey.shape)\n",
    "print(survey.columns)\n",
    "survey.head()"
   ]
  },
  {
   "cell_type": "code",
   "execution_count": 2,
   "metadata": {},
   "outputs": [
    {
     "name": "stdout",
     "output_type": "stream",
     "text": [
      "0 Age\n",
      "1 AttendedBootcamp\n",
      "2 BootcampFinish\n",
      "3 BootcampLoanYesNo\n",
      "4 BootcampName\n",
      "5 BootcampRecommend\n",
      "6 ChildrenNumber\n",
      "7 CityPopulation\n",
      "8 CodeEventConferences\n",
      "9 CodeEventDjangoGirls\n",
      "10 CodeEventFCC\n",
      "11 CodeEventGameJam\n",
      "12 CodeEventGirlDev\n",
      "13 CodeEventHackathons\n",
      "14 CodeEventMeetup\n",
      "15 CodeEventNodeSchool\n",
      "16 CodeEventNone\n",
      "17 CodeEventOther\n",
      "18 CodeEventRailsBridge\n",
      "19 CodeEventRailsGirls\n",
      "20 CodeEventStartUpWknd\n",
      "21 CodeEventWkdBootcamps\n",
      "22 CodeEventWomenCode\n",
      "23 CodeEventWorkshops\n",
      "24 CommuteTime\n",
      "25 CountryCitizen\n",
      "26 CountryLive\n",
      "27 EmploymentField\n",
      "28 EmploymentFieldOther\n",
      "29 EmploymentStatus\n",
      "30 EmploymentStatusOther\n",
      "31 ExpectedEarning\n",
      "32 FinanciallySupporting\n",
      "33 FirstDevJob\n",
      "34 Gender\n",
      "35 GenderOther\n",
      "36 HasChildren\n",
      "37 HasDebt\n",
      "38 HasFinancialDependents\n",
      "39 HasHighSpdInternet\n",
      "40 HasHomeMortgage\n",
      "41 HasServedInMilitary\n",
      "42 HasStudentDebt\n",
      "43 HomeMortgageOwe\n",
      "44 HoursLearning\n",
      "45 ID.x\n",
      "46 ID.y\n",
      "47 Income\n",
      "48 IsEthnicMinority\n",
      "49 IsReceiveDisabilitiesBenefits\n",
      "50 IsSoftwareDev\n",
      "51 IsUnderEmployed\n",
      "52 JobApplyWhen\n",
      "53 JobInterestBackEnd\n",
      "54 JobInterestDataEngr\n",
      "55 JobInterestDataSci\n",
      "56 JobInterestDevOps\n",
      "57 JobInterestFrontEnd\n",
      "58 JobInterestFullStack\n",
      "59 JobInterestGameDev\n",
      "60 JobInterestInfoSec\n",
      "61 JobInterestMobile\n",
      "62 JobInterestOther\n",
      "63 JobInterestProjMngr\n",
      "64 JobInterestQAEngr\n",
      "65 JobInterestUX\n",
      "66 JobPref\n",
      "67 JobRelocateYesNo\n",
      "68 JobRoleInterest\n",
      "69 JobWherePref\n",
      "70 LanguageAtHome\n",
      "71 MaritalStatus\n",
      "72 MoneyForLearning\n",
      "73 MonthsProgramming\n",
      "74 NetworkID\n",
      "75 Part1EndTime\n",
      "76 Part1StartTime\n",
      "77 Part2EndTime\n",
      "78 Part2StartTime\n",
      "79 PodcastChangeLog\n",
      "80 PodcastCodeNewbie\n",
      "81 PodcastCodePen\n",
      "82 PodcastDevTea\n",
      "83 PodcastDotNET\n",
      "84 PodcastGiantRobots\n",
      "85 PodcastJSAir\n",
      "86 PodcastJSJabber\n",
      "87 PodcastNone\n",
      "88 PodcastOther\n",
      "89 PodcastProgThrowdown\n",
      "90 PodcastRubyRogues\n",
      "91 PodcastSEDaily\n",
      "92 PodcastSERadio\n",
      "93 PodcastShopTalk\n",
      "94 PodcastTalkPython\n",
      "95 PodcastTheWebAhead\n",
      "96 ResourceCodecademy\n",
      "97 ResourceCodeWars\n",
      "98 ResourceCoursera\n",
      "99 ResourceCSS\n",
      "100 ResourceEdX\n",
      "101 ResourceEgghead\n",
      "102 ResourceFCC\n",
      "103 ResourceHackerRank\n",
      "104 ResourceKA\n",
      "105 ResourceLynda\n",
      "106 ResourceMDN\n",
      "107 ResourceOdinProj\n",
      "108 ResourceOther\n",
      "109 ResourcePluralSight\n",
      "110 ResourceSkillcrush\n",
      "111 ResourceSO\n",
      "112 ResourceTreehouse\n",
      "113 ResourceUdacity\n",
      "114 ResourceUdemy\n",
      "115 ResourceW3S\n",
      "116 SchoolDegree\n",
      "117 SchoolMajor\n",
      "118 StudentDebtOwe\n",
      "119 YouTubeCodeCourse\n",
      "120 YouTubeCodingTrain\n",
      "121 YouTubeCodingTut360\n",
      "122 YouTubeComputerphile\n",
      "123 YouTubeDerekBanas\n",
      "124 YouTubeDevTips\n",
      "125 YouTubeEngineeredTruth\n",
      "126 YouTubeFCC\n",
      "127 YouTubeFunFunFunction\n",
      "128 YouTubeGoogleDev\n",
      "129 YouTubeLearnCode\n",
      "130 YouTubeLevelUpTuts\n",
      "131 YouTubeMIT\n",
      "132 YouTubeMozillaHacks\n",
      "133 YouTubeOther\n",
      "134 YouTubeSimplilearn\n",
      "135 YouTubeTheNewBoston\n"
     ]
    }
   ],
   "source": [
    "for i, r in enumerate(survey.columns):\n",
    "    print(i, r)"
   ]
  },
  {
   "cell_type": "code",
   "execution_count": 3,
   "metadata": {
    "scrolled": true
   },
   "outputs": [
    {
     "name": "stdout",
     "output_type": "stream",
     "text": [
      "0 #\n",
      "1 Are you already working as a software developer?\n",
      "2 Is this your first software development job?\n",
      "3 Before you got this job, how many months did you spend looking for a job?\n",
      "4 Would you prefer to...\n",
      "5 Full-Stack Web Developer\n",
      "6 Back-End Web Developer\n",
      "7   Front-End Web Developer\n",
      "8   Mobile Developer\n",
      "9   DevOps / SysAdmin\n",
      "10   Data Scientist\n",
      "11   Quality Assurance Engineer\n",
      "12   User Experience Designer\n",
      "13   Product Manager\n",
      "14 Game Developer\n",
      "15 Information Security\n",
      "16 Data Engineer\n",
      "17 Other\n",
      "18 When do you plan to start applying for developer jobs?\n",
      "19 About how much money do you expect to earn per year at your first developer job (in US Dollars)?\n",
      "20 Would you prefer to work...\n",
      "21 Are you willing to relocate for a job?\n",
      "22 freeCodeCamp\n",
      "23 EdX\n",
      "24 Coursera\n",
      "25 Khan Academy\n",
      "26 Pluralsight / Code School\n",
      "27 Codecademy\n",
      "28 Udacity\n",
      "29 Udemy\n",
      "30 Code Wars\n",
      "31 The Odin Project\n",
      "32 Treehouse\n",
      "33 Lynda.com\n",
      "34 Stack Overflow\n",
      "35 W3Schools\n",
      "36 Skillcrush\n",
      "37 HackerRank\n",
      "38 Mozilla Developer Network (MDN)\n",
      "39 Egghead.io\n",
      "40 CSS Tricks\n",
      "41 Other.1\n",
      "42 freeCodeCamp study groups\n",
      "43 hackathons\n",
      "44 conferences\n",
      "45 workshops\n",
      "46 Startup Weekend\n",
      "47 NodeSchool\n",
      "48 Women Who Code\n",
      "49 Girl Develop It\n",
      "50 Meetup.com events\n",
      "51 RailsBridge\n",
      "52 Game Jam\n",
      "53 Rails Girls\n",
      "54 Django Girls\n",
      "55 weekend bootcamps\n",
      "56 Other.2\n",
      "57 Code Newbie\n",
      "58 The Changelog\n",
      "59 Software Engineering Daily\n",
      "60 JavaScript Jabber\n",
      "61 Ruby Rogues\n",
      "62 Shop Talk Show\n",
      "63 Developer Tea\n",
      "64 Programming Throwdown\n",
      "65 .NET Rocks\n",
      "66 Talk Python To Me\n",
      "67 JavaScript Air\n",
      "68 The Web Ahead\n",
      "69 CodePen Radio\n",
      "70 Giant Robots Smashing into Other Giant Robots\n",
      "71 Software Engineering Radio\n",
      "72 Other.3\n",
      "73 MIT Open Courseware\n",
      "74 The New Boston\n",
      "75 freeCodeCamp.1\n",
      "76 Computerphile\n",
      "77 DevTips\n",
      "78 Engineered Truth\n",
      "79 LearnCode.Academy\n",
      "80 CodeCourse\n",
      "81 LevelUpTuts\n",
      "82 funfunfunction\n",
      "83 Coding Tutorials 360\n",
      "84 Coding Train (Coding Rainbow)\n",
      "85 Derek Banas\n",
      "86 Simplilearn\n",
      "87 Mozilla Hacks\n",
      "88 Google Developers\n",
      "89 Other.4\n",
      "90 About how many hours do you spend learning each week?\n",
      "91 About how many months have you been programming for?\n",
      "92 Have you attended a full-time coding bootcamp?\n",
      "93 Which one?\n",
      "94 Have you finished yet?\n",
      "95 Did you take out a loan to pay for the bootcamp?\n",
      "96 Based on your experience, would you recommend this bootcamp to your friends?\n",
      "97 Aside from university tuition, about how much money have you spent on learning to code so far (in US dollars)?\n",
      "98 Start Date (UTC)\n",
      "99 Submit Date (UTC)\n",
      "100 Network ID\n"
     ]
    }
   ],
   "source": [
    "for i, r in enumerate(raw_survey.columns):\n",
    "    print(i, r)"
   ]
  },
  {
   "cell_type": "markdown",
   "metadata": {},
   "source": [
    "According to the datasets `survey` and `raw_survey`, we now realze what kind of questions were made in the survey. Our goal is to find markets to advertise in, so the columns of the job interest of people and the column of their living country s\n",
    "eem to be useful.\n",
    "\n",
    "### Job Interest Column"
   ]
  },
  {
   "cell_type": "code",
   "execution_count": 4,
   "metadata": {
    "scrolled": true
   },
   "outputs": [
    {
     "name": "stdout",
     "output_type": "stream",
     "text": [
      "JobInterestBackEnd\n",
      "JobInterestDataEngr\n",
      "JobInterestDataSci\n",
      "JobInterestDevOps\n",
      "JobInterestFrontEnd\n",
      "JobInterestFullStack\n",
      "JobInterestGameDev\n",
      "JobInterestInfoSec\n",
      "JobInterestMobile\n",
      "JobInterestOther\n",
      "JobInterestProjMngr\n",
      "JobInterestQAEngr\n",
      "JobInterestUX\n",
      "JobRoleInterest\n"
     ]
    }
   ],
   "source": [
    "interest_col = []\n",
    "for col in survey.columns:\n",
    "    if 'Interest' in col:\n",
    "        print(col)\n",
    "        interest_col.append(col)"
   ]
  },
  {
   "cell_type": "code",
   "execution_count": 5,
   "metadata": {
    "scrolled": false
   },
   "outputs": [
    {
     "data": {
      "text/html": [
       "<div>\n",
       "<style scoped>\n",
       "    .dataframe tbody tr th:only-of-type {\n",
       "        vertical-align: middle;\n",
       "    }\n",
       "\n",
       "    .dataframe tbody tr th {\n",
       "        vertical-align: top;\n",
       "    }\n",
       "\n",
       "    .dataframe thead th {\n",
       "        text-align: right;\n",
       "    }\n",
       "</style>\n",
       "<table border=\"1\" class=\"dataframe\">\n",
       "  <thead>\n",
       "    <tr style=\"text-align: right;\">\n",
       "      <th></th>\n",
       "      <th>JobInterestBackEnd</th>\n",
       "      <th>JobInterestDataEngr</th>\n",
       "      <th>JobInterestDataSci</th>\n",
       "      <th>JobInterestDevOps</th>\n",
       "      <th>JobInterestFrontEnd</th>\n",
       "      <th>JobInterestFullStack</th>\n",
       "      <th>JobInterestGameDev</th>\n",
       "      <th>JobInterestInfoSec</th>\n",
       "      <th>JobInterestMobile</th>\n",
       "      <th>JobInterestOther</th>\n",
       "      <th>JobInterestProjMngr</th>\n",
       "      <th>JobInterestQAEngr</th>\n",
       "      <th>JobInterestUX</th>\n",
       "      <th>JobRoleInterest</th>\n",
       "    </tr>\n",
       "  </thead>\n",
       "  <tbody>\n",
       "    <tr>\n",
       "      <th>0</th>\n",
       "      <td>NaN</td>\n",
       "      <td>NaN</td>\n",
       "      <td>NaN</td>\n",
       "      <td>NaN</td>\n",
       "      <td>NaN</td>\n",
       "      <td>NaN</td>\n",
       "      <td>NaN</td>\n",
       "      <td>NaN</td>\n",
       "      <td>NaN</td>\n",
       "      <td>NaN</td>\n",
       "      <td>NaN</td>\n",
       "      <td>NaN</td>\n",
       "      <td>NaN</td>\n",
       "      <td>NaN</td>\n",
       "    </tr>\n",
       "    <tr>\n",
       "      <th>1</th>\n",
       "      <td>NaN</td>\n",
       "      <td>NaN</td>\n",
       "      <td>NaN</td>\n",
       "      <td>NaN</td>\n",
       "      <td>NaN</td>\n",
       "      <td>1.0</td>\n",
       "      <td>NaN</td>\n",
       "      <td>NaN</td>\n",
       "      <td>NaN</td>\n",
       "      <td>NaN</td>\n",
       "      <td>NaN</td>\n",
       "      <td>NaN</td>\n",
       "      <td>NaN</td>\n",
       "      <td>Full-Stack Web Developer</td>\n",
       "    </tr>\n",
       "    <tr>\n",
       "      <th>2</th>\n",
       "      <td>1.0</td>\n",
       "      <td>NaN</td>\n",
       "      <td>NaN</td>\n",
       "      <td>1.0</td>\n",
       "      <td>1.0</td>\n",
       "      <td>1.0</td>\n",
       "      <td>NaN</td>\n",
       "      <td>NaN</td>\n",
       "      <td>1.0</td>\n",
       "      <td>NaN</td>\n",
       "      <td>NaN</td>\n",
       "      <td>NaN</td>\n",
       "      <td>NaN</td>\n",
       "      <td>Front-End Web Developer, Back-End Web Develo...</td>\n",
       "    </tr>\n",
       "    <tr>\n",
       "      <th>3</th>\n",
       "      <td>1.0</td>\n",
       "      <td>NaN</td>\n",
       "      <td>NaN</td>\n",
       "      <td>NaN</td>\n",
       "      <td>1.0</td>\n",
       "      <td>1.0</td>\n",
       "      <td>NaN</td>\n",
       "      <td>NaN</td>\n",
       "      <td>NaN</td>\n",
       "      <td>NaN</td>\n",
       "      <td>NaN</td>\n",
       "      <td>NaN</td>\n",
       "      <td>NaN</td>\n",
       "      <td>Front-End Web Developer, Full-Stack Web Deve...</td>\n",
       "    </tr>\n",
       "    <tr>\n",
       "      <th>4</th>\n",
       "      <td>1.0</td>\n",
       "      <td>NaN</td>\n",
       "      <td>NaN</td>\n",
       "      <td>NaN</td>\n",
       "      <td>1.0</td>\n",
       "      <td>1.0</td>\n",
       "      <td>NaN</td>\n",
       "      <td>1.0</td>\n",
       "      <td>1.0</td>\n",
       "      <td>NaN</td>\n",
       "      <td>NaN</td>\n",
       "      <td>NaN</td>\n",
       "      <td>NaN</td>\n",
       "      <td>Full-Stack Web Developer, Information Security...</td>\n",
       "    </tr>\n",
       "  </tbody>\n",
       "</table>\n",
       "</div>"
      ],
      "text/plain": [
       "   JobInterestBackEnd  JobInterestDataEngr  JobInterestDataSci  \\\n",
       "0                 NaN                  NaN                 NaN   \n",
       "1                 NaN                  NaN                 NaN   \n",
       "2                 1.0                  NaN                 NaN   \n",
       "3                 1.0                  NaN                 NaN   \n",
       "4                 1.0                  NaN                 NaN   \n",
       "\n",
       "   JobInterestDevOps  JobInterestFrontEnd  JobInterestFullStack  \\\n",
       "0                NaN                  NaN                   NaN   \n",
       "1                NaN                  NaN                   1.0   \n",
       "2                1.0                  1.0                   1.0   \n",
       "3                NaN                  1.0                   1.0   \n",
       "4                NaN                  1.0                   1.0   \n",
       "\n",
       "   JobInterestGameDev  JobInterestInfoSec  JobInterestMobile JobInterestOther  \\\n",
       "0                 NaN                 NaN                NaN              NaN   \n",
       "1                 NaN                 NaN                NaN              NaN   \n",
       "2                 NaN                 NaN                1.0              NaN   \n",
       "3                 NaN                 NaN                NaN              NaN   \n",
       "4                 NaN                 1.0                1.0              NaN   \n",
       "\n",
       "   JobInterestProjMngr  JobInterestQAEngr  JobInterestUX  \\\n",
       "0                  NaN                NaN            NaN   \n",
       "1                  NaN                NaN            NaN   \n",
       "2                  NaN                NaN            NaN   \n",
       "3                  NaN                NaN            NaN   \n",
       "4                  NaN                NaN            NaN   \n",
       "\n",
       "                                     JobRoleInterest  \n",
       "0                                                NaN  \n",
       "1                           Full-Stack Web Developer  \n",
       "2    Front-End Web Developer, Back-End Web Develo...  \n",
       "3    Front-End Web Developer, Full-Stack Web Deve...  \n",
       "4  Full-Stack Web Developer, Information Security...  "
      ]
     },
     "execution_count": 5,
     "metadata": {},
     "output_type": "execute_result"
    }
   ],
   "source": [
    "survey[interest_col].head(5)"
   ]
  },
  {
   "cell_type": "code",
   "execution_count": 6,
   "metadata": {},
   "outputs": [
    {
     "data": {
      "text/plain": [
       "<matplotlib.axes._subplots.AxesSubplot at 0x109909860>"
      ]
     },
     "execution_count": 6,
     "metadata": {},
     "output_type": "execute_result"
    },
    {
     "data": {
      "image/png": "[encoded data removed]",
      "text/plain": [
       "<Figure size 432x288 with 1 Axes>"
      ]
     },
     "metadata": {
      "needs_background": "light"
     },
     "output_type": "display_data"
    }
   ],
   "source": [
    "interest_s = pd.Series(index=interest_col)\n",
    "for col in interest_col:\n",
    "    num_interests = survey[col].notnull().sum()\n",
    "    interest_s[col] = num_interests\n",
    "    \n",
    "interest_s = interest_s.sort_values(ascending=False)[1:]\n",
    "interest_s.plot.barh()"
   ]
  },
  {
   "cell_type": "code",
   "execution_count": 7,
   "metadata": {},
   "outputs": [
    {
     "data": {
      "text/plain": [
       "NaN                                                                                                                                                                                                                                                         0.615296\n",
       "Full-Stack Web Developer                                                                                                                                                                                                                                    0.045282\n",
       "  Front-End Web Developer                                                                                                                                                                                                                                   0.024759\n",
       "  Data Scientist                                                                                                                                                                                                                                            0.008363\n",
       "Back-End Web Developer                                                                                                                                                                                                                                      0.007813\n",
       "  Mobile Developer                                                                                                                                                                                                                                          0.006437\n",
       "Game Developer                                                                                                                                                                                                                                              0.006272\n",
       "Information Security                                                                                                                                                                                                                                        0.005062\n",
       "Full-Stack Web Developer,   Front-End Web Developer                                                                                                                                                                                                         0.003521\n",
       "  Front-End Web Developer, Full-Stack Web Developer                                                                                                                                                                                                         0.003081\n",
       "  Product Manager                                                                                                                                                                                                                                           0.003026\n",
       "Data Engineer                                                                                                                                                                                                                                               0.002916\n",
       "  User Experience Designer                                                                                                                                                                                                                                  0.002861\n",
       "  User Experience Designer,   Front-End Web Developer                                                                                                                                                                                                       0.002366\n",
       "  Front-End Web Developer, Back-End Web Developer, Full-Stack Web Developer                                                                                                                                                                                 0.002146\n",
       "Back-End Web Developer,   Front-End Web Developer, Full-Stack Web Developer                                                                                                                                                                                 0.001981\n",
       "  DevOps / SysAdmin                                                                                                                                                                                                                                         0.001981\n",
       "Back-End Web Developer, Full-Stack Web Developer,   Front-End Web Developer                                                                                                                                                                                 0.001981\n",
       "Full-Stack Web Developer,   Front-End Web Developer, Back-End Web Developer                                                                                                                                                                                 0.001706\n",
       "  Front-End Web Developer, Full-Stack Web Developer, Back-End Web Developer                                                                                                                                                                                 0.001651\n",
       "Full-Stack Web Developer,   Mobile Developer                                                                                                                                                                                                                0.001596\n",
       "  Front-End Web Developer,   User Experience Designer                                                                                                                                                                                                       0.001596\n",
       "Back-End Web Developer, Full-Stack Web Developer                                                                                                                                                                                                            0.001486\n",
       "Full-Stack Web Developer, Back-End Web Developer                                                                                                                                                                                                            0.001431\n",
       "Back-End Web Developer,   Front-End Web Developer                                                                                                                                                                                                           0.001100\n",
       "Full-Stack Web Developer, Back-End Web Developer,   Front-End Web Developer                                                                                                                                                                                 0.001045\n",
       "Data Engineer,   Data Scientist                                                                                                                                                                                                                             0.001045\n",
       "  Front-End Web Developer,   Mobile Developer                                                                                                                                                                                                               0.000990\n",
       "Full-Stack Web Developer,   Data Scientist                                                                                                                                                                                                                  0.000935\n",
       "  Mobile Developer, Game Developer                                                                                                                                                                                                                          0.000880\n",
       "                                                                                                                                                                                                                                                              ...   \n",
       "  Data Scientist,   User Experience Designer, Data Engineer, Full-Stack Web Developer,   Front-End Web Developer                                                                                                                                            0.000055\n",
       "Information Security, Full-Stack Web Developer, Back-End Web Developer,   Mobile Developer,   Front-End Web Developer                                                                                                                                       0.000055\n",
       "Back-End Web Developer,   DevOps / SysAdmin, Data Engineer                                                                                                                                                                                                  0.000055\n",
       "Full-Stack Web Developer,   User Experience Designer,   Front-End Web Developer, Data Engineer, Information Security                                                                                                                                        0.000055\n",
       "Data Engineer,   Mobile Developer,   User Experience Designer,   Data Scientist                                                                                                                                                                             0.000055\n",
       "Data Engineer, Back-End Web Developer, Full-Stack Web Developer,   Data Scientist                                                                                                                                                                           0.000055\n",
       "  Mobile Developer, Information Security, Game Developer, Software Engineer                                                                                                                                                                                 0.000055\n",
       "Information Security,   Data Scientist, Data Engineer, Back-End Web Developer                                                                                                                                                                               0.000055\n",
       "Game Developer,   Quality Assurance Engineer,   User Experience Designer                                                                                                                                                                                    0.000055\n",
       "Game Developer,   User Experience Designer,   Front-End Web Developer,   DevOps / SysAdmin, Full-Stack Web Developer                                                                                                                                        0.000055\n",
       "Information Security, Full-Stack Web Developer, Game Developer,   Mobile Developer                                                                                                                                                                          0.000055\n",
       "Information Security,   Data Scientist, Game Developer                                                                                                                                                                                                      0.000055\n",
       "Back-End Web Developer, Data Engineer,   Mobile Developer, Full-Stack Web Developer,   Data Scientist,   Front-End Web Developer                                                                                                                            0.000055\n",
       "Back-End Web Developer,   DevOps / SysAdmin,   Quality Assurance Engineer,   User Experience Designer,   Product Manager, Full-Stack Web Developer,   Front-End Web Developer                                                                               0.000055\n",
       "  Product Manager, Full-Stack Web Developer, Back-End Web Developer,   Quality Assurance Engineer,   User Experience Designer,   Data Scientist,   Mobile Developer,   Front-End Web Developer, Information Security, Data Engineer,   DevOps / SysAdmin    0.000055\n",
       "  Mobile Developer,   Front-End Web Developer, Data Engineer, Back-End Web Developer, Information Security,   Quality Assurance Engineer                                                                                                                    0.000055\n",
       "  Product Manager,   Mobile Developer, Back-End Web Developer,   Front-End Web Developer,   Quality Assurance Engineer                                                                                                                                      0.000055\n",
       "  Mobile Developer,   Front-End Web Developer, Game Developer, Full-Stack Web Developer                                                                                                                                                                     0.000055\n",
       "Full-Stack Web Developer, Back-End Web Developer, Software Engineer                                                                                                                                                                                         0.000055\n",
       "Game Developer, Full-Stack Web Developer, Back-End Web Developer,   Front-End Web Developer,   Mobile Developer                                                                                                                                             0.000055\n",
       "  Front-End Web Developer, Full-Stack Web Developer,   DevOps / SysAdmin, Back-End Web Developer                                                                                                                                                            0.000055\n",
       "Data Engineer,   Mobile Developer,   Front-End Web Developer, Back-End Web Developer, Game Developer                                                                                                                                                        0.000055\n",
       "  Front-End Web Developer, Data Engineer, Back-End Web Developer,   User Experience Designer, Full-Stack Web Developer,   Mobile Developer                                                                                                                  0.000055\n",
       "Full-Stack Web Developer, Back-End Web Developer,   Product Manager,   Data Scientist                                                                                                                                                                       0.000055\n",
       "Full-Stack Web Developer, Back-End Web Developer,   Front-End Web Developer,   Data Scientist                                                                                                                                                               0.000055\n",
       "Back-End Web Developer,   Mobile Developer,   Product Manager,   User Experience Designer                                                                                                                                                                   0.000055\n",
       "  User Experience Designer, Full-Stack Web Developer, Back-End Web Developer,   Product Manager, Information Security,   Quality Assurance Engineer                                                                                                         0.000055\n",
       "  Mobile Developer,   Front-End Web Developer, Full-Stack Web Developer, Back-End Web Developer,   User Experience Designer                                                                                                                                 0.000055\n",
       "Data Engineer,   DevOps / SysAdmin                                                                                                                                                                                                                          0.000055\n",
       "  Data Scientist, Back-End Web Developer, Full-Stack Web Developer,   User Experience Designer,   Mobile Developer,   Front-End Web Developer, Project Manager                                                                                              0.000055\n",
       "Name: JobRoleInterest, Length: 3214, dtype: float64"
      ]
     },
     "execution_count": 7,
     "metadata": {},
     "output_type": "execute_result"
    }
   ],
   "source": [
    "survey['JobRoleInterest'].value_counts(normalize=True, dropna=False)"
   ]
  },
  {
   "cell_type": "markdown",
   "metadata": {},
   "source": [
    "According to the `JobRoleInterest`, there are so many people who are not intrested in any jobs and it is more than 60%. However, we are only interested in people who are finding jobs, so we leave them out."
   ]
  },
  {
   "cell_type": "code",
   "execution_count": 8,
   "metadata": {},
   "outputs": [
    {
     "data": {
      "text/html": [
       "<div>\n",
       "<style scoped>\n",
       "    .dataframe tbody tr th:only-of-type {\n",
       "        vertical-align: middle;\n",
       "    }\n",
       "\n",
       "    .dataframe tbody tr th {\n",
       "        vertical-align: top;\n",
       "    }\n",
       "\n",
       "    .dataframe thead th {\n",
       "        text-align: right;\n",
       "    }\n",
       "</style>\n",
       "<table border=\"1\" class=\"dataframe\">\n",
       "  <thead>\n",
       "    <tr style=\"text-align: right;\">\n",
       "      <th></th>\n",
       "      <th>Age</th>\n",
       "      <th>AttendedBootcamp</th>\n",
       "      <th>BootcampFinish</th>\n",
       "      <th>BootcampLoanYesNo</th>\n",
       "      <th>BootcampName</th>\n",
       "      <th>BootcampRecommend</th>\n",
       "      <th>ChildrenNumber</th>\n",
       "      <th>CityPopulation</th>\n",
       "      <th>CodeEventConferences</th>\n",
       "      <th>CodeEventDjangoGirls</th>\n",
       "      <th>...</th>\n",
       "      <th>YouTubeFCC</th>\n",
       "      <th>YouTubeFunFunFunction</th>\n",
       "      <th>YouTubeGoogleDev</th>\n",
       "      <th>YouTubeLearnCode</th>\n",
       "      <th>YouTubeLevelUpTuts</th>\n",
       "      <th>YouTubeMIT</th>\n",
       "      <th>YouTubeMozillaHacks</th>\n",
       "      <th>YouTubeOther</th>\n",
       "      <th>YouTubeSimplilearn</th>\n",
       "      <th>YouTubeTheNewBoston</th>\n",
       "    </tr>\n",
       "  </thead>\n",
       "  <tbody>\n",
       "    <tr>\n",
       "      <th>1</th>\n",
       "      <td>34.0</td>\n",
       "      <td>0.0</td>\n",
       "      <td>NaN</td>\n",
       "      <td>NaN</td>\n",
       "      <td>NaN</td>\n",
       "      <td>NaN</td>\n",
       "      <td>NaN</td>\n",
       "      <td>less than 100,000</td>\n",
       "      <td>NaN</td>\n",
       "      <td>NaN</td>\n",
       "      <td>...</td>\n",
       "      <td>1.0</td>\n",
       "      <td>NaN</td>\n",
       "      <td>NaN</td>\n",
       "      <td>NaN</td>\n",
       "      <td>NaN</td>\n",
       "      <td>NaN</td>\n",
       "      <td>NaN</td>\n",
       "      <td>NaN</td>\n",
       "      <td>NaN</td>\n",
       "      <td>NaN</td>\n",
       "    </tr>\n",
       "    <tr>\n",
       "      <th>2</th>\n",
       "      <td>21.0</td>\n",
       "      <td>0.0</td>\n",
       "      <td>NaN</td>\n",
       "      <td>NaN</td>\n",
       "      <td>NaN</td>\n",
       "      <td>NaN</td>\n",
       "      <td>NaN</td>\n",
       "      <td>more than 1 million</td>\n",
       "      <td>NaN</td>\n",
       "      <td>NaN</td>\n",
       "      <td>...</td>\n",
       "      <td>NaN</td>\n",
       "      <td>NaN</td>\n",
       "      <td>NaN</td>\n",
       "      <td>1.0</td>\n",
       "      <td>1.0</td>\n",
       "      <td>NaN</td>\n",
       "      <td>NaN</td>\n",
       "      <td>NaN</td>\n",
       "      <td>NaN</td>\n",
       "      <td>NaN</td>\n",
       "    </tr>\n",
       "    <tr>\n",
       "      <th>3</th>\n",
       "      <td>26.0</td>\n",
       "      <td>0.0</td>\n",
       "      <td>NaN</td>\n",
       "      <td>NaN</td>\n",
       "      <td>NaN</td>\n",
       "      <td>NaN</td>\n",
       "      <td>NaN</td>\n",
       "      <td>between 100,000 and 1 million</td>\n",
       "      <td>NaN</td>\n",
       "      <td>NaN</td>\n",
       "      <td>...</td>\n",
       "      <td>1.0</td>\n",
       "      <td>1.0</td>\n",
       "      <td>NaN</td>\n",
       "      <td>NaN</td>\n",
       "      <td>1.0</td>\n",
       "      <td>NaN</td>\n",
       "      <td>NaN</td>\n",
       "      <td>NaN</td>\n",
       "      <td>NaN</td>\n",
       "      <td>NaN</td>\n",
       "    </tr>\n",
       "    <tr>\n",
       "      <th>4</th>\n",
       "      <td>20.0</td>\n",
       "      <td>0.0</td>\n",
       "      <td>NaN</td>\n",
       "      <td>NaN</td>\n",
       "      <td>NaN</td>\n",
       "      <td>NaN</td>\n",
       "      <td>NaN</td>\n",
       "      <td>between 100,000 and 1 million</td>\n",
       "      <td>NaN</td>\n",
       "      <td>NaN</td>\n",
       "      <td>...</td>\n",
       "      <td>NaN</td>\n",
       "      <td>NaN</td>\n",
       "      <td>NaN</td>\n",
       "      <td>NaN</td>\n",
       "      <td>NaN</td>\n",
       "      <td>NaN</td>\n",
       "      <td>NaN</td>\n",
       "      <td>NaN</td>\n",
       "      <td>NaN</td>\n",
       "      <td>NaN</td>\n",
       "    </tr>\n",
       "    <tr>\n",
       "      <th>6</th>\n",
       "      <td>29.0</td>\n",
       "      <td>0.0</td>\n",
       "      <td>NaN</td>\n",
       "      <td>NaN</td>\n",
       "      <td>NaN</td>\n",
       "      <td>NaN</td>\n",
       "      <td>NaN</td>\n",
       "      <td>between 100,000 and 1 million</td>\n",
       "      <td>1.0</td>\n",
       "      <td>NaN</td>\n",
       "      <td>...</td>\n",
       "      <td>NaN</td>\n",
       "      <td>NaN</td>\n",
       "      <td>NaN</td>\n",
       "      <td>NaN</td>\n",
       "      <td>NaN</td>\n",
       "      <td>NaN</td>\n",
       "      <td>NaN</td>\n",
       "      <td>NaN</td>\n",
       "      <td>NaN</td>\n",
       "      <td>NaN</td>\n",
       "    </tr>\n",
       "  </tbody>\n",
       "</table>\n",
       "<p>5 rows × 136 columns</p>\n",
       "</div>"
      ],
      "text/plain": [
       "    Age  AttendedBootcamp  BootcampFinish  BootcampLoanYesNo BootcampName  \\\n",
       "1  34.0               0.0             NaN                NaN          NaN   \n",
       "2  21.0               0.0             NaN                NaN          NaN   \n",
       "3  26.0               0.0             NaN                NaN          NaN   \n",
       "4  20.0               0.0             NaN                NaN          NaN   \n",
       "6  29.0               0.0             NaN                NaN          NaN   \n",
       "\n",
       "   BootcampRecommend  ChildrenNumber                 CityPopulation  \\\n",
       "1                NaN             NaN              less than 100,000   \n",
       "2                NaN             NaN            more than 1 million   \n",
       "3                NaN             NaN  between 100,000 and 1 million   \n",
       "4                NaN             NaN  between 100,000 and 1 million   \n",
       "6                NaN             NaN  between 100,000 and 1 million   \n",
       "\n",
       "   CodeEventConferences  CodeEventDjangoGirls         ...           \\\n",
       "1                   NaN                   NaN         ...            \n",
       "2                   NaN                   NaN         ...            \n",
       "3                   NaN                   NaN         ...            \n",
       "4                   NaN                   NaN         ...            \n",
       "6                   1.0                   NaN         ...            \n",
       "\n",
       "   YouTubeFCC  YouTubeFunFunFunction  YouTubeGoogleDev  YouTubeLearnCode  \\\n",
       "1         1.0                    NaN               NaN               NaN   \n",
       "2         NaN                    NaN               NaN               1.0   \n",
       "3         1.0                    1.0               NaN               NaN   \n",
       "4         NaN                    NaN               NaN               NaN   \n",
       "6         NaN                    NaN               NaN               NaN   \n",
       "\n",
       "   YouTubeLevelUpTuts  YouTubeMIT  YouTubeMozillaHacks YouTubeOther  \\\n",
       "1                 NaN         NaN                  NaN          NaN   \n",
       "2                 1.0         NaN                  NaN          NaN   \n",
       "3                 1.0         NaN                  NaN          NaN   \n",
       "4                 NaN         NaN                  NaN          NaN   \n",
       "6                 NaN         NaN                  NaN          NaN   \n",
       "\n",
       "   YouTubeSimplilearn  YouTubeTheNewBoston  \n",
       "1                 NaN                  NaN  \n",
       "2                 NaN                  NaN  \n",
       "3                 NaN                  NaN  \n",
       "4                 NaN                  NaN  \n",
       "6                 NaN                  NaN  \n",
       "\n",
       "[5 rows x 136 columns]"
      ]
     },
     "execution_count": 8,
     "metadata": {},
     "output_type": "execute_result"
    }
   ],
   "source": [
    "job_interest = survey[survey['JobRoleInterest'].notnull()].copy()\n",
    "job_interest.head()"
   ]
  },
  {
   "cell_type": "markdown",
   "metadata": {},
   "source": [
    "### Living Country Column"
   ]
  },
  {
   "cell_type": "code",
   "execution_count": 9,
   "metadata": {},
   "outputs": [
    {
     "name": "stdout",
     "output_type": "stream",
     "text": [
      "CountryCitizen\n",
      "CountryLive\n"
     ]
    }
   ],
   "source": [
    "for col in job_interest.columns:\n",
    "    if 'Country' in col:\n",
    "        print(col)"
   ]
  },
  {
   "cell_type": "markdown",
   "metadata": {},
   "source": [
    "The column of `CountryCitizen` means counries where people were born and the column of `CountryLive` means countries where people are living now.\n",
    "Since we are interested in countries where people are living now, we use `CountryLive` column."
   ]
  },
  {
   "cell_type": "code",
   "execution_count": 10,
   "metadata": {},
   "outputs": [
    {
     "data": {
      "text/plain": [
       "United States of America    3125\n",
       "India                        528\n",
       "United Kingdom               315\n",
       "Canada                       260\n",
       "Poland                       131\n",
       "Brazil                       129\n",
       "Germany                      125\n",
       "Australia                    112\n",
       "Russia                       102\n",
       "Ukraine                       89\n",
       "Name: CountryLive, dtype: int64"
      ]
     },
     "execution_count": 10,
     "metadata": {},
     "output_type": "execute_result"
    }
   ],
   "source": [
    "country_num = job_interest['CountryLive'].value_counts()\n",
    "country_num.head(10)"
   ]
  },
  {
   "cell_type": "code",
   "execution_count": 11,
   "metadata": {
    "scrolled": true
   },
   "outputs": [
    {
     "data": {
      "text/plain": [
       "<matplotlib.axes._subplots.AxesSubplot at 0x1189c6978>"
      ]
     },
     "execution_count": 11,
     "metadata": {},
     "output_type": "execute_result"
    },
    {
     "data": {
      "image/png": "[encoded data removed]",
      "text/plain": [
       "<Figure size 432x288 with 1 Axes>"
      ]
     },
     "metadata": {
      "needs_background": "light"
     },
     "output_type": "display_data"
    }
   ],
   "source": [
    "country_pct = job_interest['CountryLive'].value_counts(normalize=True)\n",
    "country_pct.head(10)\n",
    "\n",
    "country_num.head(10).plot.barh()"
   ]
  },
  {
   "cell_type": "markdown",
   "metadata": {},
   "source": [
    "This frequency bar plot above shows the top 10 countries with many people who in terested in jobs.\n",
    "\n",
    "As an e-learning company the absolute number of people who interested in jobs are very important, so from now on, we will analyze on the only top 4 countries, 'United States of America', 'India', 'United Kingdom', and 'Canada'."
   ]
  },
  {
   "cell_type": "code",
   "execution_count": 12,
   "metadata": {
    "scrolled": false
   },
   "outputs": [
    {
     "data": {
      "text/plain": [
       "United States of America    3125\n",
       "India                        528\n",
       "United Kingdom               315\n",
       "Canada                       260\n",
       "Name: CountryLive, dtype: int64"
      ]
     },
     "execution_count": 12,
     "metadata": {},
     "output_type": "execute_result"
    }
   ],
   "source": [
    "top_4 = ['United States of America', 'India', 'United Kingdom', 'Canada']\n",
    "top_countries = job_interest[job_interest['CountryLive'].apply(lambda x: x in top_4)].copy()\n",
    "top_countries['CountryLive'].value_counts()"
   ]
  },
  {
   "cell_type": "markdown",
   "metadata": {},
   "source": [
    "#### Japanese Rank\n",
    "This is not relevant to this project, but I'm interested in Japanese rank in the world.\n",
    "\n",
    "The results are below:"
   ]
  },
  {
   "cell_type": "code",
   "execution_count": 13,
   "metadata": {
    "scrolled": true
   },
   "outputs": [
    {
     "name": "stdout",
     "output_type": "stream",
     "text": [
      "Japan is ranked 43 and only 24 people in Japan are looking for new IT engineering jobs in the survey.\n"
     ]
    }
   ],
   "source": [
    "for i, c in enumerate(country_num.index):\n",
    "    if c=='Japan':\n",
    "        print('{} is ranked {} and only {} people in Japan are looking for new IT engineering jobs in the survey.'.format(c, i+1, country_num[i]))"
   ]
  },
  {
   "cell_type": "markdown",
   "metadata": {},
   "source": [
    "## How Much Money People Spend for Learning\n",
    "To know how much money people spend for learning, we use two columns of `MoneyForLearning` and `MonthsProgramming`. \n",
    "\n",
    "`MoneyForLearning` shows the total money they spent for learning since they started to learn coding and `MonthsProgramming` shows how many months did it take since they started to learn coding.\n",
    "\n",
    "Therefore, we will get to know how much money people spend for learning for a month by calculating `MoneyForLearning` devided by `MonthsProgramming` and assigning it to `MoneyPerMonth`.\n",
    "\n",
    "### Calculating `MoneyPerMonth`"
   ]
  },
  {
   "cell_type": "code",
   "execution_count": 14,
   "metadata": {
    "scrolled": true
   },
   "outputs": [
    {
     "data": {
      "text/html": [
       "<div>\n",
       "<style scoped>\n",
       "    .dataframe tbody tr th:only-of-type {\n",
       "        vertical-align: middle;\n",
       "    }\n",
       "\n",
       "    .dataframe tbody tr th {\n",
       "        vertical-align: top;\n",
       "    }\n",
       "\n",
       "    .dataframe thead th {\n",
       "        text-align: right;\n",
       "    }\n",
       "</style>\n",
       "<table border=\"1\" class=\"dataframe\">\n",
       "  <thead>\n",
       "    <tr style=\"text-align: right;\">\n",
       "      <th></th>\n",
       "      <th>MoneyForLearning</th>\n",
       "      <th>MonthsProgramming</th>\n",
       "    </tr>\n",
       "  </thead>\n",
       "  <tbody>\n",
       "    <tr>\n",
       "      <th>1</th>\n",
       "      <td>80.0</td>\n",
       "      <td>6.0</td>\n",
       "    </tr>\n",
       "    <tr>\n",
       "      <th>2</th>\n",
       "      <td>1000.0</td>\n",
       "      <td>5.0</td>\n",
       "    </tr>\n",
       "    <tr>\n",
       "      <th>6</th>\n",
       "      <td>0.0</td>\n",
       "      <td>12.0</td>\n",
       "    </tr>\n",
       "    <tr>\n",
       "      <th>13</th>\n",
       "      <td>NaN</td>\n",
       "      <td>NaN</td>\n",
       "    </tr>\n",
       "    <tr>\n",
       "      <th>14</th>\n",
       "      <td>NaN</td>\n",
       "      <td>9.0</td>\n",
       "    </tr>\n",
       "  </tbody>\n",
       "</table>\n",
       "</div>"
      ],
      "text/plain": [
       "    MoneyForLearning  MonthsProgramming\n",
       "1               80.0                6.0\n",
       "2             1000.0                5.0\n",
       "6                0.0               12.0\n",
       "13               NaN                NaN\n",
       "14               NaN                9.0"
      ]
     },
     "execution_count": 14,
     "metadata": {},
     "output_type": "execute_result"
    }
   ],
   "source": [
    "top_countries[['MoneyForLearning', 'MonthsProgramming']].head()"
   ]
  },
  {
   "cell_type": "code",
   "execution_count": 15,
   "metadata": {
    "scrolled": true
   },
   "outputs": [
    {
     "data": {
      "text/plain": [
       "0.0     578\n",
       "1.0    1697\n",
       "2.0    1338\n",
       "3.0    1333\n",
       "4.0     732\n",
       "Name: MonthsProgramming, dtype: int64"
      ]
     },
     "execution_count": 15,
     "metadata": {},
     "output_type": "execute_result"
    }
   ],
   "source": [
    "survey['MonthsProgramming'].value_counts().sort_index().head()"
   ]
  },
  {
   "cell_type": "markdown",
   "metadata": {},
   "source": [
    "Some people answed 0 months for the question `MonthsProgramming` and we have to devide `MoneyForLearning` by `MonthsProgramming`, so we will replace 0 by 1 in the column to calculate with no errors."
   ]
  },
  {
   "cell_type": "code",
   "execution_count": 16,
   "metadata": {
    "scrolled": true
   },
   "outputs": [
    {
     "data": {
      "text/html": [
       "<div>\n",
       "<style scoped>\n",
       "    .dataframe tbody tr th:only-of-type {\n",
       "        vertical-align: middle;\n",
       "    }\n",
       "\n",
       "    .dataframe tbody tr th {\n",
       "        vertical-align: top;\n",
       "    }\n",
       "\n",
       "    .dataframe thead th {\n",
       "        text-align: right;\n",
       "    }\n",
       "</style>\n",
       "<table border=\"1\" class=\"dataframe\">\n",
       "  <thead>\n",
       "    <tr style=\"text-align: right;\">\n",
       "      <th></th>\n",
       "      <th>Age</th>\n",
       "      <th>AttendedBootcamp</th>\n",
       "      <th>BootcampFinish</th>\n",
       "      <th>BootcampLoanYesNo</th>\n",
       "      <th>BootcampName</th>\n",
       "      <th>BootcampRecommend</th>\n",
       "      <th>ChildrenNumber</th>\n",
       "      <th>CityPopulation</th>\n",
       "      <th>CodeEventConferences</th>\n",
       "      <th>CodeEventDjangoGirls</th>\n",
       "      <th>...</th>\n",
       "      <th>YouTubeFunFunFunction</th>\n",
       "      <th>YouTubeGoogleDev</th>\n",
       "      <th>YouTubeLearnCode</th>\n",
       "      <th>YouTubeLevelUpTuts</th>\n",
       "      <th>YouTubeMIT</th>\n",
       "      <th>YouTubeMozillaHacks</th>\n",
       "      <th>YouTubeOther</th>\n",
       "      <th>YouTubeSimplilearn</th>\n",
       "      <th>YouTubeTheNewBoston</th>\n",
       "      <th>MoneyPerMonth</th>\n",
       "    </tr>\n",
       "  </thead>\n",
       "  <tbody>\n",
       "    <tr>\n",
       "      <th>1</th>\n",
       "      <td>34.0</td>\n",
       "      <td>0.0</td>\n",
       "      <td>NaN</td>\n",
       "      <td>NaN</td>\n",
       "      <td>NaN</td>\n",
       "      <td>NaN</td>\n",
       "      <td>NaN</td>\n",
       "      <td>less than 100,000</td>\n",
       "      <td>NaN</td>\n",
       "      <td>NaN</td>\n",
       "      <td>...</td>\n",
       "      <td>NaN</td>\n",
       "      <td>NaN</td>\n",
       "      <td>NaN</td>\n",
       "      <td>NaN</td>\n",
       "      <td>NaN</td>\n",
       "      <td>NaN</td>\n",
       "      <td>NaN</td>\n",
       "      <td>NaN</td>\n",
       "      <td>NaN</td>\n",
       "      <td>13.333333</td>\n",
       "    </tr>\n",
       "    <tr>\n",
       "      <th>2</th>\n",
       "      <td>21.0</td>\n",
       "      <td>0.0</td>\n",
       "      <td>NaN</td>\n",
       "      <td>NaN</td>\n",
       "      <td>NaN</td>\n",
       "      <td>NaN</td>\n",
       "      <td>NaN</td>\n",
       "      <td>more than 1 million</td>\n",
       "      <td>NaN</td>\n",
       "      <td>NaN</td>\n",
       "      <td>...</td>\n",
       "      <td>NaN</td>\n",
       "      <td>NaN</td>\n",
       "      <td>1.0</td>\n",
       "      <td>1.0</td>\n",
       "      <td>NaN</td>\n",
       "      <td>NaN</td>\n",
       "      <td>NaN</td>\n",
       "      <td>NaN</td>\n",
       "      <td>NaN</td>\n",
       "      <td>200.000000</td>\n",
       "    </tr>\n",
       "    <tr>\n",
       "      <th>3</th>\n",
       "      <td>26.0</td>\n",
       "      <td>0.0</td>\n",
       "      <td>NaN</td>\n",
       "      <td>NaN</td>\n",
       "      <td>NaN</td>\n",
       "      <td>NaN</td>\n",
       "      <td>NaN</td>\n",
       "      <td>between 100,000 and 1 million</td>\n",
       "      <td>NaN</td>\n",
       "      <td>NaN</td>\n",
       "      <td>...</td>\n",
       "      <td>1.0</td>\n",
       "      <td>NaN</td>\n",
       "      <td>NaN</td>\n",
       "      <td>1.0</td>\n",
       "      <td>NaN</td>\n",
       "      <td>NaN</td>\n",
       "      <td>NaN</td>\n",
       "      <td>NaN</td>\n",
       "      <td>NaN</td>\n",
       "      <td>0.000000</td>\n",
       "    </tr>\n",
       "    <tr>\n",
       "      <th>4</th>\n",
       "      <td>20.0</td>\n",
       "      <td>0.0</td>\n",
       "      <td>NaN</td>\n",
       "      <td>NaN</td>\n",
       "      <td>NaN</td>\n",
       "      <td>NaN</td>\n",
       "      <td>NaN</td>\n",
       "      <td>between 100,000 and 1 million</td>\n",
       "      <td>NaN</td>\n",
       "      <td>NaN</td>\n",
       "      <td>...</td>\n",
       "      <td>NaN</td>\n",
       "      <td>NaN</td>\n",
       "      <td>NaN</td>\n",
       "      <td>NaN</td>\n",
       "      <td>NaN</td>\n",
       "      <td>NaN</td>\n",
       "      <td>NaN</td>\n",
       "      <td>NaN</td>\n",
       "      <td>NaN</td>\n",
       "      <td>0.000000</td>\n",
       "    </tr>\n",
       "    <tr>\n",
       "      <th>6</th>\n",
       "      <td>29.0</td>\n",
       "      <td>0.0</td>\n",
       "      <td>NaN</td>\n",
       "      <td>NaN</td>\n",
       "      <td>NaN</td>\n",
       "      <td>NaN</td>\n",
       "      <td>NaN</td>\n",
       "      <td>between 100,000 and 1 million</td>\n",
       "      <td>1.0</td>\n",
       "      <td>NaN</td>\n",
       "      <td>...</td>\n",
       "      <td>NaN</td>\n",
       "      <td>NaN</td>\n",
       "      <td>NaN</td>\n",
       "      <td>NaN</td>\n",
       "      <td>NaN</td>\n",
       "      <td>NaN</td>\n",
       "      <td>NaN</td>\n",
       "      <td>NaN</td>\n",
       "      <td>NaN</td>\n",
       "      <td>0.000000</td>\n",
       "    </tr>\n",
       "  </tbody>\n",
       "</table>\n",
       "<p>5 rows × 137 columns</p>\n",
       "</div>"
      ],
      "text/plain": [
       "    Age  AttendedBootcamp  BootcampFinish  BootcampLoanYesNo BootcampName  \\\n",
       "1  34.0               0.0             NaN                NaN          NaN   \n",
       "2  21.0               0.0             NaN                NaN          NaN   \n",
       "3  26.0               0.0             NaN                NaN          NaN   \n",
       "4  20.0               0.0             NaN                NaN          NaN   \n",
       "6  29.0               0.0             NaN                NaN          NaN   \n",
       "\n",
       "   BootcampRecommend  ChildrenNumber                 CityPopulation  \\\n",
       "1                NaN             NaN              less than 100,000   \n",
       "2                NaN             NaN            more than 1 million   \n",
       "3                NaN             NaN  between 100,000 and 1 million   \n",
       "4                NaN             NaN  between 100,000 and 1 million   \n",
       "6                NaN             NaN  between 100,000 and 1 million   \n",
       "\n",
       "   CodeEventConferences  CodeEventDjangoGirls      ...        \\\n",
       "1                   NaN                   NaN      ...         \n",
       "2                   NaN                   NaN      ...         \n",
       "3                   NaN                   NaN      ...         \n",
       "4                   NaN                   NaN      ...         \n",
       "6                   1.0                   NaN      ...         \n",
       "\n",
       "   YouTubeFunFunFunction  YouTubeGoogleDev  YouTubeLearnCode  \\\n",
       "1                    NaN               NaN               NaN   \n",
       "2                    NaN               NaN               1.0   \n",
       "3                    1.0               NaN               NaN   \n",
       "4                    NaN               NaN               NaN   \n",
       "6                    NaN               NaN               NaN   \n",
       "\n",
       "   YouTubeLevelUpTuts  YouTubeMIT  YouTubeMozillaHacks  YouTubeOther  \\\n",
       "1                 NaN         NaN                  NaN           NaN   \n",
       "2                 1.0         NaN                  NaN           NaN   \n",
       "3                 1.0         NaN                  NaN           NaN   \n",
       "4                 NaN         NaN                  NaN           NaN   \n",
       "6                 NaN         NaN                  NaN           NaN   \n",
       "\n",
       "  YouTubeSimplilearn  YouTubeTheNewBoston  MoneyPerMonth  \n",
       "1                NaN                  NaN      13.333333  \n",
       "2                NaN                  NaN     200.000000  \n",
       "3                NaN                  NaN       0.000000  \n",
       "4                NaN                  NaN       0.000000  \n",
       "6                NaN                  NaN       0.000000  \n",
       "\n",
       "[5 rows x 137 columns]"
      ]
     },
     "execution_count": 16,
     "metadata": {},
     "output_type": "execute_result"
    }
   ],
   "source": [
    "survey['MoneyPerMonth'] = survey['MoneyForLearning'] / survey['MonthsProgramming'].apply(lambda x: 1 if x==0 else x)\n",
    "job_interest_with_money = survey[survey['JobRoleInterest'].notnull()]\n",
    "job_interest_with_money.head()"
   ]
  },
  {
   "cell_type": "code",
   "execution_count": 17,
   "metadata": {
    "scrolled": true
   },
   "outputs": [
    {
     "data": {
      "text/html": [
       "<div>\n",
       "<style scoped>\n",
       "    .dataframe tbody tr th:only-of-type {\n",
       "        vertical-align: middle;\n",
       "    }\n",
       "\n",
       "    .dataframe tbody tr th {\n",
       "        vertical-align: top;\n",
       "    }\n",
       "\n",
       "    .dataframe thead tr th {\n",
       "        text-align: left;\n",
       "    }\n",
       "\n",
       "    .dataframe thead tr:last-of-type th {\n",
       "        text-align: right;\n",
       "    }\n",
       "</style>\n",
       "<table border=\"1\" class=\"dataframe\">\n",
       "  <thead>\n",
       "    <tr>\n",
       "      <th></th>\n",
       "      <th colspan=\"2\" halign=\"left\">MoneyPerMonth</th>\n",
       "    </tr>\n",
       "    <tr>\n",
       "      <th></th>\n",
       "      <th>mean</th>\n",
       "      <th>count</th>\n",
       "    </tr>\n",
       "    <tr>\n",
       "      <th>CountryLive</th>\n",
       "      <th></th>\n",
       "      <th></th>\n",
       "    </tr>\n",
       "  </thead>\n",
       "  <tbody>\n",
       "    <tr>\n",
       "      <th>Yemen</th>\n",
       "      <td>10000.000000</td>\n",
       "      <td>1</td>\n",
       "    </tr>\n",
       "    <tr>\n",
       "      <th>Puerto Rico</th>\n",
       "      <td>4291.394558</td>\n",
       "      <td>7</td>\n",
       "    </tr>\n",
       "    <tr>\n",
       "      <th>Austria</th>\n",
       "      <td>936.208333</td>\n",
       "      <td>16</td>\n",
       "    </tr>\n",
       "    <tr>\n",
       "      <th>Spain</th>\n",
       "      <td>784.553084</td>\n",
       "      <td>66</td>\n",
       "    </tr>\n",
       "    <tr>\n",
       "      <th>Jamaica</th>\n",
       "      <td>747.037037</td>\n",
       "      <td>9</td>\n",
       "    </tr>\n",
       "    <tr>\n",
       "      <th>Hong Kong</th>\n",
       "      <td>523.341049</td>\n",
       "      <td>9</td>\n",
       "    </tr>\n",
       "    <tr>\n",
       "      <th>Trinidad &amp; Tobago</th>\n",
       "      <td>500.000000</td>\n",
       "      <td>1</td>\n",
       "    </tr>\n",
       "    <tr>\n",
       "      <th>Australia</th>\n",
       "      <td>419.268452</td>\n",
       "      <td>102</td>\n",
       "    </tr>\n",
       "    <tr>\n",
       "      <th>Taiwan</th>\n",
       "      <td>417.966524</td>\n",
       "      <td>12</td>\n",
       "    </tr>\n",
       "    <tr>\n",
       "      <th>Luxembourg</th>\n",
       "      <td>338.817664</td>\n",
       "      <td>6</td>\n",
       "    </tr>\n",
       "  </tbody>\n",
       "</table>\n",
       "</div>"
      ],
      "text/plain": [
       "                  MoneyPerMonth      \n",
       "                           mean count\n",
       "CountryLive                          \n",
       "Yemen              10000.000000     1\n",
       "Puerto Rico         4291.394558     7\n",
       "Austria              936.208333    16\n",
       "Spain                784.553084    66\n",
       "Jamaica              747.037037     9\n",
       "Hong Kong            523.341049     9\n",
       "Trinidad & Tobago    500.000000     1\n",
       "Australia            419.268452   102\n",
       "Taiwan               417.966524    12\n",
       "Luxembourg           338.817664     6"
      ]
     },
     "execution_count": 17,
     "metadata": {},
     "output_type": "execute_result"
    }
   ],
   "source": [
    "money_grouped_by_country = job_interest_with_money[['CountryLive', 'MoneyPerMonth']].groupby('CountryLive').agg({'MoneyPerMonth':['mean', 'count']})\n",
    "money_grouped_by_country.sort_values(('MoneyPerMonth', 'mean'), ascending=False).head(10)"
   ]
  },
  {
   "cell_type": "markdown",
   "metadata": {},
   "source": [
    "Before comparing `MoneyPerMonth` between the top 4 countries, we checked the column for all the countries. These results look interesting and a few people in some developing countries spent so much money for learning. The person in Yemen who spent 10,000 dollars for learning is suprising!"
   ]
  },
  {
   "cell_type": "markdown",
   "metadata": {},
   "source": [
    "### Comparing Top 4 Countries by `MoneyPerMonth`"
   ]
  },
  {
   "cell_type": "code",
   "execution_count": 18,
   "metadata": {},
   "outputs": [
    {
     "data": {
      "text/plain": [
       "313"
      ]
     },
     "execution_count": 18,
     "metadata": {},
     "output_type": "execute_result"
    }
   ],
   "source": [
    "money_top4 = job_interest_with_money[job_interest_with_money['CountryLive'].apply(lambda x: x in top_4)]\n",
    "money_top4['MoneyPerMonth'].isnull().sum()"
   ]
  },
  {
   "cell_type": "code",
   "execution_count": 19,
   "metadata": {
    "scrolled": false
   },
   "outputs": [
    {
     "data": {
      "text/html": [
       "<div>\n",
       "<style scoped>\n",
       "    .dataframe tbody tr th:only-of-type {\n",
       "        vertical-align: middle;\n",
       "    }\n",
       "\n",
       "    .dataframe tbody tr th {\n",
       "        vertical-align: top;\n",
       "    }\n",
       "\n",
       "    .dataframe thead tr th {\n",
       "        text-align: left;\n",
       "    }\n",
       "\n",
       "    .dataframe thead tr:last-of-type th {\n",
       "        text-align: right;\n",
       "    }\n",
       "</style>\n",
       "<table border=\"1\" class=\"dataframe\">\n",
       "  <thead>\n",
       "    <tr>\n",
       "      <th></th>\n",
       "      <th colspan=\"2\" halign=\"left\">MoneyPerMonth</th>\n",
       "    </tr>\n",
       "    <tr>\n",
       "      <th></th>\n",
       "      <th>mean</th>\n",
       "      <th>count</th>\n",
       "    </tr>\n",
       "    <tr>\n",
       "      <th>CountryLive</th>\n",
       "      <th></th>\n",
       "      <th></th>\n",
       "    </tr>\n",
       "  </thead>\n",
       "  <tbody>\n",
       "    <tr>\n",
       "      <th>United States of America</th>\n",
       "      <td>227.997996</td>\n",
       "      <td>2933</td>\n",
       "    </tr>\n",
       "    <tr>\n",
       "      <th>India</th>\n",
       "      <td>135.100982</td>\n",
       "      <td>463</td>\n",
       "    </tr>\n",
       "    <tr>\n",
       "      <th>Canada</th>\n",
       "      <td>113.510961</td>\n",
       "      <td>240</td>\n",
       "    </tr>\n",
       "    <tr>\n",
       "      <th>United Kingdom</th>\n",
       "      <td>45.534443</td>\n",
       "      <td>279</td>\n",
       "    </tr>\n",
       "  </tbody>\n",
       "</table>\n",
       "</div>"
      ],
      "text/plain": [
       "                         MoneyPerMonth      \n",
       "                                  mean count\n",
       "CountryLive                                 \n",
       "United States of America    227.997996  2933\n",
       "India                       135.100982   463\n",
       "Canada                      113.510961   240\n",
       "United Kingdom               45.534443   279"
      ]
     },
     "execution_count": 19,
     "metadata": {},
     "output_type": "execute_result"
    }
   ],
   "source": [
    "money_top4_paid = money_top4[money_top4['MoneyPerMonth'].notnull()].copy()\n",
    "money_top4_grouped_by_country = money_top4_paid[['CountryLive', 'MoneyPerMonth']].groupby('CountryLive').agg({'MoneyPerMonth':['mean', 'count']})\n",
    "money_top4_grouped_by_country.sort_values(('MoneyPerMonth', 'mean'), ascending=False)"
   ]
  },
  {
   "cell_type": "markdown",
   "metadata": {},
   "source": [
    "From this results of 4 countries, we could couclude that people in the U.S. spent mush more money for learning than the other three countries and that people in the U.K. less likly to spend money for learning."
   ]
  },
  {
   "cell_type": "markdown",
   "metadata": {},
   "source": [
    "### Leaving Out Outliers\n",
    "Although calculating the mean of `MoneyPerMonth`, the values might not be good enough to estimate which countries are the best as markets to advertise in because there might be some outliers of `MoneyPerMonth` and they might greatly affect the mean of it.\n",
    "\n",
    "So, to reduce the effect of outliers, we will check box plot of the values and leave out some outliers, then recalcurate the mean of `MoneyPerMonth`."
   ]
  },
  {
   "cell_type": "code",
   "execution_count": 20,
   "metadata": {
    "scrolled": true
   },
   "outputs": [
    {
     "data": {
      "image/png": "[encoded data removed]",
      "text/plain": [
       "<Figure size 432x288 with 1 Axes>"
      ]
     },
     "metadata": {
      "needs_background": "light"
     },
     "output_type": "display_data"
    }
   ],
   "source": [
    "def show_boxplot(df, rot=0):\n",
    "    df.boxplot(by='CountryLive', column='MoneyPerMonth', grid=False, rot=rot)\n",
    "    plt.title('')\n",
    "\n",
    "show_boxplot(money_top4_paid, rot=10)"
   ]
  },
  {
   "cell_type": "code",
   "execution_count": 21,
   "metadata": {
    "scrolled": true
   },
   "outputs": [
    {
     "data": {
      "image/png": "[encoded data removed]",
      "text/plain": [
       "<Figure size 432x288 with 1 Axes>"
      ]
     },
     "metadata": {
      "needs_background": "light"
     },
     "output_type": "display_data"
    }
   ],
   "source": [
    "us = money_top4_paid[(money_top4_paid['CountryLive']=='United States of America') & (money_top4_paid['MoneyPerMonth']<10000)]\n",
    "show_boxplot(us)"
   ]
  },
  {
   "cell_type": "code",
   "execution_count": 22,
   "metadata": {
    "scrolled": true
   },
   "outputs": [
    {
     "data": {
      "image/png": "[encoded data removed]",
      "text/plain": [
       "<Figure size 432x288 with 1 Axes>"
      ]
     },
     "metadata": {
      "needs_background": "light"
     },
     "output_type": "display_data"
    }
   ],
   "source": [
    "india = money_top4_paid[money_top4_paid['CountryLive']=='India']\n",
    "show_boxplot(india)"
   ]
  },
  {
   "cell_type": "code",
   "execution_count": 23,
   "metadata": {
    "scrolled": true
   },
   "outputs": [
    {
     "data": {
      "image/png": "[encoded data removed]",
      "text/plain": [
       "<Figure size 432x288 with 1 Axes>"
      ]
     },
     "metadata": {
      "needs_background": "light"
     },
     "output_type": "display_data"
    }
   ],
   "source": [
    "india = india[india['MoneyPerMonth']<3000]\n",
    "show_boxplot(india)"
   ]
  },
  {
   "cell_type": "code",
   "execution_count": 24,
   "metadata": {
    "scrolled": true
   },
   "outputs": [
    {
     "data": {
      "image/png": "[encoded data removed]",
      "text/plain": [
       "<Figure size 432x288 with 1 Axes>"
      ]
     },
     "metadata": {
      "needs_background": "light"
     },
     "output_type": "display_data"
    }
   ],
   "source": [
    "canada = money_top4_paid[money_top4_paid['CountryLive']=='Canada']\n",
    "show_boxplot(canada)"
   ]
  },
  {
   "cell_type": "code",
   "execution_count": 25,
   "metadata": {
    "scrolled": false
   },
   "outputs": [
    {
     "data": {
      "image/png": "[encoded data removed]",
      "text/plain": [
       "<Figure size 432x288 with 1 Axes>"
      ]
     },
     "metadata": {
      "needs_background": "light"
     },
     "output_type": "display_data"
    }
   ],
   "source": [
    "canada = canada[canada['MoneyPerMonth']<3000]\n",
    "show_boxplot(canada)"
   ]
  },
  {
   "cell_type": "code",
   "execution_count": 26,
   "metadata": {
    "scrolled": true
   },
   "outputs": [
    {
     "data": {
      "image/png": "[encoded data removed]",
      "text/plain": [
       "<Figure size 432x288 with 1 Axes>"
      ]
     },
     "metadata": {
      "needs_background": "light"
     },
     "output_type": "display_data"
    }
   ],
   "source": [
    "uk = money_top4_paid[money_top4_paid['CountryLive']=='United Kingdom']\n",
    "show_boxplot(uk)"
   ]
  },
  {
   "cell_type": "code",
   "execution_count": 27,
   "metadata": {
    "scrolled": true
   },
   "outputs": [
    {
     "data": {
      "image/png": "[encoded data removed]",
      "text/plain": [
       "<Figure size 432x288 with 1 Axes>"
      ]
     },
     "metadata": {
      "needs_background": "light"
     },
     "output_type": "display_data"
    }
   ],
   "source": [
    "uk = uk[uk['MoneyPerMonth']<1100]\n",
    "show_boxplot(uk)"
   ]
  },
  {
   "cell_type": "code",
   "execution_count": 28,
   "metadata": {},
   "outputs": [
    {
     "data": {
      "text/plain": [
       "us        155.459187\n",
       "canada     93.065400\n",
       "india      65.758763\n",
       "uk         32.080107\n",
       "dtype: float64"
      ]
     },
     "execution_count": 28,
     "metadata": {},
     "output_type": "execute_result"
    }
   ],
   "source": [
    "top4_money_mean = pd.Series(index=['us', 'india', 'canada', 'uk'])\n",
    "for i, c in enumerate([us, india, canada, uk]):\n",
    "    top4_money_mean.iloc[i] = c['MoneyPerMonth'].mean()\n",
    "top4_money_mean.sort_values(ascending=False)"
   ]
  },
  {
   "cell_type": "markdown",
   "metadata": {},
   "source": [
    "Finally, we could conclude that the best countries to advertise in are the United States of America!\n",
    "\n",
    "Comparing the mean values above, Canada is better than India but India might be better to advertise in, so it seems to be a good choice to think about other criteria to compare these two countries."
   ]
  }
 ],
 "metadata": {
  "kernelspec": {
   "display_name": "Python 3",
   "language": "python",
   "name": "python3"
  },
  "language_info": {
   "codemirror_mode": {
    "name": "ipython",
    "version": 3
   },
   "file_extension": ".py",
   "mimetype": "text/x-python",
   "name": "python",
   "nbconvert_exporter": "python",
   "pygments_lexer": "ipython3",
   "version": "3.6.0"
  }
 },
 "nbformat": 4,
 "nbformat_minor": 2
}
