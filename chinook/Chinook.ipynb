{
 "cells": [
  {
   "cell_type": "markdown",
   "metadata": {},
   "source": [
    "# Chinook"
   ]
  },
  {
   "cell_type": "code",
   "execution_count": 27,
   "metadata": {},
   "outputs": [
    {
     "data": {
      "text/html": [
       "<div>\n",
       "<style scoped>\n",
       "    .dataframe tbody tr th:only-of-type {\n",
       "        vertical-align: middle;\n",
       "    }\n",
       "\n",
       "    .dataframe tbody tr th {\n",
       "        vertical-align: top;\n",
       "    }\n",
       "\n",
       "    .dataframe thead th {\n",
       "        text-align: right;\n",
       "    }\n",
       "</style>\n",
       "<table border=\"1\" class=\"dataframe\">\n",
       "  <thead>\n",
       "    <tr style=\"text-align: right;\">\n",
       "      <th></th>\n",
       "      <th>name</th>\n",
       "      <th>type</th>\n",
       "    </tr>\n",
       "  </thead>\n",
       "  <tbody>\n",
       "    <tr>\n",
       "      <th>0</th>\n",
       "      <td>album</td>\n",
       "      <td>table</td>\n",
       "    </tr>\n",
       "    <tr>\n",
       "      <th>1</th>\n",
       "      <td>artist</td>\n",
       "      <td>table</td>\n",
       "    </tr>\n",
       "    <tr>\n",
       "      <th>2</th>\n",
       "      <td>customer</td>\n",
       "      <td>table</td>\n",
       "    </tr>\n",
       "    <tr>\n",
       "      <th>3</th>\n",
       "      <td>employee</td>\n",
       "      <td>table</td>\n",
       "    </tr>\n",
       "    <tr>\n",
       "      <th>4</th>\n",
       "      <td>genre</td>\n",
       "      <td>table</td>\n",
       "    </tr>\n",
       "    <tr>\n",
       "      <th>5</th>\n",
       "      <td>invoice</td>\n",
       "      <td>table</td>\n",
       "    </tr>\n",
       "    <tr>\n",
       "      <th>6</th>\n",
       "      <td>invoice_line</td>\n",
       "      <td>table</td>\n",
       "    </tr>\n",
       "    <tr>\n",
       "      <th>7</th>\n",
       "      <td>media_type</td>\n",
       "      <td>table</td>\n",
       "    </tr>\n",
       "    <tr>\n",
       "      <th>8</th>\n",
       "      <td>playlist</td>\n",
       "      <td>table</td>\n",
       "    </tr>\n",
       "    <tr>\n",
       "      <th>9</th>\n",
       "      <td>playlist_track</td>\n",
       "      <td>table</td>\n",
       "    </tr>\n",
       "    <tr>\n",
       "      <th>10</th>\n",
       "      <td>track</td>\n",
       "      <td>table</td>\n",
       "    </tr>\n",
       "  </tbody>\n",
       "</table>\n",
       "</div>"
      ],
      "text/plain": [
       "              name   type\n",
       "0            album  table\n",
       "1           artist  table\n",
       "2         customer  table\n",
       "3         employee  table\n",
       "4            genre  table\n",
       "5          invoice  table\n",
       "6     invoice_line  table\n",
       "7       media_type  table\n",
       "8         playlist  table\n",
       "9   playlist_track  table\n",
       "10           track  table"
      ]
     },
     "execution_count": 27,
     "metadata": {},
     "output_type": "execute_result"
    }
   ],
   "source": [
    "import sqlite3\n",
    "import pandas as pd\n",
    "import matplotlib.pyplot as plt\n",
    "%matplotlib inline\n",
    "\n",
    "db = 'chinook.db'\n",
    "\n",
    "def run_query(q):\n",
    "    with sqlite3.connect(db) as conn:\n",
    "        return pd.read_sql(q, conn)\n",
    "\n",
    "def run_command(c):\n",
    "    with sqlite3.connect(db) as conn:\n",
    "        conn.isolation_level = None\n",
    "        conn.execute(c)\n",
    "        \n",
    "def show_tables():\n",
    "    q ='''\n",
    "    SELECT\n",
    "        name,\n",
    "        type\n",
    "    FROM sqlite_master\n",
    "    WHERE type IN ('table', 'view')\n",
    "    '''\n",
    "    return run_query(q)\n",
    "\n",
    "show_tables()"
   ]
  },
  {
   "cell_type": "code",
   "execution_count": 2,
   "metadata": {},
   "outputs": [
    {
     "data": {
      "text/html": [
       "<div>\n",
       "<style scoped>\n",
       "    .dataframe tbody tr th:only-of-type {\n",
       "        vertical-align: middle;\n",
       "    }\n",
       "\n",
       "    .dataframe tbody tr th {\n",
       "        vertical-align: top;\n",
       "    }\n",
       "\n",
       "    .dataframe thead th {\n",
       "        text-align: right;\n",
       "    }\n",
       "</style>\n",
       "<table border=\"1\" class=\"dataframe\">\n",
       "  <thead>\n",
       "    <tr style=\"text-align: right;\">\n",
       "      <th></th>\n",
       "      <th>sold_num</th>\n",
       "      <th>sold_pct</th>\n",
       "    </tr>\n",
       "    <tr>\n",
       "      <th>genre_name</th>\n",
       "      <th></th>\n",
       "      <th></th>\n",
       "    </tr>\n",
       "  </thead>\n",
       "  <tbody>\n",
       "    <tr>\n",
       "      <th>Rock</th>\n",
       "      <td>561</td>\n",
       "      <td>0.533777</td>\n",
       "    </tr>\n",
       "    <tr>\n",
       "      <th>Alternative &amp; Punk</th>\n",
       "      <td>130</td>\n",
       "      <td>0.123692</td>\n",
       "    </tr>\n",
       "    <tr>\n",
       "      <th>Metal</th>\n",
       "      <td>124</td>\n",
       "      <td>0.117983</td>\n",
       "    </tr>\n",
       "    <tr>\n",
       "      <th>R&amp;B/Soul</th>\n",
       "      <td>53</td>\n",
       "      <td>0.050428</td>\n",
       "    </tr>\n",
       "    <tr>\n",
       "      <th>Blues</th>\n",
       "      <td>36</td>\n",
       "      <td>0.034253</td>\n",
       "    </tr>\n",
       "    <tr>\n",
       "      <th>Alternative</th>\n",
       "      <td>35</td>\n",
       "      <td>0.033302</td>\n",
       "    </tr>\n",
       "    <tr>\n",
       "      <th>Latin</th>\n",
       "      <td>22</td>\n",
       "      <td>0.020932</td>\n",
       "    </tr>\n",
       "    <tr>\n",
       "      <th>Pop</th>\n",
       "      <td>22</td>\n",
       "      <td>0.020932</td>\n",
       "    </tr>\n",
       "    <tr>\n",
       "      <th>Hip Hop/Rap</th>\n",
       "      <td>20</td>\n",
       "      <td>0.019029</td>\n",
       "    </tr>\n",
       "    <tr>\n",
       "      <th>Jazz</th>\n",
       "      <td>14</td>\n",
       "      <td>0.013321</td>\n",
       "    </tr>\n",
       "    <tr>\n",
       "      <th>Easy Listening</th>\n",
       "      <td>13</td>\n",
       "      <td>0.012369</td>\n",
       "    </tr>\n",
       "    <tr>\n",
       "      <th>Reggae</th>\n",
       "      <td>6</td>\n",
       "      <td>0.005709</td>\n",
       "    </tr>\n",
       "    <tr>\n",
       "      <th>Electronica/Dance</th>\n",
       "      <td>5</td>\n",
       "      <td>0.004757</td>\n",
       "    </tr>\n",
       "    <tr>\n",
       "      <th>Classical</th>\n",
       "      <td>4</td>\n",
       "      <td>0.003806</td>\n",
       "    </tr>\n",
       "    <tr>\n",
       "      <th>Heavy Metal</th>\n",
       "      <td>3</td>\n",
       "      <td>0.002854</td>\n",
       "    </tr>\n",
       "    <tr>\n",
       "      <th>Soundtrack</th>\n",
       "      <td>2</td>\n",
       "      <td>0.001903</td>\n",
       "    </tr>\n",
       "    <tr>\n",
       "      <th>TV Shows</th>\n",
       "      <td>1</td>\n",
       "      <td>0.000951</td>\n",
       "    </tr>\n",
       "  </tbody>\n",
       "</table>\n",
       "</div>"
      ],
      "text/plain": [
       "                    sold_num  sold_pct\n",
       "genre_name                            \n",
       "Rock                     561  0.533777\n",
       "Alternative & Punk       130  0.123692\n",
       "Metal                    124  0.117983\n",
       "R&B/Soul                  53  0.050428\n",
       "Blues                     36  0.034253\n",
       "Alternative               35  0.033302\n",
       "Latin                     22  0.020932\n",
       "Pop                       22  0.020932\n",
       "Hip Hop/Rap               20  0.019029\n",
       "Jazz                      14  0.013321\n",
       "Easy Listening            13  0.012369\n",
       "Reggae                     6  0.005709\n",
       "Electronica/Dance          5  0.004757\n",
       "Classical                  4  0.003806\n",
       "Heavy Metal                3  0.002854\n",
       "Soundtrack                 2  0.001903\n",
       "TV Shows                   1  0.000951"
      ]
     },
     "execution_count": 2,
     "metadata": {},
     "output_type": "execute_result"
    }
   ],
   "source": [
    "q_genre_purchased = '''\n",
    "WITH usa_track_sold AS\n",
    "    (\n",
    "    SELECT il.*\n",
    "    FROM invoice_line il\n",
    "    INNER JOIN invoice i ON i.invoice_id = il.invoice_id\n",
    "    INNER JOIN customer c ON c.customer_id = i.customer_id\n",
    "    WHERE c.country = \"USA\"\n",
    "    )\n",
    "\n",
    "SELECT\n",
    "    g.name genre_name,\n",
    "    COUNT(uts.invoice_line_id) sold_num,\n",
    "    CAST(COUNT(uts.invoice_line_id) as float) / (\n",
    "        SELECT COUNT(*) FROM usa_track_sold\n",
    "    ) sold_pct\n",
    "FROM usa_track_sold uts\n",
    "INNER JOIN track t ON t.track_id = uts.track_id\n",
    "INNER JOIN genre g ON g.genre_id = t.genre_id\n",
    "GROUP BY 1\n",
    "ORDER BY 2 DESC;\n",
    "'''\n",
    "run_query(q_genre_purchased).set_index('genre_name')"
   ]
  },
  {
   "cell_type": "code",
   "execution_count": 7,
   "metadata": {},
   "outputs": [
    {
     "data": {
      "text/plain": [
       "<matplotlib.axes._subplots.AxesSubplot at 0x1145ac2e8>"
      ]
     },
     "execution_count": 7,
     "metadata": {},
     "output_type": "execute_result"
    },
    {
     "data": {
      "image/png": "[encoded data removed]",
      "text/plain": [
       "<Figure size 432x288 with 1 Axes>"
      ]
     },
     "metadata": {},
     "output_type": "display_data"
    }
   ],
   "source": [
    "genre_purchased = run_query(q_genre_purchased).set_index('genre_name')\n",
    "genre_purchased['sold_num'].plot.pie()"
   ]
  },
  {
   "cell_type": "code",
   "execution_count": 19,
   "metadata": {},
   "outputs": [
    {
     "data": {
      "text/html": [
       "<div>\n",
       "<style scoped>\n",
       "    .dataframe tbody tr th:only-of-type {\n",
       "        vertical-align: middle;\n",
       "    }\n",
       "\n",
       "    .dataframe tbody tr th {\n",
       "        vertical-align: top;\n",
       "    }\n",
       "\n",
       "    .dataframe thead th {\n",
       "        text-align: right;\n",
       "    }\n",
       "</style>\n",
       "<table border=\"1\" class=\"dataframe\">\n",
       "  <thead>\n",
       "    <tr style=\"text-align: right;\">\n",
       "      <th></th>\n",
       "      <th>employee_name</th>\n",
       "      <th>total_sales</th>\n",
       "      <th>boss</th>\n",
       "    </tr>\n",
       "  </thead>\n",
       "  <tbody>\n",
       "    <tr>\n",
       "      <th>0</th>\n",
       "      <td>Jane Peacock</td>\n",
       "      <td>1731.51</td>\n",
       "      <td>Nancy Edwards</td>\n",
       "    </tr>\n",
       "    <tr>\n",
       "      <th>1</th>\n",
       "      <td>Margaret Park</td>\n",
       "      <td>1584.00</td>\n",
       "      <td>Nancy Edwards</td>\n",
       "    </tr>\n",
       "    <tr>\n",
       "      <th>2</th>\n",
       "      <td>Steve Johnson</td>\n",
       "      <td>1393.92</td>\n",
       "      <td>Nancy Edwards</td>\n",
       "    </tr>\n",
       "  </tbody>\n",
       "</table>\n",
       "</div>"
      ],
      "text/plain": [
       "   employee_name  total_sales           boss\n",
       "0   Jane Peacock      1731.51  Nancy Edwards\n",
       "1  Margaret Park      1584.00  Nancy Edwards\n",
       "2  Steve Johnson      1393.92  Nancy Edwards"
      ]
     },
     "execution_count": 19,
     "metadata": {},
     "output_type": "execute_result"
    }
   ],
   "source": [
    "q_employee_sales = '''\n",
    "SELECT\n",
    "    e.first_name || \" \" || e.last_name employee_name,\n",
    "    SUM(i.total) total_sales,\n",
    "    e2.first_name || \" \" || e2.last_name boss\n",
    "FROM employee e\n",
    "INNER JOIN customer c ON c.support_rep_id = e.employee_id\n",
    "INNER JOIN invoice i ON i.customer_id = c.customer_id\n",
    "INNER JOIN employee e2 ON e2.employee_id = e.reports_to\n",
    "GROUP BY 1\n",
    "ORDER BY 2 DESC;\n",
    "'''\n",
    "\n",
    "run_query(q_employee_sales)"
   ]
  },
  {
   "cell_type": "code",
   "execution_count": 23,
   "metadata": {},
   "outputs": [
    {
     "data": {
      "text/plain": [
       "<matplotlib.axes._subplots.AxesSubplot at 0x114b65f28>"
      ]
     },
     "execution_count": 23,
     "metadata": {},
     "output_type": "execute_result"
    },
    {
     "data": {
      "image/png": "[encoded data removed]",
      "text/plain": [
       "<Figure size 432x288 with 1 Axes>"
      ]
     },
     "metadata": {
      "needs_background": "light"
     },
     "output_type": "display_data"
    }
   ],
   "source": [
    "employee_sales = run_query(q_employee_sales).set_index('employee_name')\n",
    "employee_sales['total_sales'].plot.bar()"
   ]
  },
  {
   "cell_type": "code",
   "execution_count": 57,
   "metadata": {
    "scrolled": true
   },
   "outputs": [
    {
     "data": {
      "text/html": [
       "<div>\n",
       "<style scoped>\n",
       "    .dataframe tbody tr th:only-of-type {\n",
       "        vertical-align: middle;\n",
       "    }\n",
       "\n",
       "    .dataframe tbody tr th {\n",
       "        vertical-align: top;\n",
       "    }\n",
       "\n",
       "    .dataframe thead th {\n",
       "        text-align: right;\n",
       "    }\n",
       "</style>\n",
       "<table border=\"1\" class=\"dataframe\">\n",
       "  <thead>\n",
       "    <tr style=\"text-align: right;\">\n",
       "      <th></th>\n",
       "      <th>country</th>\n",
       "      <th>num_customer</th>\n",
       "      <th>sum_sales</th>\n",
       "      <th>avg_sales_per_customer</th>\n",
       "      <th>avg_sales_per_order</th>\n",
       "    </tr>\n",
       "  </thead>\n",
       "  <tbody>\n",
       "    <tr>\n",
       "      <th>0</th>\n",
       "      <td>USA</td>\n",
       "      <td>13</td>\n",
       "      <td>1040.49</td>\n",
       "      <td>80.037692</td>\n",
       "      <td>7.942672</td>\n",
       "    </tr>\n",
       "    <tr>\n",
       "      <th>1</th>\n",
       "      <td>Canada</td>\n",
       "      <td>8</td>\n",
       "      <td>535.59</td>\n",
       "      <td>66.948750</td>\n",
       "      <td>7.047237</td>\n",
       "    </tr>\n",
       "    <tr>\n",
       "      <th>2</th>\n",
       "      <td>Brazil</td>\n",
       "      <td>5</td>\n",
       "      <td>427.68</td>\n",
       "      <td>85.536000</td>\n",
       "      <td>7.011148</td>\n",
       "    </tr>\n",
       "    <tr>\n",
       "      <th>3</th>\n",
       "      <td>France</td>\n",
       "      <td>5</td>\n",
       "      <td>389.07</td>\n",
       "      <td>77.814000</td>\n",
       "      <td>7.781400</td>\n",
       "    </tr>\n",
       "    <tr>\n",
       "      <th>4</th>\n",
       "      <td>Germany</td>\n",
       "      <td>4</td>\n",
       "      <td>334.62</td>\n",
       "      <td>83.655000</td>\n",
       "      <td>8.161463</td>\n",
       "    </tr>\n",
       "    <tr>\n",
       "      <th>5</th>\n",
       "      <td>Czech Republic</td>\n",
       "      <td>2</td>\n",
       "      <td>273.24</td>\n",
       "      <td>136.620000</td>\n",
       "      <td>9.108000</td>\n",
       "    </tr>\n",
       "    <tr>\n",
       "      <th>6</th>\n",
       "      <td>United Kingdom</td>\n",
       "      <td>3</td>\n",
       "      <td>245.52</td>\n",
       "      <td>81.840000</td>\n",
       "      <td>8.768571</td>\n",
       "    </tr>\n",
       "    <tr>\n",
       "      <th>7</th>\n",
       "      <td>Portugal</td>\n",
       "      <td>2</td>\n",
       "      <td>185.13</td>\n",
       "      <td>92.565000</td>\n",
       "      <td>6.383793</td>\n",
       "    </tr>\n",
       "    <tr>\n",
       "      <th>8</th>\n",
       "      <td>India</td>\n",
       "      <td>2</td>\n",
       "      <td>183.15</td>\n",
       "      <td>91.575000</td>\n",
       "      <td>8.721429</td>\n",
       "    </tr>\n",
       "    <tr>\n",
       "      <th>9</th>\n",
       "      <td>Other</td>\n",
       "      <td>15</td>\n",
       "      <td>1094.94</td>\n",
       "      <td>72.996000</td>\n",
       "      <td>7.448571</td>\n",
       "    </tr>\n",
       "  </tbody>\n",
       "</table>\n",
       "</div>"
      ],
      "text/plain": [
       "          country  num_customer  sum_sales  avg_sales_per_customer  \\\n",
       "0             USA            13    1040.49               80.037692   \n",
       "1          Canada             8     535.59               66.948750   \n",
       "2          Brazil             5     427.68               85.536000   \n",
       "3          France             5     389.07               77.814000   \n",
       "4         Germany             4     334.62               83.655000   \n",
       "5  Czech Republic             2     273.24              136.620000   \n",
       "6  United Kingdom             3     245.52               81.840000   \n",
       "7        Portugal             2     185.13               92.565000   \n",
       "8           India             2     183.15               91.575000   \n",
       "9           Other            15    1094.94               72.996000   \n",
       "\n",
       "   avg_sales_per_order  \n",
       "0             7.942672  \n",
       "1             7.047237  \n",
       "2             7.011148  \n",
       "3             7.781400  \n",
       "4             8.161463  \n",
       "5             9.108000  \n",
       "6             8.768571  \n",
       "7             6.383793  \n",
       "8             8.721429  \n",
       "9             7.448571  "
      ]
     },
     "execution_count": 57,
     "metadata": {},
     "output_type": "execute_result"
    }
   ],
   "source": [
    "q_country = '''\n",
    "WITH country_summary AS\n",
    "    (\n",
    "    SELECT\n",
    "        CASE\n",
    "            WHEN (\n",
    "                SELECT COUNT(*)\n",
    "                FROM customer\n",
    "                WHERE country = c.country\n",
    "            ) = 1 THEN \"Other\"\n",
    "            ELSE c.country\n",
    "        END AS country,\n",
    "        COUNT(DISTINCT c.customer_id) num_customer,\n",
    "        SUM(i.total) sum_sales,\n",
    "        SUM(i.total) / COUNT(DISTINCT c.customer_id) avg_sales_per_customer,\n",
    "        SUM(i.total) / COUNT(DISTINCT i.invoice_id) avg_sales_per_order\n",
    "    FROM customer c\n",
    "    INNER JOIN invoice i ON i.customer_id = c.customer_id\n",
    "    GROUP BY 1\n",
    "    ORDER BY 3 DESC\n",
    "    )\n",
    "\n",
    "SELECT\n",
    "    country,\n",
    "    num_customer,\n",
    "    sum_sales,\n",
    "    avg_sales_per_customer,\n",
    "    avg_sales_per_order\n",
    "FROM (\n",
    "    SELECT\n",
    "        cs.*,\n",
    "        CASE\n",
    "            WHEN cs.country = \"Other\" THEN 1\n",
    "            ELSE 0\n",
    "        END AS sort\n",
    "    FROM country_summary cs\n",
    "    )\n",
    "ORDER BY sort;\n",
    "'''\n",
    "run_query(q_country)"
   ]
  },
  {
   "cell_type": "code",
   "execution_count": 139,
   "metadata": {},
   "outputs": [
    {
     "data": {
      "text/plain": [
       "<matplotlib.axes._subplots.AxesSubplot at 0x11e1cba58>"
      ]
     },
     "execution_count": 139,
     "metadata": {},
     "output_type": "execute_result"
    },
    {
     "data": {
      "image/png": "[encoded data removed]",
      "text/plain": [
       "<Figure size 432x288 with 1 Axes>"
      ]
     },
     "metadata": {
      "needs_background": "light"
     },
     "output_type": "display_data"
    }
   ],
   "source": [
    "country = run_query(q_country).set_index('country')\n",
    "country['num_customer'].plot.barh()"
   ]
  },
  {
   "cell_type": "code",
   "execution_count": 63,
   "metadata": {},
   "outputs": [
    {
     "data": {
      "text/plain": [
       "<matplotlib.axes._subplots.AxesSubplot at 0x11b427c18>"
      ]
     },
     "execution_count": 63,
     "metadata": {},
     "output_type": "execute_result"
    },
    {
     "data": {
      "image/png": "[encoded data removed]",
      "text/plain": [
       "<Figure size 432x288 with 1 Axes>"
      ]
     },
     "metadata": {
      "needs_background": "light"
     },
     "output_type": "display_data"
    }
   ],
   "source": [
    "country['sum_sales'].plot.barh()"
   ]
  },
  {
   "cell_type": "code",
   "execution_count": 64,
   "metadata": {},
   "outputs": [
    {
     "data": {
      "text/plain": [
       "<matplotlib.axes._subplots.AxesSubplot at 0x11cd23f60>"
      ]
     },
     "execution_count": 64,
     "metadata": {},
     "output_type": "execute_result"
    },
    {
     "data": {
      "image/png": "[encoded data removed]",
      "text/plain": [
       "<Figure size 432x288 with 1 Axes>"
      ]
     },
     "metadata": {
      "needs_background": "light"
     },
     "output_type": "display_data"
    }
   ],
   "source": [
    "country['avg_sales_per_customer'].plot.barh()"
   ]
  },
  {
   "cell_type": "code",
   "execution_count": 65,
   "metadata": {},
   "outputs": [
    {
     "data": {
      "text/plain": [
       "<matplotlib.axes._subplots.AxesSubplot at 0x11ce456a0>"
      ]
     },
     "execution_count": 65,
     "metadata": {},
     "output_type": "execute_result"
    },
    {
     "data": {
      "image/png": "[encoded data removed]",
      "text/plain": [
       "<Figure size 432x288 with 1 Axes>"
      ]
     },
     "metadata": {
      "needs_background": "light"
     },
     "output_type": "display_data"
    }
   ],
   "source": [
    "country['avg_sales_per_order'].plot.barh()"
   ]
  },
  {
   "cell_type": "code",
   "execution_count": 69,
   "metadata": {},
   "outputs": [
    {
     "data": {
      "text/plain": [
       "<matplotlib.axes._subplots.AxesSubplot at 0x11d83cbe0>"
      ]
     },
     "execution_count": 69,
     "metadata": {},
     "output_type": "execute_result"
    },
    {
     "data": {
      "image/png": "[encoded data removed]",
      "text/plain": [
       "<Figure size 432x288 with 1 Axes>"
      ]
     },
     "metadata": {
      "needs_background": "light"
     },
     "output_type": "display_data"
    }
   ],
   "source": [
    "country.plot.scatter('num_customer', 'sum_sales')"
   ]
  },
  {
   "cell_type": "code",
   "execution_count": 70,
   "metadata": {},
   "outputs": [
    {
     "data": {
      "text/plain": [
       "<matplotlib.axes._subplots.AxesSubplot at 0x11d84ef60>"
      ]
     },
     "execution_count": 70,
     "metadata": {},
     "output_type": "execute_result"
    },
    {
     "data": {
      "image/png": "[encoded data removed]",
      "text/plain": [
       "<Figure size 432x288 with 1 Axes>"
      ]
     },
     "metadata": {
      "needs_background": "light"
     },
     "output_type": "display_data"
    }
   ],
   "source": [
    "country.plot.scatter('avg_sales_per_customer', 'sum_sales')"
   ]
  },
  {
   "cell_type": "code",
   "execution_count": 71,
   "metadata": {},
   "outputs": [
    {
     "data": {
      "text/plain": [
       "<matplotlib.axes._subplots.AxesSubplot at 0x11d8d3e48>"
      ]
     },
     "execution_count": 71,
     "metadata": {},
     "output_type": "execute_result"
    },
    {
     "data": {
      "image/png": "[encoded data removed]",
      "text/plain": [
       "<Figure size 432x288 with 1 Axes>"
      ]
     },
     "metadata": {
      "needs_background": "light"
     },
     "output_type": "display_data"
    }
   ],
   "source": [
    "country.plot.scatter('num_customer', 'avg_sales_per_customer')"
   ]
  },
  {
   "cell_type": "code",
   "execution_count": 73,
   "metadata": {},
   "outputs": [
    {
     "data": {
      "text/html": [
       "<style  type=\"text/css\" >\n",
       "    #T_b87ddcf4_adf0_11e9_beb7_dca9048bc600row0_col0 {\n",
       "            background-color:  #b40426;\n",
       "        }    #T_b87ddcf4_adf0_11e9_beb7_dca9048bc600row0_col1 {\n",
       "            background-color:  #b50927;\n",
       "        }    #T_b87ddcf4_adf0_11e9_beb7_dca9048bc600row0_col2 {\n",
       "            background-color:  #3b4cc0;\n",
       "        }    #T_b87ddcf4_adf0_11e9_beb7_dca9048bc600row0_col3 {\n",
       "            background-color:  #3b4cc0;\n",
       "        }    #T_b87ddcf4_adf0_11e9_beb7_dca9048bc600row1_col0 {\n",
       "            background-color:  #b50927;\n",
       "        }    #T_b87ddcf4_adf0_11e9_beb7_dca9048bc600row1_col1 {\n",
       "            background-color:  #b40426;\n",
       "        }    #T_b87ddcf4_adf0_11e9_beb7_dca9048bc600row1_col2 {\n",
       "            background-color:  #4e68d8;\n",
       "        }    #T_b87ddcf4_adf0_11e9_beb7_dca9048bc600row1_col3 {\n",
       "            background-color:  #485fd1;\n",
       "        }    #T_b87ddcf4_adf0_11e9_beb7_dca9048bc600row2_col0 {\n",
       "            background-color:  #3b4cc0;\n",
       "        }    #T_b87ddcf4_adf0_11e9_beb7_dca9048bc600row2_col1 {\n",
       "            background-color:  #3b4cc0;\n",
       "        }    #T_b87ddcf4_adf0_11e9_beb7_dca9048bc600row2_col2 {\n",
       "            background-color:  #b40426;\n",
       "        }    #T_b87ddcf4_adf0_11e9_beb7_dca9048bc600row2_col3 {\n",
       "            background-color:  #f2cab5;\n",
       "        }    #T_b87ddcf4_adf0_11e9_beb7_dca9048bc600row3_col0 {\n",
       "            background-color:  #7093f3;\n",
       "        }    #T_b87ddcf4_adf0_11e9_beb7_dca9048bc600row3_col1 {\n",
       "            background-color:  #6b8df0;\n",
       "        }    #T_b87ddcf4_adf0_11e9_beb7_dca9048bc600row3_col2 {\n",
       "            background-color:  #f7b79b;\n",
       "        }    #T_b87ddcf4_adf0_11e9_beb7_dca9048bc600row3_col3 {\n",
       "            background-color:  #b40426;\n",
       "        }</style>  \n",
       "<table id=\"T_b87ddcf4_adf0_11e9_beb7_dca9048bc600\" > \n",
       "<thead>    <tr> \n",
       "        <th class=\"blank level0\" ></th> \n",
       "        <th class=\"col_heading level0 col0\" >num_customer</th> \n",
       "        <th class=\"col_heading level0 col1\" >sum_sales</th> \n",
       "        <th class=\"col_heading level0 col2\" >avg_sales_per_customer</th> \n",
       "        <th class=\"col_heading level0 col3\" >avg_sales_per_order</th> \n",
       "    </tr></thead> \n",
       "<tbody>    <tr> \n",
       "        <th id=\"T_b87ddcf4_adf0_11e9_beb7_dca9048bc600level0_row0\" class=\"row_heading level0 row0\" >num_customer</th> \n",
       "        <td id=\"T_b87ddcf4_adf0_11e9_beb7_dca9048bc600row0_col0\" class=\"data row0 col0\" >1</td> \n",
       "        <td id=\"T_b87ddcf4_adf0_11e9_beb7_dca9048bc600row0_col1\" class=\"data row0 col1\" >0.990214</td> \n",
       "        <td id=\"T_b87ddcf4_adf0_11e9_beb7_dca9048bc600row0_col2\" class=\"data row0 col2\" >-0.523638</td> \n",
       "        <td id=\"T_b87ddcf4_adf0_11e9_beb7_dca9048bc600row0_col3\" class=\"data row0 col3\" >-0.26232</td> \n",
       "    </tr>    <tr> \n",
       "        <th id=\"T_b87ddcf4_adf0_11e9_beb7_dca9048bc600level0_row1\" class=\"row_heading level0 row1\" >sum_sales</th> \n",
       "        <td id=\"T_b87ddcf4_adf0_11e9_beb7_dca9048bc600row1_col0\" class=\"data row1 col0\" >0.990214</td> \n",
       "        <td id=\"T_b87ddcf4_adf0_11e9_beb7_dca9048bc600row1_col1\" class=\"data row1 col1\" >1</td> \n",
       "        <td id=\"T_b87ddcf4_adf0_11e9_beb7_dca9048bc600row1_col2\" class=\"data row1 col2\" >-0.423775</td> \n",
       "        <td id=\"T_b87ddcf4_adf0_11e9_beb7_dca9048bc600row1_col3\" class=\"data row1 col3\" >-0.203947</td> \n",
       "    </tr>    <tr> \n",
       "        <th id=\"T_b87ddcf4_adf0_11e9_beb7_dca9048bc600level0_row2\" class=\"row_heading level0 row2\" >avg_sales_per_customer</th> \n",
       "        <td id=\"T_b87ddcf4_adf0_11e9_beb7_dca9048bc600row2_col0\" class=\"data row2 col0\" >-0.523638</td> \n",
       "        <td id=\"T_b87ddcf4_adf0_11e9_beb7_dca9048bc600row2_col1\" class=\"data row2 col1\" >-0.423775</td> \n",
       "        <td id=\"T_b87ddcf4_adf0_11e9_beb7_dca9048bc600row2_col2\" class=\"data row2 col2\" >1</td> \n",
       "        <td id=\"T_b87ddcf4_adf0_11e9_beb7_dca9048bc600row2_col3\" class=\"data row2 col3\" >0.498845</td> \n",
       "    </tr>    <tr> \n",
       "        <th id=\"T_b87ddcf4_adf0_11e9_beb7_dca9048bc600level0_row3\" class=\"row_heading level0 row3\" >avg_sales_per_order</th> \n",
       "        <td id=\"T_b87ddcf4_adf0_11e9_beb7_dca9048bc600row3_col0\" class=\"data row3 col0\" >-0.26232</td> \n",
       "        <td id=\"T_b87ddcf4_adf0_11e9_beb7_dca9048bc600row3_col1\" class=\"data row3 col1\" >-0.203947</td> \n",
       "        <td id=\"T_b87ddcf4_adf0_11e9_beb7_dca9048bc600row3_col2\" class=\"data row3 col2\" >0.498845</td> \n",
       "        <td id=\"T_b87ddcf4_adf0_11e9_beb7_dca9048bc600row3_col3\" class=\"data row3 col3\" >1</td> \n",
       "    </tr></tbody> \n",
       "</table> "
      ],
      "text/plain": [
       "<pandas.io.formats.style.Styler at 0x11b7397b8>"
      ]
     },
     "execution_count": 73,
     "metadata": {},
     "output_type": "execute_result"
    }
   ],
   "source": [
    "country_corr = country.corr()\n",
    "country_corr.style.background_gradient(cmap='coolwarm')"
   ]
  },
  {
   "cell_type": "code",
   "execution_count": 133,
   "metadata": {},
   "outputs": [
    {
     "data": {
      "text/html": [
       "<div>\n",
       "<style scoped>\n",
       "    .dataframe tbody tr th:only-of-type {\n",
       "        vertical-align: middle;\n",
       "    }\n",
       "\n",
       "    .dataframe tbody tr th {\n",
       "        vertical-align: top;\n",
       "    }\n",
       "\n",
       "    .dataframe thead th {\n",
       "        text-align: right;\n",
       "    }\n",
       "</style>\n",
       "<table border=\"1\" class=\"dataframe\">\n",
       "  <thead>\n",
       "    <tr style=\"text-align: right;\">\n",
       "      <th></th>\n",
       "      <th>num</th>\n",
       "      <th>pct</th>\n",
       "      <th>album_or_not</th>\n",
       "    </tr>\n",
       "  </thead>\n",
       "  <tbody>\n",
       "    <tr>\n",
       "      <th>0</th>\n",
       "      <td>125</td>\n",
       "      <td>0.203583</td>\n",
       "      <td>Album</td>\n",
       "    </tr>\n",
       "    <tr>\n",
       "      <th>1</th>\n",
       "      <td>489</td>\n",
       "      <td>0.796417</td>\n",
       "      <td>Not Album</td>\n",
       "    </tr>\n",
       "  </tbody>\n",
       "</table>\n",
       "</div>"
      ],
      "text/plain": [
       "   num       pct album_or_not\n",
       "0  125  0.203583        Album\n",
       "1  489  0.796417    Not Album"
      ]
     },
     "execution_count": 133,
     "metadata": {},
     "output_type": "execute_result"
    }
   ],
   "source": [
    "q_invoice = '''\n",
    "WITH album_tracks AS\n",
    "    (\n",
    "    SELECT\n",
    "        al.album_id,\n",
    "        COUNT(t.track_id) track_num\n",
    "    FROM album al\n",
    "    INNER JOIN track t ON t.album_id = al.album_id\n",
    "    GROUP BY 1\n",
    "    ),\n",
    "    \n",
    "    album_or_not AS\n",
    "    (\n",
    "    SELECT\n",
    "        il.invoice_id,\n",
    "        t.album_id,\n",
    "        al.title,\n",
    "        COUNT(t.track_id) sold_track_num,\n",
    "        (\n",
    "        SELECT track_num\n",
    "        FROM album_tracks at\n",
    "        WHERE at.album_id = t.album_id\n",
    "        ) original_track_num,\n",
    "        CASE\n",
    "            WHEN COUNT(t.track_id) = (\n",
    "                                                    SELECT track_num\n",
    "                                                    FROM album_tracks at\n",
    "                                                    WHERE at.album_id = t.album_id\n",
    "                                                    ) THEN \"Album\"\n",
    "            ELSE \"Not Album\"\n",
    "        END AS album_or_not                                   \n",
    "    FROM invoice_line il\n",
    "    INNER JOIN track t ON t.track_id = il.track_id\n",
    "    INNER JOIN album al ON al.album_id = t.album_id\n",
    "    GROUP BY 1\n",
    "    ORDER BY 1 ASC\n",
    "    )\n",
    "\n",
    "SELECT\n",
    "    COUNT(invoice_id) num,\n",
    "    CAST(COUNT(invoice_id) as float) / (\n",
    "                                    SELECT COUNT(a.invoice_id)\n",
    "                                    FROM album_or_not a\n",
    "                                    ) pct,\n",
    "    album_or_not\n",
    "FROM album_or_not a\n",
    "GROUP BY a.album_or_not\n",
    "'''\n",
    "\n",
    "run_query(q_invoice)"
   ]
  },
  {
   "cell_type": "code",
   "execution_count": 137,
   "metadata": {},
   "outputs": [
    {
     "data": {
      "text/plain": [
       "<matplotlib.axes._subplots.AxesSubplot at 0x11e14c3c8>"
      ]
     },
     "execution_count": 137,
     "metadata": {},
     "output_type": "execute_result"
    },
    {
     "data": {
      "image/png": "[encoded data removed]",
      "text/plain": [
       "<Figure size 432x288 with 1 Axes>"
      ]
     },
     "metadata": {},
     "output_type": "display_data"
    }
   ],
   "source": [
    "album_num = run_query(q_invoice).set_index('album_or_not')\n",
    "album_num['num'].plot.pie(startangle=90)"
   ]
  }
 ],
 "metadata": {
  "kernelspec": {
   "display_name": "Python 3",
   "language": "python",
   "name": "python3"
  },
  "language_info": {
   "codemirror_mode": {
    "name": "ipython",
    "version": 3
   },
   "file_extension": ".py",
   "mimetype": "text/x-python",
   "name": "python",
   "nbconvert_exporter": "python",
   "pygments_lexer": "ipython3",
   "version": "3.6.0"
  }
 },
 "nbformat": 4,
 "nbformat_minor": 2
}
