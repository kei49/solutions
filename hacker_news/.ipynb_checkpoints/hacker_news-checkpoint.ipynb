{
 "cells": [
  {
   "cell_type": "markdown",
   "metadata": {},
   "source": [
    "# \"Ask HN\" or \"Show HN\": Which type of posts are more attractive to users on Hacker News \n",
    "\n",
    "Hacker News is a famous website where users can publish their posts. In the website, there are two common types of posts and the title of them begin with \"Ask HN\" or \"Show HN\".\n",
    "\n",
    "In this projects, we will analyze randomly collected posts from Hacker News and compare the two types of posts to get some insights. We will determine the following:\n",
    "- Do `Ask HN` or `Show HN` receive more comments on average?\n",
    "- Do posts created at a certain time receive more comments on average?\n",
    "\n",
    "The data of posts form Hacker News could be downloaded from [here](https://www.kaggle.com/hacker-news/hacker-news-posts).\n",
    "\n",
    "## Opening and Exploring the Data"
   ]
  },
  {
   "cell_type": "code",
   "execution_count": 1,
   "metadata": {},
   "outputs": [
    {
     "name": "stdout",
     "output_type": "stream",
     "text": [
      "['id', 'title', 'url', 'num_points', 'num_comments', 'author', 'created_at']\n",
      "['12579008', 'You have two days to comment if you want stem cells to be classified as your own', 'http://www.regulations.gov/document?D=FDA-2015-D-3719-0018', '1', '0', 'altstar', '9/26/2016 3:26'] \n",
      "\n",
      "['12579005', 'SQLAR  the SQLite Archiver', 'https://www.sqlite.org/sqlar/doc/trunk/README.md', '1', '0', 'blacksqr', '9/26/2016 3:24'] \n",
      "\n",
      "['12578997', 'What if we just printed a flatscreen television on the side of our boxes?', 'https://medium.com/vanmoof/our-secrets-out-f21c1f03fdc8#.ietxmez43', '1', '0', 'pavel_lishin', '9/26/2016 3:19'] \n",
      "\n",
      "['12578989', 'algorithmic music', 'http://cacm.acm.org/magazines/2011/7/109891-algorithmic-composition/fulltext', '1', '0', 'poindontcare', '9/26/2016 3:16'] \n",
      "\n",
      "\n",
      "\n"
     ]
    }
   ],
   "source": [
    "from csv import reader\n",
    "opened_file = open(\"HN_posts_year_to_Sep_26_2016.csv\")\n",
    "read_file = reader(opened_file)\n",
    "hn = list(read_file)\n",
    "hn_header = hn[0]\n",
    "hn = hn[1:]\n",
    "\n",
    "def explore(hn, start=0, end=4):\n",
    "    for row in hn[start:end]:\n",
    "        print(row, \"\\n\")\n",
    "    print(\"\\n\")\n",
    "        \n",
    "print(hn_header)\n",
    "explore(hn)"
   ]
  },
  {
   "cell_type": "markdown",
   "metadata": {},
   "source": [
    "## Separating the Data into \"Ask HN\", \"Show HN\", or other Posts"
   ]
  },
  {
   "cell_type": "code",
   "execution_count": 7,
   "metadata": {},
   "outputs": [
    {
     "name": "stdout",
     "output_type": "stream",
     "text": [
      "['12578908', 'Ask HN: What TLD do you use for local development?', '', '4', '7', 'Sevrene', '9/26/2016 2:53'] \n",
      "\n",
      "['12578522', 'Ask HN: How do you pass on your work when you die?', '', '6', '3', 'PascLeRasc', '9/26/2016 1:17'] \n",
      "\n",
      "['12577908', 'Ask HN: How a DNS problem can be limited to a geographic region?', '', '1', '0', 'kuon', '9/25/2016 22:57'] \n",
      "\n",
      "['12577870', 'Ask HN: Why join a fund when you can be an angel?', '', '1', '3', 'anthony_james', '9/25/2016 22:48'] \n",
      "\n",
      "\n",
      "\n",
      "['12578335', 'Show HN: Finding puns computationally', 'http://puns.samueltaylor.org/', '2', '0', 'saamm', '9/26/2016 0:36'] \n",
      "\n",
      "['12578182', 'Show HN: A simple library for complicated animations', 'https://christinecha.github.io/choreographer-js/', '1', '0', 'christinecha', '9/26/2016 0:01'] \n",
      "\n",
      "['12578098', 'Show HN: WebGL visualization of DNA sequences', 'http://grondilu.github.io/dna.html', '1', '0', 'grondilu', '9/25/2016 23:44'] \n",
      "\n",
      "['12577991', 'Show HN: Pomodoro-centric, heirarchical project management with ES6 modules', 'https://github.com/jakebian/zeal', '2', '0', 'dbranes', '9/25/2016 23:17'] \n",
      "\n",
      "\n",
      "\n",
      "['12579008', 'You have two days to comment if you want stem cells to be classified as your own', 'http://www.regulations.gov/document?D=FDA-2015-D-3719-0018', '1', '0', 'altstar', '9/26/2016 3:26'] \n",
      "\n",
      "['12579005', 'SQLAR  the SQLite Archiver', 'https://www.sqlite.org/sqlar/doc/trunk/README.md', '1', '0', 'blacksqr', '9/26/2016 3:24'] \n",
      "\n",
      "['12578997', 'What if we just printed a flatscreen television on the side of our boxes?', 'https://medium.com/vanmoof/our-secrets-out-f21c1f03fdc8#.ietxmez43', '1', '0', 'pavel_lishin', '9/26/2016 3:19'] \n",
      "\n",
      "['12578989', 'algorithmic music', 'http://cacm.acm.org/magazines/2011/7/109891-algorithmic-composition/fulltext', '1', '0', 'poindontcare', '9/26/2016 3:16'] \n",
      "\n",
      "\n",
      "\n"
     ]
    }
   ],
   "source": [
    "ask_posts = []\n",
    "show_posts = []\n",
    "other_posts = []\n",
    "\n",
    "for row in hn:\n",
    "    title = row[1]\n",
    "    if title.lower().startswith('ask hn'):\n",
    "        ask_posts.append(row)\n",
    "    elif title.lower().startswith('show hn'):\n",
    "        show_posts.append(row)\n",
    "    else:\n",
    "        other_posts.append(row)\n",
    "\n",
    "explore(ask_posts)\n",
    "explore(show_posts)\n",
    "explore(other_posts)"
   ]
  },
  {
   "cell_type": "markdown",
   "metadata": {},
   "source": [
    "## Get Average Comments of a Type of Post"
   ]
  },
  {
   "cell_type": "code",
   "execution_count": 8,
   "metadata": {},
   "outputs": [
    {
     "name": "stdout",
     "output_type": "stream",
     "text": [
      "The average number of comments of 'Ask HN' were 10.4\n",
      "The average number of comments of 'Show HN' were 4.9\n"
     ]
    }
   ],
   "source": [
    "def get_avg_comments(hn):\n",
    "    total_comments = 0\n",
    "    for row in hn:\n",
    "        total_comments += int(row[4])\n",
    "    avg_comments = total_comments / len(hn)\n",
    "    return round(avg_comments, 1)\n",
    "\n",
    "\n",
    "print(\"The average number of comments of 'Ask HN' were\", get_avg_comments(ask_posts))\n",
    "print(\"The average number of comments of 'Show HN' were\", get_avg_comments(show_posts))"
   ]
  },
  {
   "cell_type": "markdown",
   "metadata": {},
   "source": [
    "According to this result, you can get more comments if you publish \"Ask HN\" posts rather than \"Show HN\" posts."
   ]
  },
  {
   "cell_type": "markdown",
   "metadata": {},
   "source": [
    "## Clean Time Format and Get Ranking of Comments by Hour"
   ]
  },
  {
   "cell_type": "code",
   "execution_count": 9,
   "metadata": {},
   "outputs": [
    {
     "name": "stdout",
     "output_type": "stream",
     "text": [
      "{'02': 269, '01': 282, '22': 383, '21': 518, '19': 552, '17': 587, '15': 646, '14': 513, '13': 444, '11': 312, '10': 282, '09': 222, '07': 226, '03': 271, '23': 343, '20': 510, '16': 579, '08': 257, '00': 301, '18': 614, '12': 342, '04': 243, '06': 234, '05': 209}\n",
      "{'02': 2996, '01': 2089, '22': 3372, '21': 4500, '19': 3954, '17': 5547, '15': 18525, '14': 4972, '13': 7245, '11': 2797, '10': 3013, '09': 1477, '07': 1585, '03': 2154, '23': 2297, '20': 4462, '16': 4466, '08': 2362, '00': 2277, '18': 4877, '12': 4234, '04': 2360, '06': 1587, '05': 1838}\n",
      "\n",
      "\n",
      "[hour, average comments]\n",
      "[['02', 11.137546468401487], ['01', 7.407801418439717], ['22', 8.804177545691905], ['21', 8.687258687258687], ['19', 7.163043478260869], ['17', 9.449744463373083], ['15', 28.676470588235293], ['14', 9.692007797270955], ['13', 16.31756756756757], ['11', 8.96474358974359], ['10', 10.684397163120567], ['09', 6.653153153153153], ['07', 7.013274336283186], ['03', 7.948339483394834], ['23', 6.696793002915452], ['20', 8.749019607843136], ['16', 7.713298791018998], ['08', 9.190661478599221], ['00', 7.5647840531561465], ['18', 7.94299674267101], ['12', 12.380116959064328], ['04', 9.7119341563786], ['06', 6.782051282051282], ['05', 8.794258373205741]] \n",
      "\n",
      "Ranking: the average number of comments per 'Ask HN' post by hour\n",
      "15:00: 28.68 average comments per post\n",
      "13:00: 16.32 average comments per post\n",
      "12:00: 12.38 average comments per post\n",
      "02:00: 11.14 average comments per post\n",
      "10:00: 10.68 average comments per post\n",
      "\n",
      "\n",
      "Ranking: the average number of comments per 'Show HN' post by hour\n",
      "12:00: 6.99 average comments per post\n",
      "07:00: 6.68 average comments per post\n",
      "11:00: 6.00 average comments per post\n",
      "08:00: 5.60 average comments per post\n",
      "14:00: 5.52 average comments per post\n",
      "\n",
      "\n",
      "Ranking: the average number of comments per 'Other' post by hour\n",
      "12:00: 7.59 average comments per post\n",
      "11:00: 7.37 average comments per post\n",
      "02:00: 7.18 average comments per post\n",
      "13:00: 7.15 average comments per post\n",
      "05:00: 6.79 average comments per post\n",
      "\n",
      "\n"
     ]
    }
   ],
   "source": [
    "import datetime as dt\n",
    "\n",
    "def clean_date(date_str):\n",
    "    date_list = date_str.split()\n",
    "    day, month, year = date_list[0].split(\"/\")\n",
    "    hour, minute = date_list[1].split(\":\")\n",
    "    return \"{}/{}/{} {}:{}\".format(day.zfill(2), month.zfill(2), year, hour.zfill(2), minute)\n",
    "\n",
    "def hour_comments(hn):\n",
    "    result_list = []\n",
    "    for row in hn:\n",
    "        result_list.append([row[6], int(row[4])])\n",
    "    \n",
    "    counts_by_hour = {}\n",
    "    comments_by_hour = {}\n",
    "    for r in result_list:\n",
    "        time_dt = dt.datetime.strptime(clean_date(r[0]), \"%m/%d/%Y %H:%M\")    \n",
    "        time_h = time_dt.strftime(\"%H\")\n",
    "        \n",
    "        if time_h not in counts_by_hour:\n",
    "            counts_by_hour[time_h] = 1\n",
    "            comments_by_hour[time_h] = r[1]\n",
    "        else:\n",
    "            counts_by_hour[time_h] += 1\n",
    "            comments_by_hour[time_h] += r[1]\n",
    "    return counts_by_hour, comments_by_hour\n",
    "\n",
    "ask_counts_by_hour, ask_comments_by_hour = hour_comments(ask_posts)\n",
    "print(ask_counts_by_hour)\n",
    "print(ask_comments_by_hour)\n",
    "print(\"\\n\")\n",
    "\n",
    "def get_avg_by_hour_list(counts, comments):\n",
    "    avg_by_hour = []\n",
    "    for c in counts:\n",
    "        avg_by_hour.append([c, (comments[c]/counts[c])])\n",
    "    return avg_by_hour\n",
    "ask_avg_by_hour = get_avg_by_hour_list(ask_counts_by_hour, ask_comments_by_hour)\n",
    "print(\"[hour, average comments]\")\n",
    "print(ask_avg_by_hour, \"\\n\")\n",
    "\n",
    "def swap_list(list_of_lists):\n",
    "    output_list = []\n",
    "    for row in list_of_lists:\n",
    "        output_list.append([row[1], row[0]])\n",
    "    return output_list\n",
    "\n",
    "def sort_lists_by_hour(avg_by_hour, name_index):\n",
    "    avg_by_hour_swapped = swap_list(avg_by_hour)\n",
    "    sorted_avg_hour = sorted(avg_by_hour_swapped, reverse=True)\n",
    "    for ranked_by_hour in sorted_avg_hour[:5]:\n",
    "        hour_dt = dt.datetime.strptime(ranked_by_hour[1], \"%H\")\n",
    "        hour_h = hour_dt.strftime(\"%H:%M\")\n",
    "        print(\"{}: {:.2f} average {} per post\".format(hour_h, ranked_by_hour[0], name_index))\n",
    "    print(\"\\n\")\n",
    "\n",
    "print(\"Ranking: the average number of comments per 'Ask HN' post by hour\")\n",
    "sort_lists_by_hour(ask_avg_by_hour, \"comments\")\n",
    "\n",
    "print(\"Ranking: the average number of comments per 'Show HN' post by hour\")\n",
    "show_counts, show_comments = hour_comments(show_posts)\n",
    "sort_lists_by_hour(get_avg_by_hour_list(show_counts, show_comments), \"comments\")\n",
    "\n",
    "print(\"Ranking: the average number of comments per 'Other' post by hour\")\n",
    "show_counts, show_comments = hour_comments(other_posts)\n",
    "sort_lists_by_hour(get_avg_by_hour_list(show_counts, show_comments), \"comments\")"
   ]
  },
  {
   "cell_type": "markdown",
   "metadata": {},
   "source": [
    "## Get Average Points of a Type of Post"
   ]
  },
  {
   "cell_type": "code",
   "execution_count": 11,
   "metadata": {},
   "outputs": [
    {
     "name": "stdout",
     "output_type": "stream",
     "text": [
      "Average points of ask posts: 11.3\n",
      "Average points of show posts: 14.8\n",
      "Average points of other posts: 15.2\n"
     ]
    }
   ],
   "source": [
    "def get_avg_points(hn):\n",
    "    total_points = 0\n",
    "    for row in hn:\n",
    "        total_points += int(row[3])\n",
    "    return round((total_points / len(hn)), 1)\n",
    "\n",
    "print(\"Average points of ask posts:\", get_avg_points(ask_posts))\n",
    "print(\"Average points of show posts:\", get_avg_points(show_posts))\n",
    "print(\"Average points of other posts:\", get_avg_points(other_posts))"
   ]
  },
  {
   "cell_type": "markdown",
   "metadata": {},
   "source": [
    "## Get Ranking of Points by Hour"
   ]
  },
  {
   "cell_type": "code",
   "execution_count": 6,
   "metadata": {},
   "outputs": [
    {
     "name": "stdout",
     "output_type": "stream",
     "text": [
      "Ranking: the average points per 'Ask HN' post by hour\n",
      "15:00: 21.64 average points per post\n",
      "13:00: 17.93 average points per post\n",
      "12:00: 13.58 average points per post\n",
      "10:00: 13.44 average points per post\n",
      "17:00: 12.19 average points per post\n",
      "\n",
      "\n",
      "Ranking: the average points per 'Show HN' post by hour\n",
      "12:00: 20.91 average points per post\n",
      "11:00: 19.26 average points per post\n",
      "13:00: 17.02 average points per post\n",
      "19:00: 16.06 average points per post\n",
      "06:00: 15.99 average points per post\n",
      "\n",
      "\n",
      "Ranking: the average points per 'Other post by hour\n",
      "02:00: 16.71 average points per post\n",
      "12:00: 16.70 average points per post\n",
      "11:00: 16.29 average points per post\n",
      "00:00: 16.12 average points per post\n",
      "13:00: 16.02 average points per post\n",
      "\n",
      "\n"
     ]
    }
   ],
   "source": [
    "def get_index_by_hour(hn, index):\n",
    "    result_list = []\n",
    "    for row in hn:\n",
    "        result_list.append([row[6], int(row[index])])\n",
    "    \n",
    "    counts_by_hour = {}\n",
    "    index_by_hour = {}\n",
    "    for r in result_list:\n",
    "        time_dt = dt.datetime.strptime(clean_date(r[0]), \"%m/%d/%Y %H:%M\")    \n",
    "        time_h = time_dt.strftime(\"%H\")\n",
    "        \n",
    "        if time_h not in counts_by_hour:\n",
    "            counts_by_hour[time_h] = 1\n",
    "            index_by_hour[time_h] = r[1]\n",
    "        else:\n",
    "            counts_by_hour[time_h] += 1\n",
    "            index_by_hour[time_h] += r[1]\n",
    "    return counts_by_hour, index_by_hour\n",
    "\n",
    "print(\"Ranking: the average points per 'Ask HN' post by hour\")\n",
    "counts_by_hour, points_by_hour = get_index_by_hour(ask_posts, 3)\n",
    "sort_lists_by_hour(get_avg_by_hour_list(counts_by_hour, points_by_hour), name_index = \"points\")\n",
    "\n",
    "print(\"Ranking: the average points per 'Show HN' post by hour\")\n",
    "counts_by_hour, points_by_hour = get_index_by_hour(show_posts, 3)\n",
    "sort_lists_by_hour(get_avg_by_hour_list(counts_by_hour, points_by_hour), name_index = \"points\")\n",
    "\n",
    "print(\"Ranking: the average points per 'Other post by hour\")\n",
    "counts_by_hour, points_by_hour = get_index_by_hour(other_posts, 3)\n",
    "sort_lists_by_hour(get_avg_by_hour_list(counts_by_hour, points_by_hour), name_index = \"points\")"
   ]
  }
 ],
 "metadata": {
  "kernelspec": {
   "display_name": "Python 3",
   "language": "python",
   "name": "python3"
  },
  "language_info": {
   "codemirror_mode": {
    "name": "ipython",
    "version": 3
   },
   "file_extension": ".py",
   "mimetype": "text/x-python",
   "name": "python",
   "nbconvert_exporter": "python",
   "pygments_lexer": "ipython3",
   "version": "3.6.0"
  }
 },
 "nbformat": 4,
 "nbformat_minor": 2
}
