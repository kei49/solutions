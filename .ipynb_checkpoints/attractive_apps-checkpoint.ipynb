{
 "cells": [
  {
   "cell_type": "markdown",
   "metadata": {},
   "source": [
    "# What type of apps are likely to attract more users\n",
    "\n",
    "This project is about analyzing data of apps from android and ios.\n",
    "The goal of this project is to make a suggestion for apps developer about what tyep of apps are likely to attract more users.\n",
    "In this project, we use only data of free apps for English users for some specific use cases."
   ]
  },
  {
   "cell_type": "markdown",
   "metadata": {},
   "source": [
    "## Opening and Exploring the Data\n",
    "First of all, we will open the dataset about apple and google apps. The both datasets are open source data below.\n",
    "\n",
    "- [A data set](https://www.kaggle.com/lava18/google-play-store-apps/home) containing data about approximately ten thousand Android apps from Google Play\n",
    "- [A data set](https://www.kaggle.com/ramamet4/app-store-apple-data-set-10k-apps/home) containing data about approximately seven thousand iOS apps from the App Store\n",
    "\n",
    "First of all, we will open these data and get columns as headers.\n",
    "Then, in order for exploreing data of apps, we will make a function `explore_data`."
   ]
  },
  {
   "cell_type": "code",
   "execution_count": 1,
   "metadata": {},
   "outputs": [],
   "source": [
    "from csv import reader\n",
    "opened_file = open('googleplaystore.csv')\n",
    "read_file = reader(opened_file)\n",
    "android = list(read_file)\n",
    "android_header = android[0]\n",
    "android = android[1:]\n",
    "\n",
    "opened_file = open('AppleStore.csv')\n",
    "read_file = reader(opened_file)\n",
    "ios = list(read_file)\n",
    "ios_header = ios[0]\n",
    "ios = ios[1:]"
   ]
  },
  {
   "cell_type": "code",
   "execution_count": 2,
   "metadata": {},
   "outputs": [],
   "source": [
    "def explore_data(dataset, start, end, rows_and_columns=False):\n",
    "    dataset_slice = dataset[start:end]    \n",
    "    for row in dataset_slice:\n",
    "        print(row)\n",
    "        print('\\n') # adds a new (empty) line after each row\n",
    "\n",
    "    if rows_and_columns:\n",
    "        print('Number of rows:', len(dataset))\n",
    "        print('Number of columns:', len(dataset[0]))"
   ]
  },
  {
   "cell_type": "markdown",
   "metadata": {},
   "source": [
    "As a test, let's see each header of app from android and ios, and first few rows of large data."
   ]
  },
  {
   "cell_type": "code",
   "execution_count": 3,
   "metadata": {},
   "outputs": [
    {
     "name": "stdout",
     "output_type": "stream",
     "text": [
      "['App', 'Category', 'Rating', 'Reviews', 'Size', 'Installs', 'Type', 'Price', 'Content Rating', 'Genres', 'Last Updated', 'Current Ver', 'Android Ver'] \n",
      "\n",
      "['Photo Editor & Candy Camera & Grid & ScrapBook', 'ART_AND_DESIGN', '4.1', '159', '19M', '10,000+', 'Free', '0', 'Everyone', 'Art & Design', 'January 7, 2018', '1.0.0', '4.0.3 and up']\n",
      "\n",
      "\n",
      "['Coloring book moana', 'ART_AND_DESIGN', '3.9', '967', '14M', '500,000+', 'Free', '0', 'Everyone', 'Art & Design;Pretend Play', 'January 15, 2018', '2.0.0', '4.0.3 and up']\n",
      "\n",
      "\n",
      "['U Launcher Lite – FREE Live Cool Themes, Hide Apps', 'ART_AND_DESIGN', '4.7', '87510', '8.7M', '5,000,000+', 'Free', '0', 'Everyone', 'Art & Design', 'August 1, 2018', '1.2.4', '4.0.3 and up']\n",
      "\n",
      "\n",
      "['Sketch - Draw & Paint', 'ART_AND_DESIGN', '4.5', '215644', '25M', '50,000,000+', 'Free', '0', 'Teen', 'Art & Design', 'June 8, 2018', 'Varies with device', '4.2 and up']\n",
      "\n",
      "\n",
      "Number of rows: 10841\n",
      "Number of columns: 13\n"
     ]
    }
   ],
   "source": [
    "print(android_header, '\\n')\n",
    "explore_data(android, 0, 4, rows_and_columns=True)"
   ]
  },
  {
   "cell_type": "code",
   "execution_count": 4,
   "metadata": {},
   "outputs": [
    {
     "name": "stdout",
     "output_type": "stream",
     "text": [
      "['', 'id', 'track_name', 'size_bytes', 'currency', 'price', 'rating_count_tot', 'rating_count_ver', 'user_rating', 'user_rating_ver', 'ver', 'cont_rating', 'prime_genre', 'sup_devices.num', 'ipadSc_urls.num', 'lang.num', 'vpp_lic'] \n",
      "\n",
      "['1', '281656475', 'PAC-MAN Premium', '100788224', 'USD', '3.99', '21292', '26', '4', '4.5', '6.3.5', '4+', 'Games', '38', '5', '10', '1']\n",
      "\n",
      "\n",
      "['2', '281796108', 'Evernote - stay organized', '158578688', 'USD', '0', '161065', '26', '4', '3.5', '8.2.2', '4+', 'Productivity', '37', '5', '23', '1']\n",
      "\n",
      "\n",
      "['3', '281940292', 'WeatherBug - Local Weather, Radar, Maps, Alerts', '100524032', 'USD', '0', '188583', '2822', '3.5', '4.5', '5.0.0', '4+', 'Weather', '37', '5', '3', '1']\n",
      "\n",
      "\n",
      "['4', '282614216', 'eBay: Best App to Buy, Sell, Save! Online Shopping', '128512000', 'USD', '0', '262241', '649', '4', '4.5', '5.10.0', '12+', 'Shopping', '37', '5', '9', '1']\n",
      "\n",
      "\n",
      "Number of rows: 7197\n",
      "Number of columns: 17\n"
     ]
    }
   ],
   "source": [
    "print(ios_header, '\\n')\n",
    "explore_data(ios, 0, 4, rows_and_columns=True)"
   ]
  },
  {
   "cell_type": "markdown",
   "metadata": {},
   "source": [
    "## Cleaning the Data\n",
    "Before analyzing the Data, we should clean the data. This process is always taugh work, but this has to be done for a good data analysis. \n",
    "As for data used in this project, there are four process of cleaning data and each process is below.\n",
    "\n",
    "1. Remove inaccurate data\n",
    "- Remove duplicate app entries\n",
    "- Remove non-English apps\n",
    "- Isolat the free apps\n",
    "\n",
    "### 1:Remove inaccurate data\n",
    "According to [one of discussions](https://www.kaggle.com/lava18/google-play-store-apps/discussion/66015), a row of data about apps from Google Play is missing 'Category' column. We know the number of the columns is 13, but the row '10472' of `google_data` has only 12 columns as shown below."
   ]
  },
  {
   "cell_type": "code",
   "execution_count": 5,
   "metadata": {},
   "outputs": [
    {
     "name": "stdout",
     "output_type": "stream",
     "text": [
      "13\n",
      "['Xposed Wi-Fi-Pwd', 'PERSONALIZATION', '3.5', '1042', '404k', '100,000+', 'Free', '0', 'Everyone', 'Personalization', 'August 5, 2014', '3.0.0', '4.0.3 and up']\n",
      "\n",
      "\n",
      "['Life Made WI-Fi Touchscreen Photo Frame', '1.9', '19', '3.0M', '1,000+', 'Free', '0', 'Everyone', '', 'February 11, 2018', '1.0.19', '4.0 and up']\n",
      "\n",
      "\n",
      "12\n"
     ]
    }
   ],
   "source": [
    "print(len(android_header))\n",
    "explore_data(android, 10471, 10473)\n",
    "print(len(android[10472]))"
   ]
  },
  {
   "cell_type": "markdown",
   "metadata": {},
   "source": [
    "Therefore, we have to delete the row by using `del` built-in function like this.\n",
    "After deleting the row, we cannot see the row missing 'Category' column anymore."
   ]
  },
  {
   "cell_type": "code",
   "execution_count": 6,
   "metadata": {},
   "outputs": [
    {
     "name": "stdout",
     "output_type": "stream",
     "text": [
      "['Xposed Wi-Fi-Pwd', 'PERSONALIZATION', '3.5', '1042', '404k', '100,000+', 'Free', '0', 'Everyone', 'Personalization', 'August 5, 2014', '3.0.0', '4.0.3 and up']\n",
      "\n",
      "\n",
      "['osmino Wi-Fi: free WiFi', 'TOOLS', '4.2', '134203', '4.1M', '10,000,000+', 'Free', '0', 'Everyone', 'Tools', 'August 7, 2018', '6.06.14', '4.4 and up']\n",
      "\n",
      "\n"
     ]
    }
   ],
   "source": [
    "del android[10472]\n",
    "explore_data(android, 10471, 10473)"
   ]
  },
  {
   "cell_type": "markdown",
   "metadata": {},
   "source": [
    "### 2:Remove duplicate app entries\n",
    "There are some data which have the same App name, so we have to find all duplicate app name and remove those entries form the dataset.\n",
    "\n",
    "FIrst of all, we want to see the current situation of the repetition of apps by using a function made as `check_duplicate`."
   ]
  },
  {
   "cell_type": "code",
   "execution_count": 7,
   "metadata": {},
   "outputs": [
    {
     "name": "stdout",
     "output_type": "stream",
     "text": [
      "Number of duplicate apps from android : 1181\n",
      "Number of unique apps from android : 9659\n",
      "\n",
      "\n",
      "Number of duplicate apps from ios : 0\n",
      "Number of unique apps from ios : 7197\n",
      "\n",
      "\n"
     ]
    }
   ],
   "source": [
    "def check_duplicate(dataset, os):\n",
    "    duplicate_apps_name = []\n",
    "    unique_apps_name = []\n",
    "    duplicate_apps = []\n",
    "\n",
    "    for app in dataset:\n",
    "        name = app[0]\n",
    "        if name in unique_apps_name:\n",
    "            duplicate_apps_name.append(name)\n",
    "            duplicate_apps.append(app)\n",
    "        else:\n",
    "            unique_apps_name.append(name)\n",
    "    print('Number of duplicate apps from', os, \":\",  len(duplicate_apps_name))\n",
    "    print('Number of unique apps from', os, \":\", len(unique_apps_name))\n",
    "    print(\"\\n\")\n",
    "    return duplicate_apps\n",
    "\n",
    "duplicate_android = check_duplicate(android, \"android\")\n",
    "duplicate_ios = check_duplicate(ios, \"ios\")"
   ]
  },
  {
   "cell_type": "markdown",
   "metadata": {},
   "source": [
    "These results show that there are no duplicate apps for apps form ios. We will focus on apps from android and remove the duplicate apps.\n",
    "\n",
    "But before removing them, shall we see how those data are shown as duplicate apps by displaying a first few rows of `duplicate_android` and also see the rows of the same duplicate apps."
   ]
  },
  {
   "cell_type": "code",
   "execution_count": 8,
   "metadata": {},
   "outputs": [
    {
     "name": "stdout",
     "output_type": "stream",
     "text": [
      "['Quick PDF Scanner + OCR FREE', 'BUSINESS', '4.2', '80805', 'Varies with device', '5,000,000+', 'Free', '0', 'Everyone', 'Business', 'February 26, 2018', 'Varies with device', '4.0.3 and up']\n",
      "\n",
      "\n",
      "['Box', 'BUSINESS', '4.2', '159872', 'Varies with device', '10,000,000+', 'Free', '0', 'Everyone', 'Business', 'July 31, 2018', 'Varies with device', 'Varies with device']\n",
      "\n",
      "\n",
      "['Google My Business', 'BUSINESS', '4.4', '70991', 'Varies with device', '5,000,000+', 'Free', '0', 'Everyone', 'Business', 'July 24, 2018', '2.19.0.204537701', '4.4 and up']\n",
      "\n",
      "\n",
      "['ZOOM Cloud Meetings', 'BUSINESS', '4.4', '31614', '37M', '10,000,000+', 'Free', '0', 'Everyone', 'Business', 'July 20, 2018', '4.1.28165.0716', '4.0 and up']\n",
      "\n",
      "\n",
      "['join.me - Simple Meetings', 'BUSINESS', '4.0', '6989', 'Varies with device', '1,000,000+', 'Free', '0', 'Everyone', 'Business', 'July 16, 2018', '4.3.0.508', '4.4 and up']\n",
      "\n",
      "\n",
      "['Box', 'BUSINESS', '4.2', '159872', 'Varies with device', '10,000,000+', 'Free', '0', 'Everyone', 'Business', 'July 31, 2018', 'Varies with device', 'Varies with device']\n",
      "\n",
      "\n",
      "['Zenefits', 'BUSINESS', '4.2', '296', '14M', '50,000+', 'Free', '0', 'Everyone', 'Business', 'June 15, 2018', '3.2.1', '4.1 and up']\n",
      "\n",
      "\n",
      "['Google Ads', 'BUSINESS', '4.3', '29313', '20M', '5,000,000+', 'Free', '0', 'Everyone', 'Business', 'July 30, 2018', '1.12.0', '4.0.3 and up']\n",
      "\n",
      "\n",
      "['Google My Business', 'BUSINESS', '4.4', '70991', 'Varies with device', '5,000,000+', 'Free', '0', 'Everyone', 'Business', 'July 24, 2018', '2.19.0.204537701', '4.4 and up']\n",
      "\n",
      "\n",
      "['Slack', 'BUSINESS', '4.4', '51507', 'Varies with device', '5,000,000+', 'Free', '0', 'Everyone', 'Business', 'August 2, 2018', 'Varies with device', 'Varies with device']\n",
      "\n",
      "\n",
      "1 : ['Box', 'BUSINESS', '4.2', '159872', 'Varies with device', '10,000,000+', 'Free', '0', 'Everyone', 'Business', 'July 31, 2018', 'Varies with device', 'Varies with device']\n",
      "5 : ['Box', 'BUSINESS', '4.2', '159872', 'Varies with device', '10,000,000+', 'Free', '0', 'Everyone', 'Business', 'July 31, 2018', 'Varies with device', 'Varies with device']\n",
      "9 : ['Slack', 'BUSINESS', '4.4', '51507', 'Varies with device', '5,000,000+', 'Free', '0', 'Everyone', 'Business', 'August 2, 2018', 'Varies with device', 'Varies with device']\n",
      "34 : ['Slack', 'BUSINESS', '4.4', '51510', 'Varies with device', '5,000,000+', 'Free', '0', 'Everyone', 'Business', 'August 2, 2018', 'Varies with device', 'Varies with device']\n"
     ]
    }
   ],
   "source": [
    "explore_data(duplicate_android, 0, 10)\n",
    "\n",
    "def display_duplicate_apps(dataset, app_name):\n",
    "    for num_row, app in enumerate(dataset):\n",
    "        name = app[0]\n",
    "        if name==app_name:\n",
    "            print(num_row,\":\",  app)\n",
    "\n",
    "display_duplicate_apps(duplicate_android, \"Box\")\n",
    "display_duplicate_apps(duplicate_android, \"Slack\")"
   ]
  },
  {
   "cell_type": "markdown",
   "metadata": {},
   "source": [
    "After the checking the condition of rows of duplicate apps, we are going to remove them.\n",
    "We use a number of data \"reviews\", which seem to be an id added according to the order of reviews. We assume the data whose reviews are max in the same app are the final version the app. Therefore, we will pickup only the final version of app row and make a new list as `android_clean`."
   ]
  },
  {
   "cell_type": "code",
   "execution_count": 9,
   "metadata": {},
   "outputs": [
    {
     "name": "stdout",
     "output_type": "stream",
     "text": [
      "['Photo Editor & Candy Camera & Grid & ScrapBook', 'ART_AND_DESIGN', '4.1', '159', '19M', '10,000+', 'Free', '0', 'Everyone', 'Art & Design', 'January 7, 2018', '1.0.0', '4.0.3 and up']\n",
      "\n",
      "\n",
      "['U Launcher Lite – FREE Live Cool Themes, Hide Apps', 'ART_AND_DESIGN', '4.7', '87510', '8.7M', '5,000,000+', 'Free', '0', 'Everyone', 'Art & Design', 'August 1, 2018', '1.2.4', '4.0.3 and up']\n",
      "\n",
      "\n",
      "['Sketch - Draw & Paint', 'ART_AND_DESIGN', '4.5', '215644', '25M', '50,000,000+', 'Free', '0', 'Teen', 'Art & Design', 'June 8, 2018', 'Varies with device', '4.2 and up']\n",
      "\n",
      "\n",
      "['Pixel Draw - Number Art Coloring Book', 'ART_AND_DESIGN', '4.3', '967', '2.8M', '100,000+', 'Free', '0', 'Everyone', 'Art & Design;Creativity', 'June 20, 2018', '1.1', '4.4 and up']\n",
      "\n",
      "\n",
      "Number of rows: 9659\n",
      "Number of columns: 13\n"
     ]
    }
   ],
   "source": [
    "reviews_max = {}\n",
    "for app in android:\n",
    "    name = app[0]\n",
    "    n_reviews = app[3]\n",
    "    if name in reviews_max and reviews_max[name] < n_reviews:\n",
    "        reviews_max[name] = n_reviews\n",
    "    elif name not in reviews_max:\n",
    "        reviews_max[name] = n_reviews\n",
    "        \n",
    "android_clean = []\n",
    "already_added = []\n",
    "for app in android:\n",
    "    name = app[0]\n",
    "    n_reviews = app[3]\n",
    "    if (reviews_max[name] == n_reviews) and (name not in already_added):\n",
    "        android_clean.append(app)\n",
    "        already_added.append(name)\n",
    "        \n",
    "\n",
    "explore_data(android_clean, 0, 4, True)"
   ]
  },
  {
   "cell_type": "markdown",
   "metadata": {},
   "source": [
    "### 3:Remove non-English apps\n",
    "In this project, we will collect only English apps for a use case.\n",
    "At this process, we will find all possible non-English data by using functions `is_english` and `check_english`. Then, display the data evaluated as non-English. For judging apps as English or non-English, we use `ord()` built-in function, which tell you the ASCII code number of a character added as input. English strings are basically composed of characters whose the ASCII code of the number is equal or under 127."
   ]
  },
  {
   "cell_type": "code",
   "execution_count": 10,
   "metadata": {},
   "outputs": [
    {
     "name": "stdout",
     "output_type": "stream",
     "text": [
      "Numbers of all android : 9659\n",
      "Numbers of english android : 9117\n"
     ]
    }
   ],
   "source": [
    "def is_english(string):\n",
    "    for char in string:\n",
    "        if ord(char) > 127:\n",
    "            # print(ord(char), string)\n",
    "            return False\n",
    "            break\n",
    "    return True\n",
    "\n",
    "def check_english(os, which_os):\n",
    "    print(\"Numbers of all\", which_os, \":\", len(os))\n",
    "    apps_english = []\n",
    "    for app in os:\n",
    "        if which_os == \"android\":\n",
    "            app_name = app[0]\n",
    "        elif which_os == \"ios\":\n",
    "            app_name = app[2]\n",
    "        if is_english(app_name):\n",
    "            apps_english.append(app)\n",
    "    print(\"Numbers of english\", which_os, \":\", len(apps_english))\n",
    "\n",
    "check_english(android_clean, which_os=\"android\")"
   ]
  },
  {
   "cell_type": "code",
   "execution_count": 11,
   "metadata": {},
   "outputs": [
    {
     "name": "stdout",
     "output_type": "stream",
     "text": [
      "Numbers of all ios : 7197\n",
      "Numbers of english ios : 5707\n"
     ]
    }
   ],
   "source": [
    "check_english(ios, which_os=\"ios\")"
   ]
  },
  {
   "cell_type": "markdown",
   "metadata": {},
   "source": [
    "As above, we could find possible non-English data. However, as you know, there are some English apps evaluated as non-English apps because the names include some special characters like 😜 or ™.\n",
    "Solving this problem, we change the evaluate system a littele bit and evaluate apps as non-English if the name of the apps include more than three characters whose ASCII code number are equal or under 127. We use two better evaluation function, `better_is_english` and `better_check_english`. We also remember to return a list of English apps in the function `better_check_english`."
   ]
  },
  {
   "cell_type": "code",
   "execution_count": 12,
   "metadata": {},
   "outputs": [],
   "source": [
    "def better_is_english(string):\n",
    "    count = 0\n",
    "    for char in string:\n",
    "        if ord(char) > 127:\n",
    "            count += 1\n",
    "            if count > 3:\n",
    "                # print(ord(char), string)\n",
    "                return False    \n",
    "    return True\n",
    "\n",
    "def better_check_english(os, which_os):\n",
    "    print(\"Numbers of all\", which_os, \":\", len(os))\n",
    "    apps_english = []\n",
    "    for app in os:\n",
    "        if which_os == \"android\":\n",
    "            app_name = app[0]\n",
    "        elif which_os == \"ios\":\n",
    "            app_name = app[2]\n",
    "        if better_is_english(app_name):\n",
    "            apps_english.append(app)\n",
    "    print(\"Numbers of english\", which_os, \":\", len(apps_english))\n",
    "    return apps_english"
   ]
  },
  {
   "cell_type": "code",
   "execution_count": 13,
   "metadata": {},
   "outputs": [
    {
     "name": "stdout",
     "output_type": "stream",
     "text": [
      "Numbers of all android : 9659\n",
      "Numbers of english android : 9614\n"
     ]
    }
   ],
   "source": [
    "android_english = better_check_english(android_clean, which_os=\"android\")"
   ]
  },
  {
   "cell_type": "code",
   "execution_count": 14,
   "metadata": {
    "scrolled": false
   },
   "outputs": [
    {
     "name": "stdout",
     "output_type": "stream",
     "text": [
      "Numbers of all ios : 7197\n",
      "Numbers of english ios : 6183\n"
     ]
    }
   ],
   "source": [
    "ios_english = better_check_english(ios, which_os=\"ios\")"
   ]
  },
  {
   "cell_type": "markdown",
   "metadata": {},
   "source": [
    "After all, we got the better lists of English apps."
   ]
  },
  {
   "cell_type": "markdown",
   "metadata": {},
   "source": [
    "### 4:Isolat the free apps\n",
    "In this project, we focus on the free apps for a use case. We pickup only rows the price of which are 0 by using a function `is_free`."
   ]
  },
  {
   "cell_type": "code",
   "execution_count": 15,
   "metadata": {
    "scrolled": true
   },
   "outputs": [
    {
     "name": "stdout",
     "output_type": "stream",
     "text": [
      "Numbers of free android is 8862\n",
      "Numbers of free ios is 3222\n"
     ]
    }
   ],
   "source": [
    "def is_free(os, which_os):\n",
    "    free_app = []\n",
    "    if which_os=='android':\n",
    "        column_num = 7\n",
    "    elif which_os=='ios':\n",
    "        column_num = 5\n",
    "    for app in os:\n",
    "        if app[column_num]=='0':\n",
    "            free_app.append(app)\n",
    "    print(\"Numbers of free\", which_os, \"is\", len(free_app))\n",
    "    return free_app\n",
    "\n",
    "android_final = is_free(android_english, \"android\")\n",
    "ios_final = is_free(ios_english, \"ios\")\n"
   ]
  },
  {
   "cell_type": "markdown",
   "metadata": {},
   "source": [
    "So far, we spent a good amount of time on cleaning data!! Congrats!"
   ]
  },
  {
   "cell_type": "markdown",
   "metadata": {},
   "source": [
    "## Analyzing Data\n",
    "We have finally cleaned up the data, so let's analyze them.\n",
    "This process has to be main in the data analysis, though many data analysists say the process of preparing data for analysis is the most complicated and taugh tasks. \n",
    "\n",
    "At this moment, we have to check our goal, which is to know what type of apps are likely to attract more users.\n",
    "To extract these ideas from the data, we checked how many apps are published to each type of genres and how much scores of other types of index as attraction are got to each type of genres."
   ]
  },
  {
   "cell_type": "code",
   "execution_count": 16,
   "metadata": {
    "scrolled": true
   },
   "outputs": [
    {
     "name": "stdout",
     "output_type": "stream",
     "text": [
      "['App', 'Category', 'Rating', 'Reviews', 'Size', 'Installs', 'Type', 'Price', 'Content Rating', 'Genres', 'Last Updated', 'Current Ver', 'Android Ver'] \n",
      "\n",
      "['', 'id', 'track_name', 'size_bytes', 'currency', 'price', 'rating_count_tot', 'rating_count_ver', 'user_rating', 'user_rating_ver', 'ver', 'cont_rating', 'prime_genre', 'sup_devices.num', 'ipadSc_urls.num', 'lang.num', 'vpp_lic'] \n",
      "\n",
      "['Photo Editor & Candy Camera & Grid & ScrapBook', 'ART_AND_DESIGN', '4.1', '159', '19M', '10,000+', 'Free', '0', 'Everyone', 'Art & Design', 'January 7, 2018', '1.0.0', '4.0.3 and up']\n",
      "\n",
      "\n",
      "['Coloring book moana', 'ART_AND_DESIGN', '3.9', '967', '14M', '500,000+', 'Free', '0', 'Everyone', 'Art & Design;Pretend Play', 'January 15, 2018', '2.0.0', '4.0.3 and up']\n",
      "\n",
      "\n",
      "['U Launcher Lite – FREE Live Cool Themes, Hide Apps', 'ART_AND_DESIGN', '4.7', '87510', '8.7M', '5,000,000+', 'Free', '0', 'Everyone', 'Art & Design', 'August 1, 2018', '1.2.4', '4.0.3 and up']\n",
      "\n",
      "\n",
      "Number of rows: 10840\n",
      "Number of columns: 13\n",
      "\n",
      "\n",
      "android apps:\n",
      "('Tools', 842)\n",
      "('Entertainment', 623)\n",
      "('Education', 549)\n",
      "('Medical', 463)\n",
      "('Business', 460)\n",
      "('Productivity', 424)\n",
      "('Sports', 398)\n",
      "('Personalization', 392)\n",
      "('Communication', 387)\n",
      "('Lifestyle', 381)\n",
      "('Finance', 366)\n",
      "('Action', 365)\n",
      "('Health & Fitness', 341)\n",
      "('Photography', 335)\n",
      "('Social', 295)\n",
      "('News & Magazines', 283)\n",
      "('Shopping', 260)\n",
      "('Travel & Local', 257)\n",
      "('Dating', 234)\n",
      "('Books & Reference', 231)\n",
      "('Arcade', 220)\n",
      "('Simulation', 200)\n",
      "('Casual', 193)\n",
      "('Video Players & Editors', 173)\n",
      "('Puzzle', 140)\n",
      "('Maps & Navigation', 137)\n",
      "('Food & Drink', 127)\n",
      "('Role Playing', 109)\n",
      "('Strategy', 107)\n",
      "('Racing', 98)\n",
      "\n",
      "\n",
      "ios apps:\n",
      "('Games', 3862)\n",
      "('Entertainment', 535)\n",
      "('Education', 453)\n",
      "('Photo & Video', 349)\n",
      "('Utilities', 248)\n",
      "('Health & Fitness', 180)\n",
      "('Productivity', 178)\n",
      "('Social Networking', 167)\n",
      "('Lifestyle', 144)\n",
      "('Music', 138)\n",
      "('Shopping', 122)\n",
      "('Sports', 114)\n",
      "('Book', 112)\n",
      "('Finance', 104)\n",
      "('Travel', 81)\n",
      "('News', 75)\n",
      "('Weather', 72)\n",
      "('Reference', 64)\n",
      "('Food & Drink', 63)\n",
      "('Business', 57)\n",
      "('Navigation', 46)\n",
      "('Medical', 23)\n",
      "('Catalogs', 10)\n"
     ]
    }
   ],
   "source": [
    "print(android_header, \"\\n\")\n",
    "print(ios_header, \"\\n\")\n",
    "explore_data(android, 0, 3, rows_and_columns=True)\n",
    "\n",
    "def popular_genres(os, which_os):\n",
    "    genres_dict = {}\n",
    "    for app in os:\n",
    "        if which_os==\"android\":\n",
    "            genres = app[9]\n",
    "        elif which_os==\"ios\":\n",
    "            genres = app[12]\n",
    "        if genres in genres_dict:\n",
    "            genres_dict[genres] += 1\n",
    "        else:\n",
    "            genres_dict[genres] = 1\n",
    "    genres_sorted = sorted(genres_dict.items(), key=lambda x:x[1], reverse=True)\n",
    "    for g_s in genres_sorted[:30]:\n",
    "        print(g_s)\n",
    "\n",
    "print(\"\\n\")\n",
    "print(\"android apps:\")\n",
    "popular_genres(android, \"android\")\n",
    "print(\"\\n\")\n",
    "print(\"ios apps:\")\n",
    "popular_genres(ios, \"ios\")\n"
   ]
  },
  {
   "cell_type": "markdown",
   "metadata": {},
   "source": [
    "These results above are impressive!\n",
    "\n",
    "While apps of Tools genres are published most for android, apps of Games genres are published most for ios. Moreover, the number of ios apps of Games genre are more than 6 times those of Entertainment genre, which are the second most popular apps in ios. \n",
    "\n",
    "However, both results of android and ios show an insight of that we should consider Entertainment genre apps if we want to publish apps on both of them because the number of apps of Entertainment genre are high in the both ranking."
   ]
  },
  {
   "cell_type": "code",
   "execution_count": 17,
   "metadata": {},
   "outputs": [
    {
     "name": "stdout",
     "output_type": "stream",
     "text": [
      "FAMILY : 18.19\n",
      "GAME : 10.55\n",
      "TOOLS : 7.78\n",
      "MEDICAL : 4.27\n",
      "BUSINESS : 4.24\n",
      "PRODUCTIVITY : 3.91\n",
      "PERSONALIZATION : 3.62\n",
      "COMMUNICATION : 3.57\n",
      "SPORTS : 3.54\n",
      "LIFESTYLE : 3.52\n",
      "FINANCE : 3.38\n",
      "HEALTH_AND_FITNESS : 3.15\n",
      "PHOTOGRAPHY : 3.09\n",
      "SOCIAL : 2.72\n",
      "NEWS_AND_MAGAZINES : 2.61\n",
      "SHOPPING : 2.4\n",
      "TRAVEL_AND_LOCAL : 2.38\n",
      "DATING : 2.16\n",
      "BOOKS_AND_REFERENCE : 2.13\n",
      "VIDEO_PLAYERS : 1.61\n",
      "EDUCATION : 1.44\n",
      "ENTERTAINMENT : 1.37\n",
      "MAPS_AND_NAVIGATION : 1.26\n",
      "FOOD_AND_DRINK : 1.17\n",
      "HOUSE_AND_HOME : 0.81\n",
      "LIBRARIES_AND_DEMO : 0.78\n",
      "AUTO_AND_VEHICLES : 0.78\n",
      "WEATHER : 0.76\n",
      "ART_AND_DESIGN : 0.6\n",
      "EVENTS : 0.59\n",
      "PARENTING : 0.55\n",
      "COMICS : 0.55\n",
      "BEAUTY : 0.49\n",
      "\n",
      "\n",
      "Tools : 7.77\n",
      "Entertainment : 5.75\n",
      "Education : 5.06\n",
      "Medical : 4.27\n",
      "Business : 4.24\n",
      "Productivity : 3.91\n",
      "Sports : 3.67\n",
      "Personalization : 3.62\n",
      "Communication : 3.57\n",
      "Lifestyle : 3.51\n",
      "Finance : 3.38\n",
      "Action : 3.37\n",
      "Health & Fitness : 3.15\n",
      "Photography : 3.09\n",
      "Social : 2.72\n",
      "News & Magazines : 2.61\n",
      "Shopping : 2.4\n",
      "Travel & Local : 2.37\n",
      "Dating : 2.16\n",
      "Books & Reference : 2.13\n",
      "Arcade : 2.03\n",
      "Simulation : 1.85\n",
      "Casual : 1.78\n",
      "Video Players & Editors : 1.6\n",
      "Puzzle : 1.29\n",
      "Maps & Navigation : 1.26\n",
      "Food & Drink : 1.17\n",
      "Role Playing : 1.01\n",
      "Strategy : 0.99\n",
      "Racing : 0.9\n",
      "House & Home : 0.81\n",
      "Libraries & Demo : 0.78\n",
      "Auto & Vehicles : 0.78\n",
      "Weather : 0.76\n",
      "Adventure : 0.69\n",
      "Events : 0.59\n",
      "Comics : 0.54\n",
      "Art & Design : 0.54\n",
      "Beauty : 0.49\n",
      "Education;Education : 0.46\n",
      "Card : 0.44\n",
      "Parenting : 0.42\n",
      "Board : 0.41\n",
      "Educational;Education : 0.38\n",
      "Casino : 0.36\n",
      "Trivia : 0.35\n",
      "Educational : 0.34\n",
      "Casual;Pretend Play : 0.29\n",
      "Word : 0.27\n",
      "Entertainment;Music & Video : 0.25\n",
      "Education;Pretend Play : 0.21\n",
      "Music : 0.2\n",
      "Casual;Action & Adventure : 0.19\n",
      "Racing;Action & Adventure : 0.18\n",
      "Puzzle;Brain Games : 0.18\n",
      "Educational;Pretend Play : 0.18\n",
      "Action;Action & Adventure : 0.16\n",
      "Arcade;Action & Adventure : 0.15\n",
      "Board;Brain Games : 0.14\n",
      "Casual;Brain Games : 0.12\n",
      "Adventure;Action & Adventure : 0.12\n",
      "Simulation;Action & Adventure : 0.1\n",
      "Entertainment;Brain Games : 0.07\n",
      "Role Playing;Action & Adventure : 0.06\n",
      "Parenting;Music & Video : 0.06\n",
      "Parenting;Education : 0.06\n",
      "Educational;Brain Games : 0.06\n",
      "Education;Creativity : 0.06\n",
      "Education;Action & Adventure : 0.06\n",
      "Casual;Creativity : 0.06\n",
      "Art & Design;Creativity : 0.06\n",
      "Role Playing;Pretend Play : 0.05\n",
      "Puzzle;Action & Adventure : 0.05\n",
      "Educational;Creativity : 0.05\n",
      "Education;Music & Video : 0.05\n",
      "Education;Brain Games : 0.05\n",
      "Sports;Action & Adventure : 0.04\n",
      "Simulation;Pretend Play : 0.04\n",
      "Educational;Action & Adventure : 0.04\n",
      "Video Players & Editors;Music & Video : 0.03\n",
      "Simulation;Education : 0.03\n",
      "Music;Music & Video : 0.03\n",
      "Entertainment;Creativity : 0.03\n",
      "Entertainment;Action & Adventure : 0.03\n",
      "Casual;Education : 0.03\n",
      "Board;Action & Adventure : 0.03\n",
      "Video Players & Editors;Creativity : 0.02\n",
      "Strategy;Action & Adventure : 0.02\n",
      "Puzzle;Creativity : 0.02\n",
      "Entertainment;Pretend Play : 0.02\n",
      "Casual;Music & Video : 0.02\n",
      "Card;Action & Adventure : 0.02\n",
      "Books & Reference;Education : 0.02\n",
      "Art & Design;Pretend Play : 0.02\n",
      "Art & Design;Action & Adventure : 0.02\n",
      "Adventure;Education : 0.02\n",
      "Trivia;Education : 0.01\n",
      "Travel & Local;Action & Adventure : 0.01\n",
      "Tools;Education : 0.01\n",
      "Strategy;Education : 0.01\n",
      "Strategy;Creativity : 0.01\n",
      "Role Playing;Education : 0.01\n",
      "Role Playing;Brain Games : 0.01\n",
      "Racing;Pretend Play : 0.01\n",
      "Puzzle;Education : 0.01\n",
      "Parenting;Brain Games : 0.01\n",
      "Music & Audio;Music & Video : 0.01\n",
      "Lifestyle;Pretend Play : 0.01\n",
      "Lifestyle;Education : 0.01\n",
      "Health & Fitness;Education : 0.01\n",
      "Health & Fitness;Action & Adventure : 0.01\n",
      "Entertainment;Education : 0.01\n",
      "Communication;Creativity : 0.01\n",
      "Comics;Creativity : 0.01\n",
      "Card;Brain Games : 0.01\n",
      "Books & Reference;Creativity : 0.01\n",
      "Board;Pretend Play : 0.01\n",
      "Arcade;Pretend Play : 0.01\n",
      "Adventure;Brain Games : 0.01\n",
      "\n",
      "\n",
      "Games : 53.66\n",
      "Entertainment : 7.43\n",
      "Education : 6.29\n",
      "Photo & Video : 4.85\n",
      "Utilities : 3.45\n",
      "Health & Fitness : 2.5\n",
      "Productivity : 2.47\n",
      "Social Networking : 2.32\n",
      "Lifestyle : 2.0\n",
      "Music : 1.92\n",
      "Shopping : 1.7\n",
      "Sports : 1.58\n",
      "Book : 1.56\n",
      "Finance : 1.45\n",
      "Travel : 1.13\n",
      "News : 1.04\n",
      "Weather : 1.0\n",
      "Reference : 0.89\n",
      "Food & Drink : 0.88\n",
      "Business : 0.79\n",
      "Navigation : 0.64\n",
      "Medical : 0.32\n",
      "Catalogs : 0.14\n",
      "\n",
      "\n"
     ]
    }
   ],
   "source": [
    "def freq_table(dataset, index):\n",
    "    freq_data = {}\n",
    "    num_apps = len(dataset)\n",
    "    for app in dataset:\n",
    "        data = app[index]\n",
    "        if data in freq_data:\n",
    "            freq_data[data] += 1\n",
    "        else:\n",
    "            freq_data[data] = 1\n",
    "    for data in freq_data:\n",
    "        freq_data[data] *=  (100/num_apps)\n",
    "        freq_data[data] = round(freq_data[data], 2)\n",
    "    return freq_data\n",
    "\n",
    "def display_table(dataset, index):\n",
    "    table = freq_table(dataset, index)\n",
    "    table_display = []\n",
    "    for key in table:\n",
    "        key_val_as_tuple = (table[key], key)\n",
    "        table_display.append(key_val_as_tuple)\n",
    "\n",
    "    table_sorted = sorted(table_display, reverse = True)\n",
    "    for entry in table_sorted:\n",
    "        print(entry[1], ':', entry[0])\n",
    "    print(\"\\n\")\n",
    "\n",
    "display_table(android, 1)\n",
    "display_table(android, 9)\n",
    "display_table(ios, 12)"
   ]
  },
  {
   "cell_type": "code",
   "execution_count": 18,
   "metadata": {},
   "outputs": [
    {
     "name": "stdout",
     "output_type": "stream",
     "text": [
      "{'Games': 53.66, 'Productivity': 2.47, 'Weather': 1.0, 'Shopping': 1.7, 'Reference': 0.89, 'Finance': 1.45, 'Music': 1.92, 'Utilities': 3.45, 'Travel': 1.13, 'Social Networking': 2.32, 'Sports': 1.58, 'Business': 0.79, 'Health & Fitness': 2.5, 'Entertainment': 7.43, 'Photo & Video': 4.85, 'Navigation': 0.64, 'Education': 6.29, 'Lifestyle': 2.0, 'Food & Drink': 0.88, 'News': 1.04, 'Book': 1.56, 'Medical': 0.32, 'Catalogs': 0.14}\n",
      "Games : 13692\n",
      "Productivity : 8051\n",
      "Weather : 22181\n",
      "Shopping : 18615\n",
      "Reference : 22411\n",
      "Finance : 11048\n",
      "Music : 28842\n",
      "Utilities : 6864\n",
      "Travel : 14129\n",
      "Social Networking : 45499\n",
      "Sports : 14027\n",
      "Business : 4788\n",
      "Health & Fitness : 9913\n",
      "Entertainment : 7534\n",
      "Photo & Video : 14352\n",
      "Navigation : 11854\n",
      "Education : 2239\n",
      "Lifestyle : 6162\n",
      "Food & Drink : 13939\n",
      "News : 13015\n",
      "Book : 5125\n",
      "Medical : 593\n",
      "Catalogs : 1732\n"
     ]
    }
   ],
   "source": [
    "prime_genre = freq_table(ios, 12)\n",
    "print(prime_genre)\n",
    "\n",
    "for genre in prime_genre:\n",
    "    total = 0\n",
    "    len_genre = 0\n",
    "    for app in ios:\n",
    "        if genre==app[12]:\n",
    "            total += int(app[6])\n",
    "            len_genre += 1\n",
    "    avg_ratings = total / len_genre\n",
    "    print(genre, \":\", round(avg_ratings) )   "
   ]
  },
  {
   "cell_type": "code",
   "execution_count": 19,
   "metadata": {},
   "outputs": [
    {
     "name": "stdout",
     "output_type": "stream",
     "text": [
      "ART_AND_DESIGN : 1912894\n",
      "AUTO_AND_VEHICLES : 625061\n",
      "BEAUTY : 513152\n",
      "BOOKS_AND_REFERENCE : 8318050\n",
      "BUSINESS : 2178076\n",
      "COMICS : 934769\n",
      "COMMUNICATION : 84359887\n",
      "DATING : 1129533\n",
      "EDUCATION : 5586231\n",
      "ENTERTAINMENT : 19256107\n",
      "EVENTS : 249581\n",
      "FINANCE : 2395215\n",
      "FOOD_AND_DRINK : 2156683\n",
      "HEALTH_AND_FITNESS : 4642441\n",
      "HOUSE_AND_HOME : 1917187\n",
      "LIBRARIES_AND_DEMO : 741128\n",
      "LIFESTYLE : 1407444\n",
      "GAME : 30669602\n",
      "FAMILY : 5201959\n",
      "MEDICAL : 115027\n",
      "SOCIAL : 47694467\n",
      "SHOPPING : 12491726\n",
      "PHOTOGRAPHY : 30114172\n",
      "SPORTS : 4560350\n",
      "TRAVEL_AND_LOCAL : 26623594\n",
      "TOOLS : 13585732\n",
      "PERSONALIZATION : 5932385\n",
      "PRODUCTIVITY : 33434178\n",
      "PARENTING : 525352\n",
      "WEATHER : 5196348\n",
      "VIDEO_PLAYERS : 35554301\n",
      "NEWS_AND_MAGAZINES : 26488755\n",
      "MAPS_AND_NAVIGATION : 5286729\n"
     ]
    }
   ],
   "source": [
    "category_dict = freq_table(android, 1)\n",
    "\n",
    "for category in category_dict:\n",
    "    total = 0\n",
    "    len_category= 0\n",
    "    for app in android:\n",
    "        category_app = app[1]\n",
    "        if category==category_app:\n",
    "            total += float(app[5].replace(\"+\", \"\").replace(\",\", \"\"))\n",
    "            len_category += 1\n",
    "    avg_installs = total / len_category\n",
    "    print(category, \":\", round(avg_installs) )   "
   ]
  }
 ],
 "metadata": {
  "kernelspec": {
   "display_name": "Python 3",
   "language": "python",
   "name": "python3"
  },
  "language_info": {
   "codemirror_mode": {
    "name": "ipython",
    "version": 3
   },
   "file_extension": ".py",
   "mimetype": "text/x-python",
   "name": "python",
   "nbconvert_exporter": "python",
   "pygments_lexer": "ipython3",
   "version": "3.6.0"
  }
 },
 "nbformat": 4,
 "nbformat_minor": 2
}
